{
  "cells": [
    {
      "cell_type": "markdown",
      "source": [
        "### Task 1"
      ],
      "metadata": {
        "id": "DJQTykIj5a99"
      }
    },
    {
      "cell_type": "code",
      "source": [
        "import json\n",
        "import pandas as pd\n",
        "import numpy as np\n",
        "from collections import Counter\n",
        "import warnings\n",
        "warnings.filterwarnings(\"ignore\")\n",
        "import seaborn as sns\n",
        "import matplotlib.pyplot as plt\n",
        "%matplotlib inline"
      ],
      "metadata": {
        "id": "mITj3svJONXB"
      },
      "execution_count": null,
      "outputs": []
    },
    {
      "cell_type": "code",
      "source": [
        "with open(file='NLP/3/train-v2.0.json',mode='r',encoding='utf-8') as input_file_stream:\n",
        "  dataset_json=json.load(input_file_stream)\n",
        "  dataset_json=dataset_json['data']\n",
        "  print(dataset_json[0]['paragraphs'][0]['qas'])\n",
        "  print(dataset_json[0]['paragraphs'][0]['context'])"
      ],
      "metadata": {
        "colab": {
          "base_uri": "https://localhost:8080/"
        },
        "id": "Ly3FYaUSOOrY",
        "outputId": "928573c1-702c-4c1b-a359-320835523501"
      },
      "execution_count": null,
      "outputs": [
        {
          "output_type": "stream",
          "name": "stdout",
          "text": [
            "[{'question': 'When did Beyonce start becoming popular?', 'id': '56be85543aeaaa14008c9063', 'answers': [{'text': 'in the late 1990s', 'answer_start': 269}], 'is_impossible': False}, {'question': 'What areas did Beyonce compete in when she was growing up?', 'id': '56be85543aeaaa14008c9065', 'answers': [{'text': 'singing and dancing', 'answer_start': 207}], 'is_impossible': False}, {'question': \"When did Beyonce leave Destiny's Child and become a solo singer?\", 'id': '56be85543aeaaa14008c9066', 'answers': [{'text': '2003', 'answer_start': 526}], 'is_impossible': False}, {'question': 'In what city and state did Beyonce  grow up? ', 'id': '56bf6b0f3aeaaa14008c9601', 'answers': [{'text': 'Houston, Texas', 'answer_start': 166}], 'is_impossible': False}, {'question': 'In which decade did Beyonce become famous?', 'id': '56bf6b0f3aeaaa14008c9602', 'answers': [{'text': 'late 1990s', 'answer_start': 276}], 'is_impossible': False}, {'question': 'In what R&B group was she the lead singer?', 'id': '56bf6b0f3aeaaa14008c9603', 'answers': [{'text': \"Destiny's Child\", 'answer_start': 320}], 'is_impossible': False}, {'question': 'What album made her a worldwide known artist?', 'id': '56bf6b0f3aeaaa14008c9604', 'answers': [{'text': 'Dangerously in Love', 'answer_start': 505}], 'is_impossible': False}, {'question': \"Who managed the Destiny's Child group?\", 'id': '56bf6b0f3aeaaa14008c9605', 'answers': [{'text': 'Mathew Knowles', 'answer_start': 360}], 'is_impossible': False}, {'question': 'When did Beyoncé rise to fame?', 'id': '56d43c5f2ccc5a1400d830a9', 'answers': [{'text': 'late 1990s', 'answer_start': 276}], 'is_impossible': False}, {'question': \"What role did Beyoncé have in Destiny's Child?\", 'id': '56d43c5f2ccc5a1400d830aa', 'answers': [{'text': 'lead singer', 'answer_start': 290}], 'is_impossible': False}, {'question': 'What was the first album Beyoncé released as a solo artist?', 'id': '56d43c5f2ccc5a1400d830ab', 'answers': [{'text': 'Dangerously in Love', 'answer_start': 505}], 'is_impossible': False}, {'question': 'When did Beyoncé release Dangerously in Love?', 'id': '56d43c5f2ccc5a1400d830ac', 'answers': [{'text': '2003', 'answer_start': 526}], 'is_impossible': False}, {'question': 'How many Grammy awards did Beyoncé win for her first solo album?', 'id': '56d43c5f2ccc5a1400d830ad', 'answers': [{'text': 'five', 'answer_start': 590}], 'is_impossible': False}, {'question': \"What was Beyoncé's role in Destiny's Child?\", 'id': '56d43ce42ccc5a1400d830b4', 'answers': [{'text': 'lead singer', 'answer_start': 290}], 'is_impossible': False}, {'question': \"What was the name of Beyoncé's first solo album?\", 'id': '56d43ce42ccc5a1400d830b5', 'answers': [{'text': 'Dangerously in Love', 'answer_start': 505}], 'is_impossible': False}]\n",
            "Beyoncé Giselle Knowles-Carter (/biːˈjɒnseɪ/ bee-YON-say) (born September 4, 1981) is an American singer, songwriter, record producer and actress. Born and raised in Houston, Texas, she performed in various singing and dancing competitions as a child, and rose to fame in the late 1990s as lead singer of R&B girl-group Destiny's Child. Managed by her father, Mathew Knowles, the group became one of the world's best-selling girl groups of all time. Their hiatus saw the release of Beyoncé's debut album, Dangerously in Love (2003), which established her as a solo artist worldwide, earned five Grammy Awards and featured the Billboard Hot 100 number-one singles \"Crazy in Love\" and \"Baby Boy\".\n"
          ]
        }
      ]
    },
    {
      "cell_type": "code",
      "source": [
        "# Process the json\n",
        "context_list=[]\n",
        "question_list=[]\n",
        "id_list=[]\n",
        "answers_list=[]\n",
        "answer_start_list=[]\n",
        "answer_end_list=[]\n",
        "is_impossible_list=[]\n",
        "\n",
        "for entry in dataset_json:\n",
        "  for paragraph in entry['paragraphs']:\n",
        "    for qa in paragraph['qas']:\n",
        "      for ans in qa['answers']:\n",
        "        context_list.append(paragraph['context'])\n",
        "        question_list.append(qa['question'])\n",
        "        id_list.append(qa['id'])\n",
        "        answers_list.append(ans['text'])\n",
        "        answer_start_list.append(ans['answer_start'])\n",
        "        answer_end_list.append(ans['answer_start']+len(ans['text']))\n",
        "        is_impossible_list.append(qa['is_impossible'])"
      ],
      "metadata": {
        "id": "_VlGaPsTP05W"
      },
      "execution_count": null,
      "outputs": []
    },
    {
      "cell_type": "code",
      "source": [
        "# Convert to DataFrame\n",
        "df_train=pd.DataFrame({\n",
        "    'context':context_list,\n",
        "    'question':question_list,\n",
        "    'id':id_list,\n",
        "    'answers':answers_list,\n",
        "    'answer_start':answer_start_list,\n",
        "    'answer_end':answer_end_list,\n",
        "    'is_impossible':is_impossible_list,\n",
        "  })\n",
        "\n",
        "print(df_train.shape)"
      ],
      "metadata": {
        "colab": {
          "base_uri": "https://localhost:8080/"
        },
        "id": "N039S8D1P0yx",
        "outputId": "f16a17bc-1500-4e0f-eede-f9f6bfed8263"
      },
      "execution_count": null,
      "outputs": [
        {
          "output_type": "stream",
          "name": "stdout",
          "text": [
            "(86821, 7)\n"
          ]
        }
      ]
    },
    {
      "cell_type": "code",
      "source": [
        "df_train.head()"
      ],
      "metadata": {
        "colab": {
          "base_uri": "https://localhost:8080/",
          "height": 206
        },
        "id": "toKkMZaxP0r-",
        "outputId": "ac73eab2-f7d7-43c4-81d8-5e73dea27092"
      },
      "execution_count": null,
      "outputs": [
        {
          "output_type": "execute_result",
          "data": {
            "text/plain": [
              "                                             context  \\\n",
              "0  Beyoncé Giselle Knowles-Carter (/biːˈjɒnseɪ/ b...   \n",
              "1  Beyoncé Giselle Knowles-Carter (/biːˈjɒnseɪ/ b...   \n",
              "2  Beyoncé Giselle Knowles-Carter (/biːˈjɒnseɪ/ b...   \n",
              "3  Beyoncé Giselle Knowles-Carter (/biːˈjɒnseɪ/ b...   \n",
              "4  Beyoncé Giselle Knowles-Carter (/biːˈjɒnseɪ/ b...   \n",
              "\n",
              "                                            question  \\\n",
              "0           When did Beyonce start becoming popular?   \n",
              "1  What areas did Beyonce compete in when she was...   \n",
              "2  When did Beyonce leave Destiny's Child and bec...   \n",
              "3      In what city and state did Beyonce  grow up?    \n",
              "4         In which decade did Beyonce become famous?   \n",
              "\n",
              "                         id              answers  answer_start  answer_end  \\\n",
              "0  56be85543aeaaa14008c9063    in the late 1990s           269         286   \n",
              "1  56be85543aeaaa14008c9065  singing and dancing           207         226   \n",
              "2  56be85543aeaaa14008c9066                 2003           526         530   \n",
              "3  56bf6b0f3aeaaa14008c9601       Houston, Texas           166         180   \n",
              "4  56bf6b0f3aeaaa14008c9602           late 1990s           276         286   \n",
              "\n",
              "   is_impossible  \n",
              "0          False  \n",
              "1          False  \n",
              "2          False  \n",
              "3          False  \n",
              "4          False  "
            ],
            "text/html": [
              "\n",
              "  <div id=\"df-54906d89-0583-4442-b33e-410528565738\" class=\"colab-df-container\">\n",
              "    <div>\n",
              "<style scoped>\n",
              "    .dataframe tbody tr th:only-of-type {\n",
              "        vertical-align: middle;\n",
              "    }\n",
              "\n",
              "    .dataframe tbody tr th {\n",
              "        vertical-align: top;\n",
              "    }\n",
              "\n",
              "    .dataframe thead th {\n",
              "        text-align: right;\n",
              "    }\n",
              "</style>\n",
              "<table border=\"1\" class=\"dataframe\">\n",
              "  <thead>\n",
              "    <tr style=\"text-align: right;\">\n",
              "      <th></th>\n",
              "      <th>context</th>\n",
              "      <th>question</th>\n",
              "      <th>id</th>\n",
              "      <th>answers</th>\n",
              "      <th>answer_start</th>\n",
              "      <th>answer_end</th>\n",
              "      <th>is_impossible</th>\n",
              "    </tr>\n",
              "  </thead>\n",
              "  <tbody>\n",
              "    <tr>\n",
              "      <th>0</th>\n",
              "      <td>Beyoncé Giselle Knowles-Carter (/biːˈjɒnseɪ/ b...</td>\n",
              "      <td>When did Beyonce start becoming popular?</td>\n",
              "      <td>56be85543aeaaa14008c9063</td>\n",
              "      <td>in the late 1990s</td>\n",
              "      <td>269</td>\n",
              "      <td>286</td>\n",
              "      <td>False</td>\n",
              "    </tr>\n",
              "    <tr>\n",
              "      <th>1</th>\n",
              "      <td>Beyoncé Giselle Knowles-Carter (/biːˈjɒnseɪ/ b...</td>\n",
              "      <td>What areas did Beyonce compete in when she was...</td>\n",
              "      <td>56be85543aeaaa14008c9065</td>\n",
              "      <td>singing and dancing</td>\n",
              "      <td>207</td>\n",
              "      <td>226</td>\n",
              "      <td>False</td>\n",
              "    </tr>\n",
              "    <tr>\n",
              "      <th>2</th>\n",
              "      <td>Beyoncé Giselle Knowles-Carter (/biːˈjɒnseɪ/ b...</td>\n",
              "      <td>When did Beyonce leave Destiny's Child and bec...</td>\n",
              "      <td>56be85543aeaaa14008c9066</td>\n",
              "      <td>2003</td>\n",
              "      <td>526</td>\n",
              "      <td>530</td>\n",
              "      <td>False</td>\n",
              "    </tr>\n",
              "    <tr>\n",
              "      <th>3</th>\n",
              "      <td>Beyoncé Giselle Knowles-Carter (/biːˈjɒnseɪ/ b...</td>\n",
              "      <td>In what city and state did Beyonce  grow up?</td>\n",
              "      <td>56bf6b0f3aeaaa14008c9601</td>\n",
              "      <td>Houston, Texas</td>\n",
              "      <td>166</td>\n",
              "      <td>180</td>\n",
              "      <td>False</td>\n",
              "    </tr>\n",
              "    <tr>\n",
              "      <th>4</th>\n",
              "      <td>Beyoncé Giselle Knowles-Carter (/biːˈjɒnseɪ/ b...</td>\n",
              "      <td>In which decade did Beyonce become famous?</td>\n",
              "      <td>56bf6b0f3aeaaa14008c9602</td>\n",
              "      <td>late 1990s</td>\n",
              "      <td>276</td>\n",
              "      <td>286</td>\n",
              "      <td>False</td>\n",
              "    </tr>\n",
              "  </tbody>\n",
              "</table>\n",
              "</div>\n",
              "    <div class=\"colab-df-buttons\">\n",
              "\n",
              "  <div class=\"colab-df-container\">\n",
              "    <button class=\"colab-df-convert\" onclick=\"convertToInteractive('df-54906d89-0583-4442-b33e-410528565738')\"\n",
              "            title=\"Convert this dataframe to an interactive table.\"\n",
              "            style=\"display:none;\">\n",
              "\n",
              "  <svg xmlns=\"http://www.w3.org/2000/svg\" height=\"24px\" viewBox=\"0 -960 960 960\">\n",
              "    <path d=\"M120-120v-720h720v720H120Zm60-500h600v-160H180v160Zm220 220h160v-160H400v160Zm0 220h160v-160H400v160ZM180-400h160v-160H180v160Zm440 0h160v-160H620v160ZM180-180h160v-160H180v160Zm440 0h160v-160H620v160Z\"/>\n",
              "  </svg>\n",
              "    </button>\n",
              "\n",
              "  <style>\n",
              "    .colab-df-container {\n",
              "      display:flex;\n",
              "      gap: 12px;\n",
              "    }\n",
              "\n",
              "    .colab-df-convert {\n",
              "      background-color: #E8F0FE;\n",
              "      border: none;\n",
              "      border-radius: 50%;\n",
              "      cursor: pointer;\n",
              "      display: none;\n",
              "      fill: #1967D2;\n",
              "      height: 32px;\n",
              "      padding: 0 0 0 0;\n",
              "      width: 32px;\n",
              "    }\n",
              "\n",
              "    .colab-df-convert:hover {\n",
              "      background-color: #E2EBFA;\n",
              "      box-shadow: 0px 1px 2px rgba(60, 64, 67, 0.3), 0px 1px 3px 1px rgba(60, 64, 67, 0.15);\n",
              "      fill: #174EA6;\n",
              "    }\n",
              "\n",
              "    .colab-df-buttons div {\n",
              "      margin-bottom: 4px;\n",
              "    }\n",
              "\n",
              "    [theme=dark] .colab-df-convert {\n",
              "      background-color: #3B4455;\n",
              "      fill: #D2E3FC;\n",
              "    }\n",
              "\n",
              "    [theme=dark] .colab-df-convert:hover {\n",
              "      background-color: #434B5C;\n",
              "      box-shadow: 0px 1px 3px 1px rgba(0, 0, 0, 0.15);\n",
              "      filter: drop-shadow(0px 1px 2px rgba(0, 0, 0, 0.3));\n",
              "      fill: #FFFFFF;\n",
              "    }\n",
              "  </style>\n",
              "\n",
              "    <script>\n",
              "      const buttonEl =\n",
              "        document.querySelector('#df-54906d89-0583-4442-b33e-410528565738 button.colab-df-convert');\n",
              "      buttonEl.style.display =\n",
              "        google.colab.kernel.accessAllowed ? 'block' : 'none';\n",
              "\n",
              "      async function convertToInteractive(key) {\n",
              "        const element = document.querySelector('#df-54906d89-0583-4442-b33e-410528565738');\n",
              "        const dataTable =\n",
              "          await google.colab.kernel.invokeFunction('convertToInteractive',\n",
              "                                                    [key], {});\n",
              "        if (!dataTable) return;\n",
              "\n",
              "        const docLinkHtml = 'Like what you see? Visit the ' +\n",
              "          '<a target=\"_blank\" href=https://colab.research.google.com/notebooks/data_table.ipynb>data table notebook</a>'\n",
              "          + ' to learn more about interactive tables.';\n",
              "        element.innerHTML = '';\n",
              "        dataTable['output_type'] = 'display_data';\n",
              "        await google.colab.output.renderOutput(dataTable, element);\n",
              "        const docLink = document.createElement('div');\n",
              "        docLink.innerHTML = docLinkHtml;\n",
              "        element.appendChild(docLink);\n",
              "      }\n",
              "    </script>\n",
              "  </div>\n",
              "\n",
              "\n",
              "<div id=\"df-71c3ed5a-c673-4037-b829-5d0db4f26cbe\">\n",
              "  <button class=\"colab-df-quickchart\" onclick=\"quickchart('df-71c3ed5a-c673-4037-b829-5d0db4f26cbe')\"\n",
              "            title=\"Suggest charts\"\n",
              "            style=\"display:none;\">\n",
              "\n",
              "<svg xmlns=\"http://www.w3.org/2000/svg\" height=\"24px\"viewBox=\"0 0 24 24\"\n",
              "     width=\"24px\">\n",
              "    <g>\n",
              "        <path d=\"M19 3H5c-1.1 0-2 .9-2 2v14c0 1.1.9 2 2 2h14c1.1 0 2-.9 2-2V5c0-1.1-.9-2-2-2zM9 17H7v-7h2v7zm4 0h-2V7h2v10zm4 0h-2v-4h2v4z\"/>\n",
              "    </g>\n",
              "</svg>\n",
              "  </button>\n",
              "\n",
              "<style>\n",
              "  .colab-df-quickchart {\n",
              "      --bg-color: #E8F0FE;\n",
              "      --fill-color: #1967D2;\n",
              "      --hover-bg-color: #E2EBFA;\n",
              "      --hover-fill-color: #174EA6;\n",
              "      --disabled-fill-color: #AAA;\n",
              "      --disabled-bg-color: #DDD;\n",
              "  }\n",
              "\n",
              "  [theme=dark] .colab-df-quickchart {\n",
              "      --bg-color: #3B4455;\n",
              "      --fill-color: #D2E3FC;\n",
              "      --hover-bg-color: #434B5C;\n",
              "      --hover-fill-color: #FFFFFF;\n",
              "      --disabled-bg-color: #3B4455;\n",
              "      --disabled-fill-color: #666;\n",
              "  }\n",
              "\n",
              "  .colab-df-quickchart {\n",
              "    background-color: var(--bg-color);\n",
              "    border: none;\n",
              "    border-radius: 50%;\n",
              "    cursor: pointer;\n",
              "    display: none;\n",
              "    fill: var(--fill-color);\n",
              "    height: 32px;\n",
              "    padding: 0;\n",
              "    width: 32px;\n",
              "  }\n",
              "\n",
              "  .colab-df-quickchart:hover {\n",
              "    background-color: var(--hover-bg-color);\n",
              "    box-shadow: 0 1px 2px rgba(60, 64, 67, 0.3), 0 1px 3px 1px rgba(60, 64, 67, 0.15);\n",
              "    fill: var(--button-hover-fill-color);\n",
              "  }\n",
              "\n",
              "  .colab-df-quickchart-complete:disabled,\n",
              "  .colab-df-quickchart-complete:disabled:hover {\n",
              "    background-color: var(--disabled-bg-color);\n",
              "    fill: var(--disabled-fill-color);\n",
              "    box-shadow: none;\n",
              "  }\n",
              "\n",
              "  .colab-df-spinner {\n",
              "    border: 2px solid var(--fill-color);\n",
              "    border-color: transparent;\n",
              "    border-bottom-color: var(--fill-color);\n",
              "    animation:\n",
              "      spin 1s steps(1) infinite;\n",
              "  }\n",
              "\n",
              "  @keyframes spin {\n",
              "    0% {\n",
              "      border-color: transparent;\n",
              "      border-bottom-color: var(--fill-color);\n",
              "      border-left-color: var(--fill-color);\n",
              "    }\n",
              "    20% {\n",
              "      border-color: transparent;\n",
              "      border-left-color: var(--fill-color);\n",
              "      border-top-color: var(--fill-color);\n",
              "    }\n",
              "    30% {\n",
              "      border-color: transparent;\n",
              "      border-left-color: var(--fill-color);\n",
              "      border-top-color: var(--fill-color);\n",
              "      border-right-color: var(--fill-color);\n",
              "    }\n",
              "    40% {\n",
              "      border-color: transparent;\n",
              "      border-right-color: var(--fill-color);\n",
              "      border-top-color: var(--fill-color);\n",
              "    }\n",
              "    60% {\n",
              "      border-color: transparent;\n",
              "      border-right-color: var(--fill-color);\n",
              "    }\n",
              "    80% {\n",
              "      border-color: transparent;\n",
              "      border-right-color: var(--fill-color);\n",
              "      border-bottom-color: var(--fill-color);\n",
              "    }\n",
              "    90% {\n",
              "      border-color: transparent;\n",
              "      border-bottom-color: var(--fill-color);\n",
              "    }\n",
              "  }\n",
              "</style>\n",
              "\n",
              "  <script>\n",
              "    async function quickchart(key) {\n",
              "      const quickchartButtonEl =\n",
              "        document.querySelector('#' + key + ' button');\n",
              "      quickchartButtonEl.disabled = true;  // To prevent multiple clicks.\n",
              "      quickchartButtonEl.classList.add('colab-df-spinner');\n",
              "      try {\n",
              "        const charts = await google.colab.kernel.invokeFunction(\n",
              "            'suggestCharts', [key], {});\n",
              "      } catch (error) {\n",
              "        console.error('Error during call to suggestCharts:', error);\n",
              "      }\n",
              "      quickchartButtonEl.classList.remove('colab-df-spinner');\n",
              "      quickchartButtonEl.classList.add('colab-df-quickchart-complete');\n",
              "    }\n",
              "    (() => {\n",
              "      let quickchartButtonEl =\n",
              "        document.querySelector('#df-71c3ed5a-c673-4037-b829-5d0db4f26cbe button');\n",
              "      quickchartButtonEl.style.display =\n",
              "        google.colab.kernel.accessAllowed ? 'block' : 'none';\n",
              "    })();\n",
              "  </script>\n",
              "</div>\n",
              "\n",
              "    </div>\n",
              "  </div>\n"
            ],
            "application/vnd.google.colaboratory.intrinsic+json": {
              "type": "dataframe",
              "variable_name": "df_train",
              "summary": "{\n  \"name\": \"df_train\",\n  \"rows\": 86821,\n  \"fields\": [\n    {\n      \"column\": \"context\",\n      \"properties\": {\n        \"dtype\": \"category\",\n        \"num_unique_values\": 18877,\n        \"samples\": [\n          \"As of 21 February 2016[update] Spectre has grossed $879.3 million worldwide; $138.1 million of the takings have been generated from the UK market and $199.8 million from North America.\",\n          \"There are eight Island Courts and Lands Courts; appeals in relation to land disputes are made to the Lands Courts Appeal Panel. Appeals from the Island Courts and the Lands Courts Appeal Panel are made to the Magistrates Court, which has jurisdiction to hear civil cases involving up to $T10,000. The superior court is the High Court of Tuvalu as it has unlimited original jurisdiction to determine the Law of Tuvalu and to hear appeals from the lower courts. Sir Gordon Ward is the current Chief Justice of Tuvalu. Rulings of the High Court can be appealed to the Court of Appeal of Tuvalu. From the Court of Appeal there is a right of appeal to Her Majesty in Council, i.e., the Privy Council in London.\",\n          \"From 1966, Witness publications and convention talks built anticipation of the possibility that Christ's thousand-year reign might begin in late 1975 or shortly thereafter. The number of baptisms increased significantly, from about 59,000 in 1966 to more than 297,000 in 1974. By 1975, the number of active members exceeded two million. Membership declined during the late 1970s after expectations for 1975 were proved wrong. Watch Tower Society literature did not state dogmatically that 1975 would definitely mark the end, but in 1980 the Watch Tower Society admitted its responsibility in building up hope regarding that year.\"\n        ],\n        \"semantic_type\": \"\",\n        \"description\": \"\"\n      }\n    },\n    {\n      \"column\": \"question\",\n      \"properties\": {\n        \"dtype\": \"string\",\n        \"num_unique_values\": 86769,\n        \"samples\": [\n          \"Who used tuple calculus to show the functionality of databases?\",\n          \"What value system do Western scholars tend to use in analyzing societies?\",\n          \"What do live tiles do?\"\n        ],\n        \"semantic_type\": \"\",\n        \"description\": \"\"\n      }\n    },\n    {\n      \"column\": \"id\",\n      \"properties\": {\n        \"dtype\": \"string\",\n        \"num_unique_values\": 86821,\n        \"samples\": [\n          \"56fa4285f34c681400b0c03b\",\n          \"57325f03b9d445190005eabe\",\n          \"56df4feb96943c1400a5d379\"\n        ],\n        \"semantic_type\": \"\",\n        \"description\": \"\"\n      }\n    },\n    {\n      \"column\": \"answers\",\n      \"properties\": {\n        \"dtype\": \"string\",\n        \"num_unique_values\": 64763,\n        \"samples\": [\n          \"other animals early in evolution\",\n          \"$140.4 billion\",\n          \"Android devices, Apple's iPhone and iPad\"\n        ],\n        \"semantic_type\": \"\",\n        \"description\": \"\"\n      }\n    },\n    {\n      \"column\": \"answer_start\",\n      \"properties\": {\n        \"dtype\": \"number\",\n        \"std\": 266,\n        \"min\": 0,\n        \"max\": 3126,\n        \"num_unique_values\": 1603,\n        \"samples\": [\n          217,\n          1056,\n          1163\n        ],\n        \"semantic_type\": \"\",\n        \"description\": \"\"\n      }\n    },\n    {\n      \"column\": \"answer_end\",\n      \"properties\": {\n        \"dtype\": \"number\",\n        \"std\": 267,\n        \"min\": 1,\n        \"max\": 3136,\n        \"num_unique_values\": 1613,\n        \"samples\": [\n          346,\n          437,\n          693\n        ],\n        \"semantic_type\": \"\",\n        \"description\": \"\"\n      }\n    },\n    {\n      \"column\": \"is_impossible\",\n      \"properties\": {\n        \"dtype\": \"boolean\",\n        \"num_unique_values\": 1,\n        \"samples\": [\n          false\n        ],\n        \"semantic_type\": \"\",\n        \"description\": \"\"\n      }\n    }\n  ]\n}"
            }
          },
          "metadata": {},
          "execution_count": 11
        }
      ]
    },
    {
      "cell_type": "code",
      "source": [
        "df_train.to_csv('NLP/3/df_train_CompleteDataSet.csv',index=False)"
      ],
      "metadata": {
        "id": "4MCCT5_cGQ3l"
      },
      "execution_count": null,
      "outputs": []
    },
    {
      "cell_type": "code",
      "source": [
        "df_train['is_impossible'].value_counts()"
      ],
      "metadata": {
        "colab": {
          "base_uri": "https://localhost:8080/"
        },
        "id": "eJOG983RyHuO",
        "outputId": "278bbf54-c69c-4e1d-9540-1e162fac12e8"
      },
      "execution_count": null,
      "outputs": [
        {
          "output_type": "execute_result",
          "data": {
            "text/plain": [
              "is_impossible\n",
              "False    86821\n",
              "Name: count, dtype: int64"
            ]
          },
          "metadata": {},
          "execution_count": 11
        }
      ]
    },
    {
      "cell_type": "code",
      "source": [
        "df_train['context'].nunique()"
      ],
      "metadata": {
        "colab": {
          "base_uri": "https://localhost:8080/"
        },
        "id": "FpE5ERRy1dGz",
        "outputId": "1b5796e1-c69a-49aa-9aeb-e5f98280a9bb"
      },
      "execution_count": null,
      "outputs": [
        {
          "output_type": "execute_result",
          "data": {
            "text/plain": [
              "18877"
            ]
          },
          "metadata": {},
          "execution_count": 12
        }
      ]
    },
    {
      "cell_type": "code",
      "source": [
        "unique_context_df=df_train['context'].value_counts().reset_index()\n",
        "print(unique_context_df.shape)"
      ],
      "metadata": {
        "colab": {
          "base_uri": "https://localhost:8080/"
        },
        "id": "lmvLYtWp1ifc",
        "outputId": "c471fe6d-5bb8-423a-d5bb-e7cb78739dea"
      },
      "execution_count": null,
      "outputs": [
        {
          "output_type": "stream",
          "name": "stdout",
          "text": [
            "(18877, 2)\n"
          ]
        }
      ]
    },
    {
      "cell_type": "code",
      "source": [
        "unique_context_df.head()"
      ],
      "metadata": {
        "colab": {
          "base_uri": "https://localhost:8080/",
          "height": 206
        },
        "id": "j2lmu2n7132F",
        "outputId": "03e93d0c-b97d-4237-f84f-df792745c0d6"
      },
      "execution_count": null,
      "outputs": [
        {
          "output_type": "execute_result",
          "data": {
            "text/plain": [
              "                                             context  count\n",
              "0  Victoria married her first cousin, Prince Albe...     25\n",
              "1  In 1853, Victoria gave birth to her eighth chi...     25\n",
              "2  Victoria later described her childhood as \"rat...     23\n",
              "3  In March 1861, Victoria's mother died, with Vi...     20\n",
              "4  On 2 March 1882, Roderick Maclean, a disgruntl...     20"
            ],
            "text/html": [
              "\n",
              "  <div id=\"df-99017ae0-0eb6-4075-9870-3adcc81a91dc\" class=\"colab-df-container\">\n",
              "    <div>\n",
              "<style scoped>\n",
              "    .dataframe tbody tr th:only-of-type {\n",
              "        vertical-align: middle;\n",
              "    }\n",
              "\n",
              "    .dataframe tbody tr th {\n",
              "        vertical-align: top;\n",
              "    }\n",
              "\n",
              "    .dataframe thead th {\n",
              "        text-align: right;\n",
              "    }\n",
              "</style>\n",
              "<table border=\"1\" class=\"dataframe\">\n",
              "  <thead>\n",
              "    <tr style=\"text-align: right;\">\n",
              "      <th></th>\n",
              "      <th>context</th>\n",
              "      <th>count</th>\n",
              "    </tr>\n",
              "  </thead>\n",
              "  <tbody>\n",
              "    <tr>\n",
              "      <th>0</th>\n",
              "      <td>Victoria married her first cousin, Prince Albe...</td>\n",
              "      <td>25</td>\n",
              "    </tr>\n",
              "    <tr>\n",
              "      <th>1</th>\n",
              "      <td>In 1853, Victoria gave birth to her eighth chi...</td>\n",
              "      <td>25</td>\n",
              "    </tr>\n",
              "    <tr>\n",
              "      <th>2</th>\n",
              "      <td>Victoria later described her childhood as \"rat...</td>\n",
              "      <td>23</td>\n",
              "    </tr>\n",
              "    <tr>\n",
              "      <th>3</th>\n",
              "      <td>In March 1861, Victoria's mother died, with Vi...</td>\n",
              "      <td>20</td>\n",
              "    </tr>\n",
              "    <tr>\n",
              "      <th>4</th>\n",
              "      <td>On 2 March 1882, Roderick Maclean, a disgruntl...</td>\n",
              "      <td>20</td>\n",
              "    </tr>\n",
              "  </tbody>\n",
              "</table>\n",
              "</div>\n",
              "    <div class=\"colab-df-buttons\">\n",
              "\n",
              "  <div class=\"colab-df-container\">\n",
              "    <button class=\"colab-df-convert\" onclick=\"convertToInteractive('df-99017ae0-0eb6-4075-9870-3adcc81a91dc')\"\n",
              "            title=\"Convert this dataframe to an interactive table.\"\n",
              "            style=\"display:none;\">\n",
              "\n",
              "  <svg xmlns=\"http://www.w3.org/2000/svg\" height=\"24px\" viewBox=\"0 -960 960 960\">\n",
              "    <path d=\"M120-120v-720h720v720H120Zm60-500h600v-160H180v160Zm220 220h160v-160H400v160Zm0 220h160v-160H400v160ZM180-400h160v-160H180v160Zm440 0h160v-160H620v160ZM180-180h160v-160H180v160Zm440 0h160v-160H620v160Z\"/>\n",
              "  </svg>\n",
              "    </button>\n",
              "\n",
              "  <style>\n",
              "    .colab-df-container {\n",
              "      display:flex;\n",
              "      gap: 12px;\n",
              "    }\n",
              "\n",
              "    .colab-df-convert {\n",
              "      background-color: #E8F0FE;\n",
              "      border: none;\n",
              "      border-radius: 50%;\n",
              "      cursor: pointer;\n",
              "      display: none;\n",
              "      fill: #1967D2;\n",
              "      height: 32px;\n",
              "      padding: 0 0 0 0;\n",
              "      width: 32px;\n",
              "    }\n",
              "\n",
              "    .colab-df-convert:hover {\n",
              "      background-color: #E2EBFA;\n",
              "      box-shadow: 0px 1px 2px rgba(60, 64, 67, 0.3), 0px 1px 3px 1px rgba(60, 64, 67, 0.15);\n",
              "      fill: #174EA6;\n",
              "    }\n",
              "\n",
              "    .colab-df-buttons div {\n",
              "      margin-bottom: 4px;\n",
              "    }\n",
              "\n",
              "    [theme=dark] .colab-df-convert {\n",
              "      background-color: #3B4455;\n",
              "      fill: #D2E3FC;\n",
              "    }\n",
              "\n",
              "    [theme=dark] .colab-df-convert:hover {\n",
              "      background-color: #434B5C;\n",
              "      box-shadow: 0px 1px 3px 1px rgba(0, 0, 0, 0.15);\n",
              "      filter: drop-shadow(0px 1px 2px rgba(0, 0, 0, 0.3));\n",
              "      fill: #FFFFFF;\n",
              "    }\n",
              "  </style>\n",
              "\n",
              "    <script>\n",
              "      const buttonEl =\n",
              "        document.querySelector('#df-99017ae0-0eb6-4075-9870-3adcc81a91dc button.colab-df-convert');\n",
              "      buttonEl.style.display =\n",
              "        google.colab.kernel.accessAllowed ? 'block' : 'none';\n",
              "\n",
              "      async function convertToInteractive(key) {\n",
              "        const element = document.querySelector('#df-99017ae0-0eb6-4075-9870-3adcc81a91dc');\n",
              "        const dataTable =\n",
              "          await google.colab.kernel.invokeFunction('convertToInteractive',\n",
              "                                                    [key], {});\n",
              "        if (!dataTable) return;\n",
              "\n",
              "        const docLinkHtml = 'Like what you see? Visit the ' +\n",
              "          '<a target=\"_blank\" href=https://colab.research.google.com/notebooks/data_table.ipynb>data table notebook</a>'\n",
              "          + ' to learn more about interactive tables.';\n",
              "        element.innerHTML = '';\n",
              "        dataTable['output_type'] = 'display_data';\n",
              "        await google.colab.output.renderOutput(dataTable, element);\n",
              "        const docLink = document.createElement('div');\n",
              "        docLink.innerHTML = docLinkHtml;\n",
              "        element.appendChild(docLink);\n",
              "      }\n",
              "    </script>\n",
              "  </div>\n",
              "\n",
              "\n",
              "<div id=\"df-8c4b4497-961d-4176-97a6-449bff6e2444\">\n",
              "  <button class=\"colab-df-quickchart\" onclick=\"quickchart('df-8c4b4497-961d-4176-97a6-449bff6e2444')\"\n",
              "            title=\"Suggest charts\"\n",
              "            style=\"display:none;\">\n",
              "\n",
              "<svg xmlns=\"http://www.w3.org/2000/svg\" height=\"24px\"viewBox=\"0 0 24 24\"\n",
              "     width=\"24px\">\n",
              "    <g>\n",
              "        <path d=\"M19 3H5c-1.1 0-2 .9-2 2v14c0 1.1.9 2 2 2h14c1.1 0 2-.9 2-2V5c0-1.1-.9-2-2-2zM9 17H7v-7h2v7zm4 0h-2V7h2v10zm4 0h-2v-4h2v4z\"/>\n",
              "    </g>\n",
              "</svg>\n",
              "  </button>\n",
              "\n",
              "<style>\n",
              "  .colab-df-quickchart {\n",
              "      --bg-color: #E8F0FE;\n",
              "      --fill-color: #1967D2;\n",
              "      --hover-bg-color: #E2EBFA;\n",
              "      --hover-fill-color: #174EA6;\n",
              "      --disabled-fill-color: #AAA;\n",
              "      --disabled-bg-color: #DDD;\n",
              "  }\n",
              "\n",
              "  [theme=dark] .colab-df-quickchart {\n",
              "      --bg-color: #3B4455;\n",
              "      --fill-color: #D2E3FC;\n",
              "      --hover-bg-color: #434B5C;\n",
              "      --hover-fill-color: #FFFFFF;\n",
              "      --disabled-bg-color: #3B4455;\n",
              "      --disabled-fill-color: #666;\n",
              "  }\n",
              "\n",
              "  .colab-df-quickchart {\n",
              "    background-color: var(--bg-color);\n",
              "    border: none;\n",
              "    border-radius: 50%;\n",
              "    cursor: pointer;\n",
              "    display: none;\n",
              "    fill: var(--fill-color);\n",
              "    height: 32px;\n",
              "    padding: 0;\n",
              "    width: 32px;\n",
              "  }\n",
              "\n",
              "  .colab-df-quickchart:hover {\n",
              "    background-color: var(--hover-bg-color);\n",
              "    box-shadow: 0 1px 2px rgba(60, 64, 67, 0.3), 0 1px 3px 1px rgba(60, 64, 67, 0.15);\n",
              "    fill: var(--button-hover-fill-color);\n",
              "  }\n",
              "\n",
              "  .colab-df-quickchart-complete:disabled,\n",
              "  .colab-df-quickchart-complete:disabled:hover {\n",
              "    background-color: var(--disabled-bg-color);\n",
              "    fill: var(--disabled-fill-color);\n",
              "    box-shadow: none;\n",
              "  }\n",
              "\n",
              "  .colab-df-spinner {\n",
              "    border: 2px solid var(--fill-color);\n",
              "    border-color: transparent;\n",
              "    border-bottom-color: var(--fill-color);\n",
              "    animation:\n",
              "      spin 1s steps(1) infinite;\n",
              "  }\n",
              "\n",
              "  @keyframes spin {\n",
              "    0% {\n",
              "      border-color: transparent;\n",
              "      border-bottom-color: var(--fill-color);\n",
              "      border-left-color: var(--fill-color);\n",
              "    }\n",
              "    20% {\n",
              "      border-color: transparent;\n",
              "      border-left-color: var(--fill-color);\n",
              "      border-top-color: var(--fill-color);\n",
              "    }\n",
              "    30% {\n",
              "      border-color: transparent;\n",
              "      border-left-color: var(--fill-color);\n",
              "      border-top-color: var(--fill-color);\n",
              "      border-right-color: var(--fill-color);\n",
              "    }\n",
              "    40% {\n",
              "      border-color: transparent;\n",
              "      border-right-color: var(--fill-color);\n",
              "      border-top-color: var(--fill-color);\n",
              "    }\n",
              "    60% {\n",
              "      border-color: transparent;\n",
              "      border-right-color: var(--fill-color);\n",
              "    }\n",
              "    80% {\n",
              "      border-color: transparent;\n",
              "      border-right-color: var(--fill-color);\n",
              "      border-bottom-color: var(--fill-color);\n",
              "    }\n",
              "    90% {\n",
              "      border-color: transparent;\n",
              "      border-bottom-color: var(--fill-color);\n",
              "    }\n",
              "  }\n",
              "</style>\n",
              "\n",
              "  <script>\n",
              "    async function quickchart(key) {\n",
              "      const quickchartButtonEl =\n",
              "        document.querySelector('#' + key + ' button');\n",
              "      quickchartButtonEl.disabled = true;  // To prevent multiple clicks.\n",
              "      quickchartButtonEl.classList.add('colab-df-spinner');\n",
              "      try {\n",
              "        const charts = await google.colab.kernel.invokeFunction(\n",
              "            'suggestCharts', [key], {});\n",
              "      } catch (error) {\n",
              "        console.error('Error during call to suggestCharts:', error);\n",
              "      }\n",
              "      quickchartButtonEl.classList.remove('colab-df-spinner');\n",
              "      quickchartButtonEl.classList.add('colab-df-quickchart-complete');\n",
              "    }\n",
              "    (() => {\n",
              "      let quickchartButtonEl =\n",
              "        document.querySelector('#df-8c4b4497-961d-4176-97a6-449bff6e2444 button');\n",
              "      quickchartButtonEl.style.display =\n",
              "        google.colab.kernel.accessAllowed ? 'block' : 'none';\n",
              "    })();\n",
              "  </script>\n",
              "</div>\n",
              "\n",
              "    </div>\n",
              "  </div>\n"
            ],
            "application/vnd.google.colaboratory.intrinsic+json": {
              "type": "dataframe",
              "variable_name": "unique_context_df",
              "summary": "{\n  \"name\": \"unique_context_df\",\n  \"rows\": 18877,\n  \"fields\": [\n    {\n      \"column\": \"context\",\n      \"properties\": {\n        \"dtype\": \"string\",\n        \"num_unique_values\": 18877,\n        \"samples\": [\n          \"In the audition rounds, 121 contestants were selected from around 10,000 who attended the auditions. These were cut to 30 for the semifinal, with ten going on to the finals. One semifinalist, Delano Cagnolatti, was disqualified for lying to evade the show's age limit. One of the early favorites, Tamyra Gray, was eliminated at the top four, the first of several such shock eliminations that were to be repeated in later seasons. Christina Christian was hospitalized before the top six result show due to chest pains and palpitations, and she was eliminated while she was in the hospital. Jim Verraros was the first openly gay contestant on the show; his sexual orientation was revealed in his online journal, however it was removed during the competition after a request from the show producers over concerns that it might be unfairly influencing votes.\",\n          \"There are also many large plants under construction. The Desert Sunlight Solar Farm under construction in Riverside County, California and Topaz Solar Farm being built in San Luis Obispo County, California are both 550 MW solar parks that will use thin-film solar photovoltaic modules made by First Solar. The Blythe Solar Power Project is a 500 MW photovoltaic station under construction in Riverside County, California. The California Valley Solar Ranch (CVSR) is a 250 megawatt (MW) solar photovoltaic power plant, which is being built by SunPower in the Carrizo Plain, northeast of California Valley. The 230 MW Antelope Valley Solar Ranch is a First Solar photovoltaic project which is under construction in the Antelope Valley area of the Western Mojave Desert, and due to be completed in 2013. The Mesquite Solar project is a photovoltaic solar power plant being built in Arlington, Maricopa County, Arizona, owned by Sempra Generation. Phase 1 will have a nameplate capacity of 150 megawatts.\",\n          \"Subsequent plans to market a Famicom console in North America featuring a keyboard, cassette data recorder, wireless joystick controller and a special BASIC cartridge under the name \\\"Nintendo Advanced Video System\\\" likewise never materialized. By the beginning of 1985, the Famicom had sold more than 2.5 million units in Japan and Nintendo soon announced plans to release it in North America as the Advanced Video Entertainment System (AVS) that same year. The American video game press was skeptical that the console could have any success in the region, with the March 1985 issue of Electronic Games magazine stating that \\\"the videogame market in America has virtually disappeared\\\" and that \\\"this could be a miscalculation on Nintendo's part.\\\"\"\n        ],\n        \"semantic_type\": \"\",\n        \"description\": \"\"\n      }\n    },\n    {\n      \"column\": \"count\",\n      \"properties\": {\n        \"dtype\": \"number\",\n        \"std\": 1,\n        \"min\": 1,\n        \"max\": 25,\n        \"num_unique_values\": 22,\n        \"samples\": [\n          25,\n          9,\n          14\n        ],\n        \"semantic_type\": \"\",\n        \"description\": \"\"\n      }\n    }\n  ]\n}"
            }
          },
          "metadata": {},
          "execution_count": 14
        }
      ]
    },
    {
      "cell_type": "code",
      "source": [
        "unique_context_df['count'].unique()"
      ],
      "metadata": {
        "colab": {
          "base_uri": "https://localhost:8080/"
        },
        "id": "yPrJPDiP3xld",
        "outputId": "ab18b487-e29c-45ce-d812-377f7eb4aaf0"
      },
      "execution_count": null,
      "outputs": [
        {
          "output_type": "execute_result",
          "data": {
            "text/plain": [
              "array([25, 23, 20, 19, 18, 17, 16, 15, 14, 13, 12, 11, 10,  9,  8,  7,  6,\n",
              "        5,  4,  3,  2,  1])"
            ]
          },
          "metadata": {},
          "execution_count": 15
        }
      ]
    },
    {
      "cell_type": "code",
      "source": [
        "# Create the histogram plot\n",
        "def plot_histogram(df,c_name)->None:\n",
        "  frequency_counter=Counter(df['count'])\n",
        "  elements=list(frequency_counter.keys())\n",
        "  frequencies=list(frequency_counter.values())\n",
        "  plt.bar(elements,frequencies)\n",
        "  plt.xlabel(f'#{c_name}')\n",
        "  plt.ylabel('Frequency')\n",
        "  plt.title(f'Histogram of #{c_name} Questions')\n",
        "  plt.show()\n",
        "  return None"
      ],
      "metadata": {
        "id": "qozIMYS0eebm"
      },
      "execution_count": null,
      "outputs": []
    },
    {
      "cell_type": "code",
      "source": [
        "plot_histogram(df=unique_context_df,c_name='context')"
      ],
      "metadata": {
        "colab": {
          "base_uri": "https://localhost:8080/",
          "height": 472
        },
        "id": "vxsyqqIM4eBc",
        "outputId": "62aeb485-a3ff-4156-bc82-3d78e85030ce"
      },
      "execution_count": null,
      "outputs": [
        {
          "output_type": "display_data",
          "data": {
            "text/plain": [
              "<Figure size 640x480 with 1 Axes>"
            ],
            "image/png": "[encoded data removed]"
          },
          "metadata": {}
        }
      ]
    },
    {
      "cell_type": "code",
      "source": [
        "print('Duplicates in DF : ',df_train[df_train.duplicated()].shape)"
      ],
      "metadata": {
        "colab": {
          "base_uri": "https://localhost:8080/"
        },
        "id": "YQZQT0Xl47qd",
        "outputId": "abcdda2f-843e-4c47-f858-b4bc8ae378dd"
      },
      "execution_count": null,
      "outputs": [
        {
          "output_type": "stream",
          "name": "stdout",
          "text": [
            "Duplicates in DF :  (0, 7)\n"
          ]
        }
      ]
    },
    {
      "cell_type": "code",
      "source": [
        "# Create the distribution plot\n",
        "def get_distribution_plot(vals:np.ndarray,col_name:str,bin_size:int,kde_flag:bool)->None:\n",
        "  plt.figure(figsize=(10,6))\n",
        "  sns.distplot(vals,kde=kde_flag,bins=bin_size,color='blue')\n",
        "  plt.title(f'Distribution of {col_name}')\n",
        "  plt.xlabel(f'{col_name}')\n",
        "  plt.ylabel('Frequency')\n",
        "  plt.show()\n",
        "  return None"
      ],
      "metadata": {
        "id": "CVikohXdb4SN"
      },
      "execution_count": null,
      "outputs": []
    },
    {
      "cell_type": "code",
      "source": [
        "get_distribution_plot(vals=df_train['answer_start'].values,col_name='Start of Answer (All)',bin_size=5,kde_flag=False)"
      ],
      "metadata": {
        "colab": {
          "base_uri": "https://localhost:8080/",
          "height": 564
        },
        "id": "7is-N9aBZt6E",
        "outputId": "03fa2417-2190-4a16-eae3-3f83beb5d8bd"
      },
      "execution_count": null,
      "outputs": [
        {
          "output_type": "display_data",
          "data": {
            "text/plain": [
              "<Figure size 1000x600 with 1 Axes>"
            ],
            "image/png": "[encoded data removed]"
          },
          "metadata": {}
        }
      ]
    },
    {
      "cell_type": "code",
      "source": [
        "get_distribution_plot(vals=df_train[df_train['answer_start']<300]['answer_start'],col_name='Start of Answer (<300)',bin_size=5,kde_flag=False)"
      ],
      "metadata": {
        "colab": {
          "base_uri": "https://localhost:8080/",
          "height": 564
        },
        "outputId": "18679e7d-ce9b-4a5d-c9c3-dd6f91c5a630",
        "id": "HWqpUYurblzp"
      },
      "execution_count": null,
      "outputs": [
        {
          "output_type": "display_data",
          "data": {
            "text/plain": [
              "<Figure size 1000x600 with 1 Axes>"
            ],
            "image/png": "[encoded data removed]"
          },
          "metadata": {}
        }
      ]
    },
    {
      "cell_type": "code",
      "source": [
        "get_distribution_plot(vals=df_train[df_train['answer_start']<200]['answer_start'],col_name='Start of Answer (<200)',bin_size=5,kde_flag=False)"
      ],
      "metadata": {
        "colab": {
          "base_uri": "https://localhost:8080/",
          "height": 564
        },
        "id": "wU-KbPXodXsm",
        "outputId": "9be974d1-03fa-4b20-8204-c0d1de30b5cd"
      },
      "execution_count": null,
      "outputs": [
        {
          "output_type": "display_data",
          "data": {
            "text/plain": [
              "<Figure size 1000x600 with 1 Axes>"
            ],
            "image/png": "[encoded data removed]"
          },
          "metadata": {}
        }
      ]
    },
    {
      "cell_type": "code",
      "source": [
        "get_distribution_plot(vals=df_train[df_train['answer_start']<100]['answer_start'],col_name='Start of Answer (<100)',bin_size=5,kde_flag=False)"
      ],
      "metadata": {
        "colab": {
          "base_uri": "https://localhost:8080/",
          "height": 564
        },
        "id": "K8OP8-2YdjT9",
        "outputId": "d1e5f994-a8e2-4249-fef6-733566988dfb"
      },
      "execution_count": null,
      "outputs": [
        {
          "output_type": "display_data",
          "data": {
            "text/plain": [
              "<Figure size 1000x600 with 1 Axes>"
            ],
            "image/png": "[encoded data removed]"
          },
          "metadata": {}
        }
      ]
    },
    {
      "cell_type": "code",
      "source": [
        "get_distribution_plot(vals=df_train['answer_end'].values,col_name='End of Answer (All)',bin_size=5,kde_flag=False)"
      ],
      "metadata": {
        "colab": {
          "base_uri": "https://localhost:8080/",
          "height": 564
        },
        "id": "c68adS_YZ4eR",
        "outputId": "c796c9fa-60b2-48c0-877c-65bd31d10285"
      },
      "execution_count": null,
      "outputs": [
        {
          "output_type": "display_data",
          "data": {
            "text/plain": [
              "<Figure size 1000x600 with 1 Axes>"
            ],
            "image/png": "[encoded data removed]"
          },
          "metadata": {}
        }
      ]
    },
    {
      "cell_type": "code",
      "source": [
        "get_distribution_plot(vals=df_train[df_train['answer_end']<300]['answer_end'],col_name='End of Answer (<300)',bin_size=5,kde_flag=False)"
      ],
      "metadata": {
        "colab": {
          "base_uri": "https://localhost:8080/",
          "height": 564
        },
        "id": "yi0qe96jdtRy",
        "outputId": "77158236-d37e-4398-981e-266a28f0f6f2"
      },
      "execution_count": null,
      "outputs": [
        {
          "output_type": "display_data",
          "data": {
            "text/plain": [
              "<Figure size 1000x600 with 1 Axes>"
            ],
            "image/png": "[encoded data removed]"
          },
          "metadata": {}
        }
      ]
    },
    {
      "cell_type": "code",
      "source": [
        "get_distribution_plot(vals=df_train[df_train['answer_end']<200]['answer_end'],col_name='End of Answer (<200)',bin_size=5,kde_flag=False)"
      ],
      "metadata": {
        "colab": {
          "base_uri": "https://localhost:8080/",
          "height": 564
        },
        "id": "EUE5P662dwr9",
        "outputId": "b87263cc-c061-4d88-c8ef-4f276271c2c3"
      },
      "execution_count": null,
      "outputs": [
        {
          "output_type": "display_data",
          "data": {
            "text/plain": [
              "<Figure size 1000x600 with 1 Axes>"
            ],
            "image/png": "[encoded data removed]"
          },
          "metadata": {}
        }
      ]
    },
    {
      "cell_type": "code",
      "source": [
        "get_distribution_plot(vals=df_train[df_train['answer_end']<100]['answer_end'],col_name='End of Answer (<100)',bin_size=5,kde_flag=False)"
      ],
      "metadata": {
        "colab": {
          "base_uri": "https://localhost:8080/",
          "height": 564
        },
        "id": "ycUBRMladwpO",
        "outputId": "a6d88a25-b2dd-4e19-dfd3-ebf336265c3d"
      },
      "execution_count": null,
      "outputs": [
        {
          "output_type": "display_data",
          "data": {
            "text/plain": [
              "<Figure size 1000x600 with 1 Axes>"
            ],
            "image/png": "[encoded data removed]"
          },
          "metadata": {}
        }
      ]
    },
    {
      "cell_type": "code",
      "source": [
        "df_train[df_train['answer_end']<200].shape"
      ],
      "metadata": {
        "colab": {
          "base_uri": "https://localhost:8080/"
        },
        "id": "ih9yWaL5dwmn",
        "outputId": "b238d9e4-1713-4558-9bc7-17e2ed662ea7"
      },
      "execution_count": null,
      "outputs": [
        {
          "output_type": "execute_result",
          "data": {
            "text/plain": [
              "(32308, 7)"
            ]
          },
          "metadata": {},
          "execution_count": 28
        }
      ]
    },
    {
      "cell_type": "code",
      "source": [
        "df_train[df_train['answer_end']<200]['context'].nunique()"
      ],
      "metadata": {
        "colab": {
          "base_uri": "https://localhost:8080/"
        },
        "id": "MIovqHQWdwj-",
        "outputId": "4f3b5904-b2c2-4f59-b52d-c20b8111b4c4"
      },
      "execution_count": null,
      "outputs": [
        {
          "output_type": "execute_result",
          "data": {
            "text/plain": [
              "16866"
            ]
          },
          "metadata": {},
          "execution_count": 29
        }
      ]
    },
    {
      "cell_type": "code",
      "source": [
        "df_train=df_train[df_train['context'].isin(df_train[df_train['answer_end']<200]['context'])]\n",
        "print(df_train.shape)\n",
        "df_train=df_train[df_train['answer_end']<200]\n",
        "print(df_train.shape)"
      ],
      "metadata": {
        "colab": {
          "base_uri": "https://localhost:8080/"
        },
        "id": "7iu-ss6Ge5mu",
        "outputId": "a5d55291-6563-4242-a9de-680cd488d9ae"
      },
      "execution_count": null,
      "outputs": [
        {
          "output_type": "stream",
          "name": "stdout",
          "text": [
            "(78694, 7)\n",
            "(32308, 7)\n"
          ]
        }
      ]
    },
    {
      "cell_type": "code",
      "source": [
        "unique_context_df=df_train['context'].value_counts().reset_index()\n",
        "print(unique_context_df.shape)"
      ],
      "metadata": {
        "colab": {
          "base_uri": "https://localhost:8080/"
        },
        "outputId": "7a5a9393-f1d5-4aec-860d-37d9cb9cdc48",
        "id": "fo4kWowce107"
      },
      "execution_count": null,
      "outputs": [
        {
          "output_type": "stream",
          "name": "stdout",
          "text": [
            "(16866, 2)\n"
          ]
        }
      ]
    },
    {
      "cell_type": "code",
      "source": [
        "plot_histogram(df=unique_context_df,c_name='context')"
      ],
      "metadata": {
        "colab": {
          "base_uri": "https://localhost:8080/",
          "height": 472
        },
        "outputId": "7c9b9833-f97a-4656-f8fc-455bf3afdffe",
        "id": "_gYkQNvke11C"
      },
      "execution_count": null,
      "outputs": [
        {
          "output_type": "display_data",
          "data": {
            "text/plain": [
              "<Figure size 640x480 with 1 Axes>"
            ],
            "image/png": "[encoded data removed]"
          },
          "metadata": {}
        }
      ]
    },
    {
      "cell_type": "code",
      "source": [
        "# This shows most of the answers stars and ends below 200 characters\n",
        "# This gives an idea of the max length to be used for our model\n",
        "\n",
        "# we will filter for only 900 unique context and\n",
        "# filter to top 3 questions where only 1 will be used as testing"
      ],
      "metadata": {
        "colab": {
          "base_uri": "https://localhost:8080/"
        },
        "id": "WDrom1o163Ap",
        "outputId": "8839571a-9f95-4485-de2a-e899100fa977"
      },
      "execution_count": null,
      "outputs": [
        {
          "output_type": "stream",
          "name": "stdout",
          "text": [
            "df_train_subset.shape = (2048, 7),X_train.shape = (1608, 7),X_test.shape = (440, 7)\n"
          ]
        }
      ]
    },
    {
      "cell_type": "code",
      "source": [
        "df_train_subset['question_len']=df_train_subset['question'].str.len()\n",
        "df_train_subset['answers_len']=df_train_subset['answers'].str.len()"
      ],
      "metadata": {
        "id": "7V82TiVFnom7"
      },
      "execution_count": null,
      "outputs": []
    },
    {
      "cell_type": "code",
      "source": [
        "get_distribution_plot(vals=df_train_subset['question_len'].values,col_name='Questions (All)',bin_size=5,kde_flag=False)"
      ],
      "metadata": {
        "colab": {
          "base_uri": "https://localhost:8080/",
          "height": 564
        },
        "id": "n9gJLdC9m0aI",
        "outputId": "da629a5c-84fc-4408-8287-2b35d329d586"
      },
      "execution_count": null,
      "outputs": [
        {
          "output_type": "display_data",
          "data": {
            "text/plain": [
              "<Figure size 1000x600 with 1 Axes>"
            ],
            "image/png": "[encoded data removed]"
          },
          "metadata": {}
        }
      ]
    },
    {
      "cell_type": "code",
      "source": [
        "get_distribution_plot(vals=df_train_subset[df_train_subset['question_len']<71]['question_len'],col_name='Len of Questions (<71)',bin_size=5,kde_flag=False)"
      ],
      "metadata": {
        "colab": {
          "base_uri": "https://localhost:8080/",
          "height": 564
        },
        "id": "YZsPgghMm0Sr",
        "outputId": "f96e1abd-6031-4b00-86b1-aa6f867e0603"
      },
      "execution_count": null,
      "outputs": [
        {
          "output_type": "display_data",
          "data": {
            "text/plain": [
              "<Figure size 1000x600 with 1 Axes>"
            ],
            "image/png": "[encoded data removed]"
          },
          "metadata": {}
        }
      ]
    },
    {
      "cell_type": "code",
      "source": [
        "df_train_subset[df_train_subset['question_len']<71].shape"
      ],
      "metadata": {
        "colab": {
          "base_uri": "https://localhost:8080/"
        },
        "id": "NxhG5mevm0KC",
        "outputId": "07ffa0de-6460-47dd-e7d8-51f9771fc28e"
      },
      "execution_count": null,
      "outputs": [
        {
          "output_type": "execute_result",
          "data": {
            "text/plain": [
              "(1608, 9)"
            ]
          },
          "metadata": {},
          "execution_count": 30
        }
      ]
    },
    {
      "cell_type": "code",
      "source": [
        "get_distribution_plot(vals=df_train_subset['answers_len'].values,col_name='Answers (All)',bin_size=5,kde_flag=False)"
      ],
      "metadata": {
        "colab": {
          "base_uri": "https://localhost:8080/",
          "height": 564
        },
        "outputId": "301d6e25-3490-4455-ce49-9765bf44c032",
        "id": "O9K7ynetoI94"
      },
      "execution_count": null,
      "outputs": [
        {
          "output_type": "display_data",
          "data": {
            "text/plain": [
              "<Figure size 1000x600 with 1 Axes>"
            ],
            "image/png": "[encoded data removed]"
          },
          "metadata": {}
        }
      ]
    },
    {
      "cell_type": "code",
      "source": [
        "get_distribution_plot(vals=df_train_subset[df_train_subset['answers_len']<41]['answers_len'],col_name='Len of Answers (<71)',bin_size=5,kde_flag=False)"
      ],
      "metadata": {
        "colab": {
          "base_uri": "https://localhost:8080/",
          "height": 564
        },
        "outputId": "426def2d-b44a-4074-92f7-100cf313a0ee",
        "id": "EWqWGV5noI96"
      },
      "execution_count": null,
      "outputs": [
        {
          "output_type": "display_data",
          "data": {
            "text/plain": [
              "<Figure size 1000x600 with 1 Axes>"
            ],
            "image/png": "[encoded data removed]"
          },
          "metadata": {}
        }
      ]
    },
    {
      "cell_type": "code",
      "source": [
        "df_train_subset[df_train_subset['answers_len']<41].shape"
      ],
      "metadata": {
        "colab": {
          "base_uri": "https://localhost:8080/"
        },
        "outputId": "688c8742-9e45-4450-b9fb-e73f2473a5ff",
        "id": "REb_5CxWoI97"
      },
      "execution_count": null,
      "outputs": [
        {
          "output_type": "execute_result",
          "data": {
            "text/plain": [
              "(1969, 9)"
            ]
          },
          "metadata": {},
          "execution_count": 32
        }
      ]
    },
    {
      "cell_type": "code",
      "source": [
        "df_train_subset=df_train_subset[(df_train_subset['answers_len']<41) & (df_train_subset['question_len']<71)]\n",
        "print(df_train_subset.shape)"
      ],
      "metadata": {
        "colab": {
          "base_uri": "https://localhost:8080/"
        },
        "id": "LXg8eOofopMw",
        "outputId": "4816cefa-0910-4e48-b100-414a0f7e38df"
      },
      "execution_count": null,
      "outputs": [
        {
          "output_type": "stream",
          "name": "stdout",
          "text": [
            "(1542, 9)\n"
          ]
        }
      ]
    },
    {
      "cell_type": "code",
      "source": [
        "X_test=df_train_subset.groupby(by=['context']).head(1)\n",
        "X_train=df_train_subset[~df_train_subset.index.isin(X_test.index)]\n",
        "assert df_train_subset.shape[0]==(X_test.shape[0]+X_train.shape[0])\n",
        "print(f'{df_train_subset.shape=},{X_train.shape=},{X_test.shape=}')"
      ],
      "metadata": {
        "colab": {
          "base_uri": "https://localhost:8080/"
        },
        "id": "0VdhMUv9oGdB",
        "outputId": "2c92ca27-f7c5-4bb2-9baa-161964302c7b"
      },
      "execution_count": null,
      "outputs": [
        {
          "output_type": "stream",
          "name": "stdout",
          "text": [
            "df_train_subset.shape = (1542, 9),X_train.shape = (1299, 9),X_test.shape = (243, 9)\n"
          ]
        }
      ]
    },
    {
      "cell_type": "code",
      "source": [
        "df_train.to_csv('NLP/3/df_train.csv',index=False)\n",
        "df_train_subset.to_csv('NLP/3/df_train_subset.csv',index=False)\n",
        "X_train.to_csv('NLP/3/X_train.csv',index=False)\n",
        "X_test.to_csv('NLP/3/X_test.csv',index=False)\n",
        "del df_train_subset,df_train"
      ],
      "metadata": {
        "id": "s4S1ljHEfg07"
      },
      "execution_count": null,
      "outputs": []
    },
    {
      "cell_type": "code",
      "source": [
        "X_train.info()"
      ],
      "metadata": {
        "colab": {
          "base_uri": "https://localhost:8080/"
        },
        "id": "acEcHOmO9QPB",
        "outputId": "44f39119-55de-40e3-c1b2-144e6807cba2"
      },
      "execution_count": null,
      "outputs": [
        {
          "output_type": "stream",
          "name": "stdout",
          "text": [
            "<class 'pandas.core.frame.DataFrame'>\n",
            "RangeIndex: 1608 entries, 0 to 1607\n",
            "Data columns (total 7 columns):\n",
            " #   Column         Non-Null Count  Dtype \n",
            "---  ------         --------------  ----- \n",
            " 0   context        1608 non-null   object\n",
            " 1   question       1608 non-null   object\n",
            " 2   id             1608 non-null   object\n",
            " 3   answers        1608 non-null   object\n",
            " 4   answer_start   1608 non-null   int64 \n",
            " 5   answer_end     1608 non-null   int64 \n",
            " 6   is_impossible  1608 non-null   bool  \n",
            "dtypes: bool(1), int64(2), object(4)\n",
            "memory usage: 77.1+ KB\n"
          ]
        }
      ]
    },
    {
      "cell_type": "code",
      "source": [
        "X_test.info()"
      ],
      "metadata": {
        "colab": {
          "base_uri": "https://localhost:8080/"
        },
        "id": "aGR0C_TdP0kx",
        "outputId": "2203712f-250f-467f-dac1-fa93daf08c04"
      },
      "execution_count": null,
      "outputs": [
        {
          "output_type": "stream",
          "name": "stdout",
          "text": [
            "<class 'pandas.core.frame.DataFrame'>\n",
            "RangeIndex: 440 entries, 0 to 439\n",
            "Data columns (total 7 columns):\n",
            " #   Column         Non-Null Count  Dtype \n",
            "---  ------         --------------  ----- \n",
            " 0   context        440 non-null    object\n",
            " 1   question       440 non-null    object\n",
            " 2   id             440 non-null    object\n",
            " 3   answers        440 non-null    object\n",
            " 4   answer_start   440 non-null    int64 \n",
            " 5   answer_end     440 non-null    int64 \n",
            " 6   is_impossible  440 non-null    bool  \n",
            "dtypes: bool(1), int64(2), object(4)\n",
            "memory usage: 21.2+ KB\n"
          ]
        }
      ]
    },
    {
      "cell_type": "code",
      "source": [
        "# We can use the max length as 200 length\n",
        "max_content_length:int=200\n",
        "X_train=X_train[['id','context','question','answers','answer_start','answer_end']]\n",
        "X_test=X_test[['id','context','question','answers','answer_start','answer_end']]\n",
        "X_train['context']=X_train['context'].str[0:max_content_length]\n",
        "X_test['context']=X_test['context'].str[0:max_content_length]"
      ],
      "metadata": {
        "id": "Gu_kjQ1yhe2d"
      },
      "execution_count": null,
      "outputs": []
    },
    {
      "cell_type": "code",
      "source": [
        "X_train.head(1).to_dict(orient='records')"
      ],
      "metadata": {
        "colab": {
          "base_uri": "https://localhost:8080/"
        },
        "id": "X9fSZCJhP0f4",
        "outputId": "75d6ed4b-5de2-4f39-99a1-6c513363b9f6"
      },
      "execution_count": null,
      "outputs": [
        {
          "output_type": "execute_result",
          "data": {
            "text/plain": [
              "[{'id': '56bf6b0f3aeaaa14008c9601',\n",
              "  'context': 'Beyoncé Giselle Knowles-Carter (/biːˈjɒnseɪ/ bee-YON-say) (born September 4, 1981) is an American singer, songwriter, record producer and actress. Born and raised in Houston, Texas, she performed in v',\n",
              "  'question': 'In what city and state did Beyonce  grow up? ',\n",
              "  'answers': 'Houston, Texas',\n",
              "  'answer_start': 166,\n",
              "  'answer_end': 180}]"
            ]
          },
          "metadata": {},
          "execution_count": 11
        }
      ]
    },
    {
      "cell_type": "code",
      "source": [
        "X_test.head(1).to_dict(orient='records')"
      ],
      "metadata": {
        "colab": {
          "base_uri": "https://localhost:8080/"
        },
        "id": "IQJd_8GogRgF",
        "outputId": "31df267b-c524-40f4-bf3f-07a2db949141"
      },
      "execution_count": null,
      "outputs": [
        {
          "output_type": "execute_result",
          "data": {
            "text/plain": [
              "[{'id': '56d43da72ccc5a1400d830be',\n",
              "  'context': 'Following the disbandment of Destiny\\'s Child in June 2005, she released her second solo album, B\\'Day (2006), which contained hits \"Déjà Vu\", \"Irreplaceable\", and \"Beautiful Liar\". Beyoncé also venture',\n",
              "  'question': \"What was the name of Beyoncé's second solo album?\",\n",
              "  'answers': \"B'Day\",\n",
              "  'answer_start': 95,\n",
              "  'answer_end': 100}]"
            ]
          },
          "metadata": {},
          "execution_count": 12
        }
      ]
    },
    {
      "cell_type": "markdown",
      "source": [
        "##### Using BI-LSTM to Predict Start and End Index (Together)"
      ],
      "metadata": {
        "id": "uWA6iBASubZl"
      }
    },
    {
      "cell_type": "code",
      "source": [
        "import tensorflow as tf\n",
        "from tensorflow.keras.layers import Input,Embedding,LSTM,Dense,Bidirectional\n",
        "from tensorflow.keras.models import Model\n",
        "from tensorflow.keras.preprocessing.text import Tokenizer\n",
        "from tensorflow.keras.preprocessing.sequence import pad_sequences\n",
        "from tensorflow.keras.callbacks import EarlyStopping,ReduceLROnPlateau\n",
        "from tensorflow.keras.metrics import Recall"
      ],
      "metadata": {
        "id": "4dzr0g6_lduv"
      },
      "execution_count": null,
      "outputs": []
    },
    {
      "cell_type": "code",
      "source": [
        "# We can use the max length as 200 length\n",
        "max_content_length:int=200\n",
        "\n",
        "# Pre-Processing Data\n",
        "\n",
        "# Prepared the Tokenizer\n",
        "tokenizer=Tokenizer()\n",
        "tokenizer.fit_on_texts(df_train_subset['context']+df_train_subset['question']+df_train_subset['answers'])\n",
        "\n",
        "# For Training\n",
        "\n",
        "# Tokenize the data\n",
        "content_seq=tokenizer.texts_to_sequences(X_train['context'])\n",
        "questions_seqs=tokenizer.texts_to_sequences(X_train['question'])\n",
        "answers_seqs=tokenizer.texts_to_sequences(X_train['answers'])\n",
        "\n",
        "# Pad sequences to ensure uniform length\n",
        "train_content_seq=pad_sequences(content_seq,maxlen=max_content_length,padding='post')\n",
        "train_questions_seqs=pad_sequences(questions_seqs,maxlen=max_content_length,padding='post')\n",
        "train_answers_seqs=pad_sequences(answers_seqs,maxlen=max_content_length,padding='post')\n",
        "del content_seq,questions_seqs,answers_seqs\n",
        "\n",
        "# For Testing\n",
        "\n",
        "# Tokenize the data\n",
        "content_seq=tokenizer.texts_to_sequences(X_test['context'])\n",
        "questions_seqs=tokenizer.texts_to_sequences(X_test['question'])\n",
        "answers_seqs=tokenizer.texts_to_sequences(X_test['answers'])\n",
        "\n",
        "# Pad sequences to ensure uniform length\n",
        "test_content_seq=pad_sequences(content_seq,maxlen=max_content_length,padding='post')\n",
        "test_questions_seqs=pad_sequences(questions_seqs,maxlen=max_content_length,padding='post')\n",
        "test_answers_seqs=pad_sequences(answers_seqs,maxlen=max_content_length,padding='post')\n",
        "del content_seq,questions_seqs,answers_seqs"
      ],
      "metadata": {
        "id": "zVQ7kAGNMnSV"
      },
      "execution_count": null,
      "outputs": []
    },
    {
      "cell_type": "code",
      "source": [
        "print(train_content_seq.shape,train_questions_seqs.shape,train_answers_seqs.shape,test_content_seq.shape,test_questions_seqs.shape,test_answers_seqs.shape)"
      ],
      "metadata": {
        "colab": {
          "base_uri": "https://localhost:8080/"
        },
        "id": "4LpnhMJiSGbg",
        "outputId": "0287e07f-067a-49a8-a4b2-da5b5d920346"
      },
      "execution_count": null,
      "outputs": [
        {
          "output_type": "stream",
          "name": "stdout",
          "text": [
            "(1608, 200) (1608, 200) (1608, 200) (440, 200) (440, 200) (440, 200)\n"
          ]
        }
      ]
    },
    {
      "cell_type": "code",
      "source": [
        "sample_id:int=9\n",
        "\n",
        "print(\"Raw sequences:\")\n",
        "print(X_train.iloc[sample_id].to_dict())\n",
        "\n",
        "# Print example of tokenized and padded sequences\n",
        "print(\"\\nTokenized and padded content sequences:\")\n",
        "print(train_content_seq[sample_id])\n",
        "print(tokenizer.sequences_to_texts([train_content_seq[sample_id]]))\n",
        "\n",
        "print(\"\\nTokenized and padded question sequences:\")\n",
        "print(train_questions_seqs[sample_id])\n",
        "print(tokenizer.sequences_to_texts([train_questions_seqs[sample_id]]))\n",
        "\n",
        "print(\"\\nTokenized and padded answer sequences:\")\n",
        "print(train_answers_seqs[sample_id])\n",
        "print(tokenizer.sequences_to_texts([train_answers_seqs[sample_id]]))"
      ],
      "metadata": {
        "colab": {
          "base_uri": "https://localhost:8080/"
        },
        "id": "_lYhUSRLL5j2",
        "outputId": "06eda61b-5fd0-4421-c55e-31bb8c6bd57b"
      },
      "execution_count": null,
      "outputs": [
        {
          "output_type": "stream",
          "name": "stdout",
          "text": [
            "Raw sequences:\n",
            "{'context': \"At age eight, Beyoncé and childhood friend Kelly Rowland met LaTavia Roberson while in an audition for an all-girl entertainment group. They were placed into a group with three other girls as Girl's Tyme, and rapped and danced on the talent show circuit in Houston. After seeing the group, R&B producer Arne Frager brought them to his Northern California studio and placed them in Star Search, the largest talent show on national TV at the time. Girl's Tyme failed to win, and Beyoncé later said the song they performed was not good. In 1995 Beyoncé's father resigned from his job to manage the group. The move reduced Beyoncé's family's income by half, and her parents were forced to move into separated apartments. Mathew cut the original line-up to four and the group continued performing as an opening act for other established R&B girl groups. The girls auditioned before record labels and were finally signed to Elektra Records, moving to Atlanta Records briefly to work on their first recording, only to be cut by the company. This put further strain on the family, and Beyoncé's parents separated. On October 5, 1995, Dwayne Wiggins's Grass Roots Entertainment signed the group. In 1996, the girls began recording their debut album under an agreement with Sony Music, the Knowles family reunited, and shortly after, the group got a contract with Columbia Records.\", 'question': 'At what age did Beyonce meet LaTavia Robertson?', 'id': '56bf79c73aeaaa14008c9671', 'answers': 'age eight', 'answer_start': 3, 'answer_end': 12, 'is_impossible': False}\n",
            "\n",
            "Tokenized and padded content sequences:\n",
            "[   8 3838 5625    3 9502    3 9503   10    1 1921  102 9504    4 1327\n",
            "   41 6652    1  196  230  306  435 9505 9506  650  183    5   15 2169\n",
            " 1330  425    3  755  183    4  665 1821    1  153 1921  102   10  150\n",
            " 1822   17    1   65 3838 5625  878    5 1272    3   42   93  180    1\n",
            "   82   75  287    7   48  611    4 3152  263  386 9507   19   15 3153\n",
            "    5 3484    1  196    1 1331 1569  263 2910 1823   14  533    3   27\n",
            "  959   24 2679    5 1331   74 4942 3485 3144  813    1  389  224   89\n",
            "    5   96    3    1  196  576 1217    8   22  879 1919    9   62  378\n",
            "  230  306 1917  572    1 1329 5626  169  191 3486    3   24 1094  814\n",
            "    5 9508  414 1570    5 4249  414 4943    5  201   10   43   26  403\n",
            "   79    5   35  813   14    1  217   33  622  388 9509   10    1  372\n",
            "    3  263  959 4942   10  283  136 3152 9510 9511 9512 2680  958  814\n",
            "    1  196    4 2481    1 1329  210  403   43  401   53  187   22 2170\n",
            "   12 1122   38    1 1564  372 9513    3 1631   41    1  196 1824    6\n",
            " 2043   12 2482  414]\n",
            "[\"as girl's tyme and rapped and danced on the talent show circuit in houston after seeing the group r b producer arne frager brought them to his northern california studio and placed them in star search the largest talent show on national tv at the time girl's tyme failed to win and beyoncé later said the song they performed was not good in 1995 beyoncé's father resigned from his job to manage the group the move reduced beyoncé's family's income by half and her parents were forced to move into separated apartments mathew cut the original line up to four and the group continued performing as an opening act for other established r b girl groups the girls auditioned before record labels and were finally signed to elektra records moving to atlanta records briefly to work on their first recording only to be cut by the company this put further strain on the family and beyoncé's parents separated on october 5 1995 dwayne wiggins's grass roots entertainment signed the group in 1996 the girls began recording their debut album under an agreement with sony music the knowles family reunited and shortly after the group got a contract with columbia records\"]\n",
            "\n",
            "Tokenized and padded question sequences:\n",
            "[   17    16   341    37   273  1381  5624 11466     0     0     0     0\n",
            "     0     0     0     0     0     0     0     0     0     0     0     0\n",
            "     0     0     0     0     0     0     0     0     0     0     0     0\n",
            "     0     0     0     0     0     0     0     0     0     0     0     0\n",
            "     0     0     0     0     0     0     0     0     0     0     0     0\n",
            "     0     0     0     0     0     0     0     0     0     0     0     0\n",
            "     0     0     0     0     0     0     0     0     0     0     0     0\n",
            "     0     0     0     0     0     0     0     0     0     0     0     0\n",
            "     0     0     0     0     0     0     0     0     0     0     0     0\n",
            "     0     0     0     0     0     0     0     0     0     0     0     0\n",
            "     0     0     0     0     0     0     0     0     0     0     0     0\n",
            "     0     0     0     0     0     0     0     0     0     0     0     0\n",
            "     0     0     0     0     0     0     0     0     0     0     0     0\n",
            "     0     0     0     0     0     0     0     0     0     0     0     0\n",
            "     0     0     0     0     0     0     0     0     0     0     0     0\n",
            "     0     0     0     0     0     0     0     0     0     0     0     0\n",
            "     0     0     0     0     0     0     0     0]\n",
            "['at what age did beyonce meet latavia robertson']\n",
            "\n",
            "Tokenized and padded answer sequences:\n",
            "[341 361   0   0   0   0   0   0   0   0   0   0   0   0   0   0   0   0\n",
            "   0   0   0   0   0   0   0   0   0   0   0   0   0   0   0   0   0   0\n",
            "   0   0   0   0   0   0   0   0   0   0   0   0   0   0   0   0   0   0\n",
            "   0   0   0   0   0   0   0   0   0   0   0   0   0   0   0   0   0   0\n",
            "   0   0   0   0   0   0   0   0   0   0   0   0   0   0   0   0   0   0\n",
            "   0   0   0   0   0   0   0   0   0   0   0   0   0   0   0   0   0   0\n",
            "   0   0   0   0   0   0   0   0   0   0   0   0   0   0   0   0   0   0\n",
            "   0   0   0   0   0   0   0   0   0   0   0   0   0   0   0   0   0   0\n",
            "   0   0   0   0   0   0   0   0   0   0   0   0   0   0   0   0   0   0\n",
            "   0   0   0   0   0   0   0   0   0   0   0   0   0   0   0   0   0   0\n",
            "   0   0   0   0   0   0   0   0   0   0   0   0   0   0   0   0   0   0\n",
            "   0   0]\n",
            "['age eight']\n"
          ]
        }
      ]
    },
    {
      "cell_type": "code",
      "source": [
        "# we define model architecture\n",
        "embedding_dim=100\n",
        "vocab_size=len(tokenizer.word_index) + 1\n",
        "print(f'{vocab_size=}')\n",
        "lstm_units=64\n",
        "\n",
        "# Encoder\n",
        "encoder_input=Input(shape=(max_content_length,),name='content_input')\n",
        "encoder_embedding=Embedding(input_dim=vocab_size,output_dim=embedding_dim)(encoder_input)\n",
        "encoder_lstm=LSTM(units=lstm_units,return_state=True)\n",
        "encoder_outputs,state_h,state_c=encoder_lstm(encoder_embedding)\n",
        "encoder_states=[state_h,state_c]\n",
        "\n",
        "# Decoder\n",
        "decoder_input=Input(shape=(max_content_length,),name='question_input')\n",
        "decoder_embedding=Embedding(input_dim=vocab_size,output_dim=embedding_dim)(decoder_input)\n",
        "decoder_lstm=LSTM(units=lstm_units,return_sequences=True)\n",
        "decoder_outputs=decoder_lstm(decoder_embedding,initial_state=encoder_states)\n",
        "\n",
        "# Output layer\n",
        "output=Dense(units=vocab_size,activation='softmax')(decoder_outputs)\n",
        "\n",
        "# Define the model\n",
        "bi_lstm_model=Model(inputs=[encoder_input,decoder_input],outputs=output)\n",
        "\n",
        "# Compile the model\n",
        "bi_lstm_model.compile(optimizer='adam',loss='sparse_categorical_crossentropy',metrics=['accuracy'])"
      ],
      "metadata": {
        "id": "4GaHxgDR6D5r"
      },
      "execution_count": null,
      "outputs": []
    },
    {
      "cell_type": "code",
      "source": [
        "# Print model summary\n",
        "bi_lstm_model.summary()"
      ],
      "metadata": {
        "colab": {
          "base_uri": "https://localhost:8080/"
        },
        "id": "5StSy7JdtBiS",
        "outputId": "b0a57b30-42fe-4de8-94e4-3f41017600f8"
      },
      "execution_count": null,
      "outputs": [
        {
          "output_type": "stream",
          "name": "stdout",
          "text": [
            "vocab_size = 13292\n",
            "Model: \"model\"\n",
            "__________________________________________________________________________________________________\n",
            " Layer (type)                Output Shape                 Param #   Connected to                  \n",
            "==================================================================================================\n",
            " content_input (InputLayer)  [(None, 200)]                0         []                            \n",
            "                                                                                                  \n",
            " question_input (InputLayer  [(None, 200)]                0         []                            \n",
            " )                                                                                                \n",
            "                                                                                                  \n",
            " embedding (Embedding)       (None, 200, 100)             1329200   ['content_input[0][0]']       \n",
            "                                                                                                  \n",
            " embedding_1 (Embedding)     (None, 200, 100)             1329200   ['question_input[0][0]']      \n",
            "                                                                                                  \n",
            " lstm (LSTM)                 [(None, 64),                 42240     ['embedding[0][0]']           \n",
            "                              (None, 64),                                                         \n",
            "                              (None, 64)]                                                         \n",
            "                                                                                                  \n",
            " lstm_1 (LSTM)               (None, 200, 64)              42240     ['embedding_1[0][0]',         \n",
            "                                                                     'lstm[0][1]',                \n",
            "                                                                     'lstm[0][2]']                \n",
            "                                                                                                  \n",
            " dense (Dense)               (None, 200, 13292)           863980    ['lstm_1[0][0]']              \n",
            "                                                                                                  \n",
            "==================================================================================================\n",
            "Total params: 3606860 (13.76 MB)\n",
            "Trainable params: 3606860 (13.76 MB)\n",
            "Non-trainable params: 0 (0.00 Byte)\n",
            "__________________________________________________________________________________________________\n"
          ]
        }
      ]
    },
    {
      "cell_type": "code",
      "source": [
        "# Define the hyper parameters\n",
        "total_epochs:int=20\n",
        "mini_batch_size:int=16\n",
        "\n",
        "# Fit the model\n",
        "history=bi_lstm_model.fit(\n",
        "    x=[content_seq,questions_seqs],\n",
        "    y=answers_seqs,\n",
        "    batch_size=mini_batch_size,\n",
        "    epochs=total_epochs,\n",
        "    validation_split=0.2\n",
        ")"
      ],
      "metadata": {
        "colab": {
          "base_uri": "https://localhost:8080/"
        },
        "id": "2TeJGM7stDkG",
        "outputId": "55fdc6e0-d3d0-46aa-88f6-ec0c320238bd"
      },
      "execution_count": null,
      "outputs": [
        {
          "output_type": "stream",
          "name": "stdout",
          "text": [
            "Epoch 1/3\n",
            "81/81 [==============================] - 315s 4s/step - loss: 1.4501 - accuracy: 0.9748 - val_loss: 0.0934 - val_accuracy: 0.9903\n",
            "Epoch 2/3\n",
            "81/81 [==============================] - 250s 3s/step - loss: 0.1155 - accuracy: 0.9871 - val_loss: 0.0953 - val_accuracy: 0.9903\n",
            "Epoch 3/3\n",
            "81/81 [==============================] - 259s 3s/step - loss: 0.1114 - accuracy: 0.9871 - val_loss: 0.0988 - val_accuracy: 0.9903\n"
          ]
        }
      ]
    },
    {
      "cell_type": "code",
      "source": [
        "predictions=bi_lstm_model.predict([content_seq[0:3],questions_seqs[0:3]])"
      ],
      "metadata": {
        "colab": {
          "base_uri": "https://localhost:8080/"
        },
        "id": "1a5lfeJ9tDhG",
        "outputId": "332114e5-7fc2-49af-fde4-c74a796a7d6d"
      },
      "execution_count": null,
      "outputs": [
        {
          "output_type": "stream",
          "name": "stdout",
          "text": [
            "1/1 [==============================] - 1s 1s/step\n"
          ]
        }
      ]
    },
    {
      "cell_type": "code",
      "source": [
        "predictions[0].shape"
      ],
      "metadata": {
        "colab": {
          "base_uri": "https://localhost:8080/"
        },
        "id": "_xLHigPdu39b",
        "outputId": "b212d864-1e59-48e0-f78d-742781c6c625"
      },
      "execution_count": null,
      "outputs": [
        {
          "output_type": "execute_result",
          "data": {
            "text/plain": [
              "(200, 7989)"
            ]
          },
          "metadata": {},
          "execution_count": 99
        }
      ]
    },
    {
      "cell_type": "code",
      "source": [
        "# Assuming predictions is your array of predicted sequences\n",
        "\n",
        "# Iterate over each prediction\n",
        "for pred in predictions:\n",
        "\n",
        "  predicted_indices=[np.argmax(timestep) for timestep in pred]\n",
        "  print(len(predicted_indices))\n",
        "  print(predicted_indices[0:10])\n",
        "  print(sum(predicted_indices))\n",
        "\n",
        "  # predicted_words=tokenizer.sequences_to_texts(predicted_indices)\n",
        "  # print(len(predicted_words))\n",
        "\n",
        "  # predicted_sentence=' '.join(predicted_words[0])\n",
        "\n",
        "  # print(predicted_sentence)\n",
        "\n",
        "  # break"
      ],
      "metadata": {
        "colab": {
          "base_uri": "https://localhost:8080/"
        },
        "id": "PV9AUoJ3z2st",
        "outputId": "4d10595e-52ff-4641-b0fa-1e622e655d16"
      },
      "execution_count": null,
      "outputs": [
        {
          "output_type": "stream",
          "name": "stdout",
          "text": [
            "200\n",
            "[0, 0, 0, 0, 0, 0, 0, 0, 0, 0]\n",
            "0\n",
            "200\n",
            "[0, 0, 0, 0, 0, 0, 0, 0, 0, 0]\n",
            "0\n",
            "200\n",
            "[0, 0, 0, 0, 0, 0, 0, 0, 0, 0]\n",
            "0\n"
          ]
        }
      ]
    },
    {
      "cell_type": "code",
      "source": [
        "history.history.keys()"
      ],
      "metadata": {
        "colab": {
          "base_uri": "https://localhost:8080/"
        },
        "id": "IA5_PgQIxUxu",
        "outputId": "87094428-4751-4460-9fba-3d543b66cb6a"
      },
      "execution_count": null,
      "outputs": [
        {
          "output_type": "execute_result",
          "data": {
            "text/plain": [
              "dict_keys(['loss', 'accuracy', 'val_loss', 'val_accuracy'])"
            ]
          },
          "metadata": {},
          "execution_count": 92
        }
      ]
    },
    {
      "cell_type": "code",
      "source": [
        "def plot_training_points(list1:list[float],list2:list[float],list1_str:str)->None:\n",
        "  plt.figure(figsize=(8,5))\n",
        "  plt.plot(list1,label=f'Training {list1_str}')\n",
        "  plt.plot(list2,label=f'Validation {list1_str}')\n",
        "  plt.title(f'Training and Validation {list1_str}')\n",
        "  plt.xlabel('Epoch')\n",
        "  plt.ylabel(f'{list1_str}')\n",
        "  plt.legend()\n",
        "  plt.tight_layout()\n",
        "  plt.show()\n",
        "  return None"
      ],
      "metadata": {
        "id": "Rz_t2XBQxUuQ"
      },
      "execution_count": null,
      "outputs": []
    },
    {
      "cell_type": "code",
      "source": [
        "for l1,l2,l3 in [\n",
        "    (history.history['loss'],history.history['val_loss'],'Loss'),\n",
        "    (history.history['accuracy'],history.history['val_accuracy'],'Accuracy'),\n",
        "  ]:\n",
        "  plot_training_points(list1=l1,list2=l2,list1_str=l3)"
      ],
      "metadata": {
        "colab": {
          "base_uri": "https://localhost:8080/",
          "height": 997
        },
        "id": "ac1LT4iML5cu",
        "outputId": "7108adc3-c63b-481f-d562-1e0f2290e5f4"
      },
      "execution_count": null,
      "outputs": [
        {
          "output_type": "display_data",
          "data": {
            "text/plain": [
              "<Figure size 800x500 with 1 Axes>"
            ],
            "image/png": "[encoded data removed]"
          },
          "metadata": {}
        },
        {
          "output_type": "display_data",
          "data": {
            "text/plain": [
              "<Figure size 800x500 with 1 Axes>"
            ],
            "image/png": "[encoded data removed]"
          },
          "metadata": {}
        }
      ]
    },
    {
      "cell_type": "markdown",
      "source": [
        "##### Using BI-LSTM to Predict Start and End Index (Separately)"
      ],
      "metadata": {
        "id": "CWSoFNQFuR7M"
      }
    },
    {
      "cell_type": "code",
      "source": [
        "import tensorflow as tf\n",
        "from tensorflow.keras.layers import Embedding,LSTM,Dense,Bidirectional,Dropout\n",
        "from tensorflow.keras.models import Sequential\n",
        "from tensorflow.keras.preprocessing.text import Tokenizer\n",
        "from tensorflow.keras.preprocessing.sequence import pad_sequences\n",
        "from tensorflow.keras.callbacks import EarlyStopping,ReduceLROnPlateau\n",
        "from tensorflow.keras.optimizers import Adam"
      ],
      "metadata": {
        "id": "kCrmwVf8aaWE"
      },
      "execution_count": null,
      "outputs": []
    },
    {
      "cell_type": "code",
      "source": [
        "df_train_subset=pd.read_csv('NLP/3/df_train_subset.csv')\n",
        "X_train=pd.read_csv('NLP/3/X_train.csv')\n",
        "X_test=pd.read_csv('NLP/3/X_test.csv')"
      ],
      "metadata": {
        "id": "LTC_kQIFc503"
      },
      "execution_count": null,
      "outputs": []
    },
    {
      "cell_type": "code",
      "source": [
        "X_train.head(2)"
      ],
      "metadata": {
        "colab": {
          "base_uri": "https://localhost:8080/",
          "height": 112
        },
        "id": "-fGR_fLYd1Jj",
        "outputId": "401d635f-fd88-4a7e-b1c7-a28948fec30c"
      },
      "execution_count": null,
      "outputs": [
        {
          "output_type": "execute_result",
          "data": {
            "text/plain": [
              "                                             context  \\\n",
              "0  Beyoncé Giselle Knowles-Carter (/biːˈjɒnseɪ/ b...   \n",
              "1  Following the disbandment of Destiny's Child i...   \n",
              "\n",
              "                                            question  \\\n",
              "0      In what city and state did Beyonce  grow up?    \n",
              "1  Which album was darker in tone from her previo...   \n",
              "\n",
              "                         id         answers  answer_start  answer_end  \\\n",
              "0  56bf6b0f3aeaaa14008c9601  Houston, Texas           166         180   \n",
              "1  56bf6e823aeaaa14008c962a         Beyoncé           180         187   \n",
              "\n",
              "   is_impossible  \n",
              "0          False  \n",
              "1          False  "
            ],
            "text/html": [
              "\n",
              "  <div id=\"df-ab5ebd22-ffea-4d8e-97fd-4323e8d3bd34\" class=\"colab-df-container\">\n",
              "    <div>\n",
              "<style scoped>\n",
              "    .dataframe tbody tr th:only-of-type {\n",
              "        vertical-align: middle;\n",
              "    }\n",
              "\n",
              "    .dataframe tbody tr th {\n",
              "        vertical-align: top;\n",
              "    }\n",
              "\n",
              "    .dataframe thead th {\n",
              "        text-align: right;\n",
              "    }\n",
              "</style>\n",
              "<table border=\"1\" class=\"dataframe\">\n",
              "  <thead>\n",
              "    <tr style=\"text-align: right;\">\n",
              "      <th></th>\n",
              "      <th>context</th>\n",
              "      <th>question</th>\n",
              "      <th>id</th>\n",
              "      <th>answers</th>\n",
              "      <th>answer_start</th>\n",
              "      <th>answer_end</th>\n",
              "      <th>is_impossible</th>\n",
              "    </tr>\n",
              "  </thead>\n",
              "  <tbody>\n",
              "    <tr>\n",
              "      <th>0</th>\n",
              "      <td>Beyoncé Giselle Knowles-Carter (/biːˈjɒnseɪ/ b...</td>\n",
              "      <td>In what city and state did Beyonce  grow up?</td>\n",
              "      <td>56bf6b0f3aeaaa14008c9601</td>\n",
              "      <td>Houston, Texas</td>\n",
              "      <td>166</td>\n",
              "      <td>180</td>\n",
              "      <td>False</td>\n",
              "    </tr>\n",
              "    <tr>\n",
              "      <th>1</th>\n",
              "      <td>Following the disbandment of Destiny's Child i...</td>\n",
              "      <td>Which album was darker in tone from her previo...</td>\n",
              "      <td>56bf6e823aeaaa14008c962a</td>\n",
              "      <td>Beyoncé</td>\n",
              "      <td>180</td>\n",
              "      <td>187</td>\n",
              "      <td>False</td>\n",
              "    </tr>\n",
              "  </tbody>\n",
              "</table>\n",
              "</div>\n",
              "    <div class=\"colab-df-buttons\">\n",
              "\n",
              "  <div class=\"colab-df-container\">\n",
              "    <button class=\"colab-df-convert\" onclick=\"convertToInteractive('df-ab5ebd22-ffea-4d8e-97fd-4323e8d3bd34')\"\n",
              "            title=\"Convert this dataframe to an interactive table.\"\n",
              "            style=\"display:none;\">\n",
              "\n",
              "  <svg xmlns=\"http://www.w3.org/2000/svg\" height=\"24px\" viewBox=\"0 -960 960 960\">\n",
              "    <path d=\"M120-120v-720h720v720H120Zm60-500h600v-160H180v160Zm220 220h160v-160H400v160Zm0 220h160v-160H400v160ZM180-400h160v-160H180v160Zm440 0h160v-160H620v160ZM180-180h160v-160H180v160Zm440 0h160v-160H620v160Z\"/>\n",
              "  </svg>\n",
              "    </button>\n",
              "\n",
              "  <style>\n",
              "    .colab-df-container {\n",
              "      display:flex;\n",
              "      gap: 12px;\n",
              "    }\n",
              "\n",
              "    .colab-df-convert {\n",
              "      background-color: #E8F0FE;\n",
              "      border: none;\n",
              "      border-radius: 50%;\n",
              "      cursor: pointer;\n",
              "      display: none;\n",
              "      fill: #1967D2;\n",
              "      height: 32px;\n",
              "      padding: 0 0 0 0;\n",
              "      width: 32px;\n",
              "    }\n",
              "\n",
              "    .colab-df-convert:hover {\n",
              "      background-color: #E2EBFA;\n",
              "      box-shadow: 0px 1px 2px rgba(60, 64, 67, 0.3), 0px 1px 3px 1px rgba(60, 64, 67, 0.15);\n",
              "      fill: #174EA6;\n",
              "    }\n",
              "\n",
              "    .colab-df-buttons div {\n",
              "      margin-bottom: 4px;\n",
              "    }\n",
              "\n",
              "    [theme=dark] .colab-df-convert {\n",
              "      background-color: #3B4455;\n",
              "      fill: #D2E3FC;\n",
              "    }\n",
              "\n",
              "    [theme=dark] .colab-df-convert:hover {\n",
              "      background-color: #434B5C;\n",
              "      box-shadow: 0px 1px 3px 1px rgba(0, 0, 0, 0.15);\n",
              "      filter: drop-shadow(0px 1px 2px rgba(0, 0, 0, 0.3));\n",
              "      fill: #FFFFFF;\n",
              "    }\n",
              "  </style>\n",
              "\n",
              "    <script>\n",
              "      const buttonEl =\n",
              "        document.querySelector('#df-ab5ebd22-ffea-4d8e-97fd-4323e8d3bd34 button.colab-df-convert');\n",
              "      buttonEl.style.display =\n",
              "        google.colab.kernel.accessAllowed ? 'block' : 'none';\n",
              "\n",
              "      async function convertToInteractive(key) {\n",
              "        const element = document.querySelector('#df-ab5ebd22-ffea-4d8e-97fd-4323e8d3bd34');\n",
              "        const dataTable =\n",
              "          await google.colab.kernel.invokeFunction('convertToInteractive',\n",
              "                                                    [key], {});\n",
              "        if (!dataTable) return;\n",
              "\n",
              "        const docLinkHtml = 'Like what you see? Visit the ' +\n",
              "          '<a target=\"_blank\" href=https://colab.research.google.com/notebooks/data_table.ipynb>data table notebook</a>'\n",
              "          + ' to learn more about interactive tables.';\n",
              "        element.innerHTML = '';\n",
              "        dataTable['output_type'] = 'display_data';\n",
              "        await google.colab.output.renderOutput(dataTable, element);\n",
              "        const docLink = document.createElement('div');\n",
              "        docLink.innerHTML = docLinkHtml;\n",
              "        element.appendChild(docLink);\n",
              "      }\n",
              "    </script>\n",
              "  </div>\n",
              "\n",
              "\n",
              "<div id=\"df-0c4350a8-a28a-4e3f-9fce-1b7bd527af11\">\n",
              "  <button class=\"colab-df-quickchart\" onclick=\"quickchart('df-0c4350a8-a28a-4e3f-9fce-1b7bd527af11')\"\n",
              "            title=\"Suggest charts\"\n",
              "            style=\"display:none;\">\n",
              "\n",
              "<svg xmlns=\"http://www.w3.org/2000/svg\" height=\"24px\"viewBox=\"0 0 24 24\"\n",
              "     width=\"24px\">\n",
              "    <g>\n",
              "        <path d=\"M19 3H5c-1.1 0-2 .9-2 2v14c0 1.1.9 2 2 2h14c1.1 0 2-.9 2-2V5c0-1.1-.9-2-2-2zM9 17H7v-7h2v7zm4 0h-2V7h2v10zm4 0h-2v-4h2v4z\"/>\n",
              "    </g>\n",
              "</svg>\n",
              "  </button>\n",
              "\n",
              "<style>\n",
              "  .colab-df-quickchart {\n",
              "      --bg-color: #E8F0FE;\n",
              "      --fill-color: #1967D2;\n",
              "      --hover-bg-color: #E2EBFA;\n",
              "      --hover-fill-color: #174EA6;\n",
              "      --disabled-fill-color: #AAA;\n",
              "      --disabled-bg-color: #DDD;\n",
              "  }\n",
              "\n",
              "  [theme=dark] .colab-df-quickchart {\n",
              "      --bg-color: #3B4455;\n",
              "      --fill-color: #D2E3FC;\n",
              "      --hover-bg-color: #434B5C;\n",
              "      --hover-fill-color: #FFFFFF;\n",
              "      --disabled-bg-color: #3B4455;\n",
              "      --disabled-fill-color: #666;\n",
              "  }\n",
              "\n",
              "  .colab-df-quickchart {\n",
              "    background-color: var(--bg-color);\n",
              "    border: none;\n",
              "    border-radius: 50%;\n",
              "    cursor: pointer;\n",
              "    display: none;\n",
              "    fill: var(--fill-color);\n",
              "    height: 32px;\n",
              "    padding: 0;\n",
              "    width: 32px;\n",
              "  }\n",
              "\n",
              "  .colab-df-quickchart:hover {\n",
              "    background-color: var(--hover-bg-color);\n",
              "    box-shadow: 0 1px 2px rgba(60, 64, 67, 0.3), 0 1px 3px 1px rgba(60, 64, 67, 0.15);\n",
              "    fill: var(--button-hover-fill-color);\n",
              "  }\n",
              "\n",
              "  .colab-df-quickchart-complete:disabled,\n",
              "  .colab-df-quickchart-complete:disabled:hover {\n",
              "    background-color: var(--disabled-bg-color);\n",
              "    fill: var(--disabled-fill-color);\n",
              "    box-shadow: none;\n",
              "  }\n",
              "\n",
              "  .colab-df-spinner {\n",
              "    border: 2px solid var(--fill-color);\n",
              "    border-color: transparent;\n",
              "    border-bottom-color: var(--fill-color);\n",
              "    animation:\n",
              "      spin 1s steps(1) infinite;\n",
              "  }\n",
              "\n",
              "  @keyframes spin {\n",
              "    0% {\n",
              "      border-color: transparent;\n",
              "      border-bottom-color: var(--fill-color);\n",
              "      border-left-color: var(--fill-color);\n",
              "    }\n",
              "    20% {\n",
              "      border-color: transparent;\n",
              "      border-left-color: var(--fill-color);\n",
              "      border-top-color: var(--fill-color);\n",
              "    }\n",
              "    30% {\n",
              "      border-color: transparent;\n",
              "      border-left-color: var(--fill-color);\n",
              "      border-top-color: var(--fill-color);\n",
              "      border-right-color: var(--fill-color);\n",
              "    }\n",
              "    40% {\n",
              "      border-color: transparent;\n",
              "      border-right-color: var(--fill-color);\n",
              "      border-top-color: var(--fill-color);\n",
              "    }\n",
              "    60% {\n",
              "      border-color: transparent;\n",
              "      border-right-color: var(--fill-color);\n",
              "    }\n",
              "    80% {\n",
              "      border-color: transparent;\n",
              "      border-right-color: var(--fill-color);\n",
              "      border-bottom-color: var(--fill-color);\n",
              "    }\n",
              "    90% {\n",
              "      border-color: transparent;\n",
              "      border-bottom-color: var(--fill-color);\n",
              "    }\n",
              "  }\n",
              "</style>\n",
              "\n",
              "  <script>\n",
              "    async function quickchart(key) {\n",
              "      const quickchartButtonEl =\n",
              "        document.querySelector('#' + key + ' button');\n",
              "      quickchartButtonEl.disabled = true;  // To prevent multiple clicks.\n",
              "      quickchartButtonEl.classList.add('colab-df-spinner');\n",
              "      try {\n",
              "        const charts = await google.colab.kernel.invokeFunction(\n",
              "            'suggestCharts', [key], {});\n",
              "      } catch (error) {\n",
              "        console.error('Error during call to suggestCharts:', error);\n",
              "      }\n",
              "      quickchartButtonEl.classList.remove('colab-df-spinner');\n",
              "      quickchartButtonEl.classList.add('colab-df-quickchart-complete');\n",
              "    }\n",
              "    (() => {\n",
              "      let quickchartButtonEl =\n",
              "        document.querySelector('#df-0c4350a8-a28a-4e3f-9fce-1b7bd527af11 button');\n",
              "      quickchartButtonEl.style.display =\n",
              "        google.colab.kernel.accessAllowed ? 'block' : 'none';\n",
              "    })();\n",
              "  </script>\n",
              "</div>\n",
              "\n",
              "    </div>\n",
              "  </div>\n"
            ],
            "application/vnd.google.colaboratory.intrinsic+json": {
              "type": "dataframe",
              "variable_name": "X_train",
              "summary": "{\n  \"name\": \"X_train\",\n  \"rows\": 1608,\n  \"fields\": [\n    {\n      \"column\": \"context\",\n      \"properties\": {\n        \"dtype\": \"string\",\n        \"num_unique_values\": 901,\n        \"samples\": [\n          \"Fryderyk Chopin was born in \\u017belazowa Wola, 46 kilometres (29 miles) west of Warsaw, in what was then the Duchy of Warsaw, a Polish state established by Napoleon. The parish baptismal record gives his birthday as 22 February 1810, and cites his given names in the Latin form Fridericus Franciscus (in Polish, he was Fryderyk Franciszek). However, the composer and his family used the birthdate 1 March,[n 2] which is now generally accepted as the correct date.\",\n          \"Universal Music Group decided not to renew their contract with the iTunes Store on July 3, 2007. Universal will now supply iTunes in an 'at will' capacity.\",\n          \"In the 1970s, job losses due to industrial restructuring caused New York City to suffer from economic problems and rising crime rates. While a resurgence in the financial industry greatly improved the city's economic health in the 1980s, New York's crime rate continued to increase through that decade and into the beginning of the 1990s. By the mid 1990s, crime rates started to drop dramatically due to revised police strategies, improving economic opportunities, gentrification, and new residents, both American transplants and new immigrants from Asia and Latin America. Important new sectors, such as Silicon Alley, emerged in the city's economy. New York's population reached all-time highs in the 2000 Census and then again in the 2010 Census.\"\n        ],\n        \"semantic_type\": \"\",\n        \"description\": \"\"\n      }\n    },\n    {\n      \"column\": \"question\",\n      \"properties\": {\n        \"dtype\": \"string\",\n        \"num_unique_values\": 1607,\n        \"samples\": [\n          \"Who wrote and provided art for a Twilight Princess comic book series?\",\n          \"The most acient yogic ideas is found in the early sermons of who?\",\n          \"Who is stated as being in attendance of Fr\\u00e9d\\u00e9ric's first performance at the Salle Pleyel on 26 February 1832?\"\n        ],\n        \"semantic_type\": \"\",\n        \"description\": \"\"\n      }\n    },\n    {\n      \"column\": \"id\",\n      \"properties\": {\n        \"dtype\": \"string\",\n        \"num_unique_values\": 1608,\n        \"samples\": [\n          \"56be96653aeaaa14008c9116\",\n          \"56bfd565a10cfb1400551319\",\n          \"56cec5d1aab44d1400b88a23\"\n        ],\n        \"semantic_type\": \"\",\n        \"description\": \"\"\n      }\n    },\n    {\n      \"column\": \"answers\",\n      \"properties\": {\n        \"dtype\": \"string\",\n        \"num_unique_values\": 1336,\n        \"samples\": [\n          \"Active\",\n          \"prevented him from leaving the palace grounds\",\n          \"fourteen\"\n        ],\n        \"semantic_type\": \"\",\n        \"description\": \"\"\n      }\n    },\n    {\n      \"column\": \"answer_start\",\n      \"properties\": {\n        \"dtype\": \"number\",\n        \"std\": 54,\n        \"min\": 0,\n        \"max\": 195,\n        \"num_unique_values\": 195,\n        \"samples\": [\n          63,\n          115,\n          195\n        ],\n        \"semantic_type\": \"\",\n        \"description\": \"\"\n      }\n    },\n    {\n      \"column\": \"answer_end\",\n      \"properties\": {\n        \"dtype\": \"number\",\n        \"std\": 55,\n        \"min\": 3,\n        \"max\": 199,\n        \"num_unique_values\": 197,\n        \"samples\": [\n          25,\n          126,\n          94\n        ],\n        \"semantic_type\": \"\",\n        \"description\": \"\"\n      }\n    },\n    {\n      \"column\": \"is_impossible\",\n      \"properties\": {\n        \"dtype\": \"boolean\",\n        \"num_unique_values\": 1,\n        \"samples\": [\n          false\n        ],\n        \"semantic_type\": \"\",\n        \"description\": \"\"\n      }\n    }\n  ]\n}"
            }
          },
          "metadata": {},
          "execution_count": 29
        }
      ]
    },
    {
      "cell_type": "code",
      "source": [
        "# Define the LSTM model for predicting start index & end index\n",
        "def build_updated_lstm_model(max_content_length=200,lstm_units=64,total_vocabs=10):\n",
        "    model=Sequential([\n",
        "        # Embedding(input_dim=total_vocabs,output_dim=64,input_length=max_content_length),\n",
        "        # LSTM(lstm_units,return_sequences=True),\n",
        "        # Dense(1,activation='sigmoid')\n",
        "        Embedding(input_dim=total_vocabs,output_dim=64,input_length=max_content_length),\n",
        "        Bidirectional(LSTM(lstm_units,return_sequences=True)),\n",
        "        Dropout(0.2),\n",
        "        LSTM(lstm_units),\n",
        "        Dropout(0.2),\n",
        "        Dense(1,activation='sigmoid')\n",
        "    ])\n",
        "    model.compile(optimizer=Adam(learning_rate=3e-5),loss='binary_crossentropy')\n",
        "    return model\n",
        "\n",
        "# Pre-Processing Data\n",
        "\n",
        "# Prepared the Tokenizer\n",
        "tokenizer=Tokenizer(num_words=10000)\n",
        "tokenizer.fit_on_texts(df_train_subset['context']+df_train_subset['question']+df_train_subset['answers'])\n",
        "\n",
        "# we define model architecture\n",
        "max_content_length:int=200\n",
        "total_epochs:int=6\n",
        "embedding_dim=100\n",
        "vocab_size=len(tokenizer.word_index) + 1\n",
        "print(f'{vocab_size=}')\n",
        "\n",
        "# For Training and Testing\n",
        "\n",
        "# Tokenize the data\n",
        "train_content_seq=tokenizer.texts_to_sequences(X_train['context']+X_train['question'])\n",
        "test_content_seq=tokenizer.texts_to_sequences(X_test['context']+X_test['question'])\n",
        "\n",
        "# Pad sequences to ensure uniform length\n",
        "train_content_seq=pad_sequences(train_content_seq,maxlen=max_content_length,padding='post')\n",
        "test_content_seq=pad_sequences(test_content_seq,maxlen=max_content_length,padding='post')\n",
        "\n",
        "# Generating the Output Labels\n",
        "\n",
        "# Get the indices of the answer start and end positions\n",
        "\n",
        "# Start Index\n",
        "answer_start_indices=X_train['answer_start'].values\n",
        "y_train_start=np.zeros((len(X_train),max_content_length),dtype=int)\n",
        "y_train_start[np.arange(len(X_train)),answer_start_indices]=1\n",
        "\n",
        "# End Index\n",
        "answer_end_indices=X_train['answer_end'].values\n",
        "y_train_end=np.zeros((len(X_train),max_content_length),dtype=int)\n",
        "y_train_end[np.arange(len(X_train)),answer_end_indices]=1\n",
        "\n",
        "print(y_train_start.shape,y_train_end.shape,)"
      ],
      "metadata": {
        "colab": {
          "base_uri": "https://localhost:8080/"
        },
        "id": "DNEvWEM9f10P",
        "outputId": "84994190-eb58-4d15-af31-0cb207adf60c"
      },
      "execution_count": null,
      "outputs": [
        {
          "output_type": "stream",
          "name": "stdout",
          "text": [
            "vocab_size = 13292\n",
            "(1608, 200) (1608, 200)\n"
          ]
        }
      ]
    },
    {
      "cell_type": "code",
      "source": [
        "early_stopping=EarlyStopping(monitor='val_loss',patience=3,restore_best_weights=True)\n",
        "reduce_lr=ReduceLROnPlateau(monitor='val_loss',factor=0.2,patience=3,min_lr=1e-6)"
      ],
      "metadata": {
        "id": "s6XoKp1SktxF"
      },
      "execution_count": null,
      "outputs": []
    },
    {
      "cell_type": "code",
      "source": [
        "# Build and train start index model\n",
        "start_model=build_lstm_model(total_vocabs=vocab_size)\n",
        "history_start=start_model.fit(train_content_seq,y_train_start,epochs=total_epochs,validation_split=0.2,callbacks=[early_stopping,reduce_lr])"
      ],
      "metadata": {
        "colab": {
          "base_uri": "https://localhost:8080/"
        },
        "id": "9Kh1I1OCgQqL",
        "outputId": "8897b615-d770-42cc-9c4a-14a772912cf6"
      },
      "execution_count": null,
      "outputs": [
        {
          "output_type": "stream",
          "name": "stdout",
          "text": [
            "Epoch 1/6\n",
            "41/41 [==============================] - 8s 140ms/step - loss: 0.2364 - val_loss: 0.0421 - lr: 0.0010\n",
            "Epoch 2/6\n",
            "41/41 [==============================] - 5s 120ms/step - loss: 0.0393 - val_loss: 0.0379 - lr: 0.0010\n",
            "Epoch 3/6\n",
            "41/41 [==============================] - 5s 122ms/step - loss: 0.0369 - val_loss: 0.0364 - lr: 0.0010\n",
            "Epoch 4/6\n",
            "41/41 [==============================] - 4s 103ms/step - loss: 0.0354 - val_loss: 0.0353 - lr: 0.0010\n",
            "Epoch 5/6\n",
            "41/41 [==============================] - 4s 101ms/step - loss: 0.0342 - val_loss: 0.0343 - lr: 0.0010\n",
            "Epoch 6/6\n",
            "41/41 [==============================] - 5s 116ms/step - loss: 0.0333 - val_loss: 0.0336 - lr: 0.0010\n"
          ]
        }
      ]
    },
    {
      "cell_type": "code",
      "source": [
        "# Build and train end index model\n",
        "end_model=build_lstm_model(total_vocabs=vocab_size)\n",
        "history_end=end_model.fit(train_content_seq,y_train_end,epochs=total_epochs,validation_split=0.2,callbacks=[early_stopping,reduce_lr])"
      ],
      "metadata": {
        "colab": {
          "base_uri": "https://localhost:8080/"
        },
        "id": "F9CPQBm1RhI3",
        "outputId": "05aa03f8-2768-4c8a-973d-46eee42711d6"
      },
      "execution_count": null,
      "outputs": [
        {
          "output_type": "stream",
          "name": "stdout",
          "text": [
            "Epoch 1/6\n",
            "41/41 [==============================] - 6s 109ms/step - loss: 0.2244 - val_loss: 0.0452 - lr: 0.0010\n",
            "Epoch 2/6\n",
            "41/41 [==============================] - 5s 112ms/step - loss: 0.0417 - val_loss: 0.0410 - lr: 0.0010\n",
            "Epoch 3/6\n",
            "41/41 [==============================] - 4s 96ms/step - loss: 0.0391 - val_loss: 0.0393 - lr: 0.0010\n",
            "Epoch 4/6\n",
            "41/41 [==============================] - 4s 98ms/step - loss: 0.0373 - val_loss: 0.0380 - lr: 0.0010\n",
            "Epoch 5/6\n",
            "41/41 [==============================] - 5s 114ms/step - loss: 0.0358 - val_loss: 0.0368 - lr: 0.0010\n",
            "Epoch 6/6\n",
            "41/41 [==============================] - 5s 111ms/step - loss: 0.0346 - val_loss: 0.0360 - lr: 0.0010\n"
          ]
        }
      ]
    },
    {
      "cell_type": "code",
      "source": [
        "# Print model summary\n",
        "start_model.summary()"
      ],
      "metadata": {
        "colab": {
          "base_uri": "https://localhost:8080/"
        },
        "id": "M30ca-UzqeKo",
        "outputId": "07112f73-685f-4838-92f5-61c574a0a302"
      },
      "execution_count": null,
      "outputs": [
        {
          "output_type": "stream",
          "name": "stdout",
          "text": [
            "Model: \"sequential_4\"\n",
            "_________________________________________________________________\n",
            " Layer (type)                Output Shape              Param #   \n",
            "=================================================================\n",
            " embedding_4 (Embedding)     (None, 200, 64)           850688    \n",
            "                                                                 \n",
            " lstm_4 (LSTM)               (None, 200, 64)           33024     \n",
            "                                                                 \n",
            " dense_4 (Dense)             (None, 200, 1)            65        \n",
            "                                                                 \n",
            "=================================================================\n",
            "Total params: 883777 (3.37 MB)\n",
            "Trainable params: 883777 (3.37 MB)\n",
            "Non-trainable params: 0 (0.00 Byte)\n",
            "_________________________________________________________________\n"
          ]
        }
      ]
    },
    {
      "cell_type": "code",
      "source": [
        "# Print model summary\n",
        "end_model.summary()"
      ],
      "metadata": {
        "colab": {
          "base_uri": "https://localhost:8080/"
        },
        "id": "H7lxjZXRqjBs",
        "outputId": "45d38d2b-bff1-43e8-be9a-324d57718c4a"
      },
      "execution_count": null,
      "outputs": [
        {
          "output_type": "stream",
          "name": "stdout",
          "text": [
            "Model: \"sequential_5\"\n",
            "_________________________________________________________________\n",
            " Layer (type)                Output Shape              Param #   \n",
            "=================================================================\n",
            " embedding_5 (Embedding)     (None, 200, 64)           850688    \n",
            "                                                                 \n",
            " lstm_5 (LSTM)               (None, 200, 64)           33024     \n",
            "                                                                 \n",
            " dense_5 (Dense)             (None, 200, 1)            65        \n",
            "                                                                 \n",
            "=================================================================\n",
            "Total params: 883777 (3.37 MB)\n",
            "Trainable params: 883777 (3.37 MB)\n",
            "Non-trainable params: 0 (0.00 Byte)\n",
            "_________________________________________________________________\n"
          ]
        }
      ]
    },
    {
      "cell_type": "code",
      "source": [
        "history_start.history.keys()"
      ],
      "metadata": {
        "colab": {
          "base_uri": "https://localhost:8080/"
        },
        "id": "Ne0lLlNJlCrE",
        "outputId": "6698a132-8f30-4490-8e53-2152fe6b5842"
      },
      "execution_count": null,
      "outputs": [
        {
          "output_type": "execute_result",
          "data": {
            "text/plain": [
              "dict_keys(['loss', 'val_loss', 'lr'])"
            ]
          },
          "metadata": {},
          "execution_count": 50
        }
      ]
    },
    {
      "cell_type": "code",
      "source": [
        "def plot_epoch_vs_loss_points(list1:list[float],list1_str:str)->None:\n",
        "  plt.figure(figsize=(8,5))\n",
        "  plt.plot(list1,label=f'{list1_str}')\n",
        "  plt.xlabel('Epochs')\n",
        "  plt.ylabel('Loss')\n",
        "  plt.title(f'Training {list1_str} Loss vs Epochs')\n",
        "  plt.legend()\n",
        "  plt.tight_layout()\n",
        "  plt.show()\n",
        "  return None"
      ],
      "metadata": {
        "id": "QZrLB3dHicKK"
      },
      "execution_count": null,
      "outputs": []
    },
    {
      "cell_type": "code",
      "source": [
        "for l1,l2,l3 in [\n",
        "    (history_start.history['loss'],history_start.history['val_loss'],'Start Index Model Loss'),\n",
        "    (history_end.history['loss'],history_end.history['val_loss'],'End Index Model Loss'),\n",
        "  ]:\n",
        "  plot_training_points(list1=l1,list2=l2,list1_str=l3)"
      ],
      "metadata": {
        "colab": {
          "base_uri": "https://localhost:8080/",
          "height": 997
        },
        "id": "NvTpA_rZlaLv",
        "outputId": "217e9138-ffbc-43e9-9223-e8d8b7fc0b8f"
      },
      "execution_count": null,
      "outputs": [
        {
          "output_type": "display_data",
          "data": {
            "text/plain": [
              "<Figure size 800x500 with 1 Axes>"
            ],
            "image/png": "[encoded data removed]"
          },
          "metadata": {}
        },
        {
          "output_type": "display_data",
          "data": {
            "text/plain": [
              "<Figure size 800x500 with 1 Axes>"
            ],
            "image/png": "[encoded data removed]"
          },
          "metadata": {}
        }
      ]
    },
    {
      "cell_type": "code",
      "source": [
        "# Predict start and end indices\n",
        "start_preds=start_model.predict(test_content_seq)\n",
        "end_preds=end_model.predict(test_content_seq)"
      ],
      "metadata": {
        "colab": {
          "base_uri": "https://localhost:8080/"
        },
        "id": "xpyDzD57b3E-",
        "outputId": "854ff145-cdc6-4e1b-deb0-7405fe8b8d05"
      },
      "execution_count": null,
      "outputs": [
        {
          "output_type": "stream",
          "name": "stdout",
          "text": [
            "14/14 [==============================] - 1s 45ms/step\n",
            "14/14 [==============================] - 1s 34ms/step\n"
          ]
        }
      ]
    },
    {
      "cell_type": "code",
      "source": [
        "print(X_test.shape,start_preds.shape,end_preds.shape)"
      ],
      "metadata": {
        "colab": {
          "base_uri": "https://localhost:8080/"
        },
        "id": "FSaYVxLAjY4I",
        "outputId": "d3dc0d5d-15f7-4a16-e306-7773fa618b0c"
      },
      "execution_count": null,
      "outputs": [
        {
          "output_type": "stream",
          "name": "stdout",
          "text": [
            "(440, 7) (440, 200, 1) (440, 200, 1)\n"
          ]
        }
      ]
    },
    {
      "cell_type": "code",
      "source": [
        "# De-Tokenize our predictions to text\n",
        "predicted_answers:list=[]\n",
        "for i in range(len(X_test)):\n",
        "    start_index=np.argmax(start_preds[i])\n",
        "    end_index=np.argmax(end_preds[i])\n",
        "    if start_index <=end_index:\n",
        "        predicted_answer=X_test['context'][i][start_index:end_index+1]\n",
        "    else:\n",
        "        predicted_answer=''\n",
        "    predicted_answers.append(predicted_answer)"
      ],
      "metadata": {
        "id": "-1C21edFa-1l"
      },
      "execution_count": null,
      "outputs": []
    },
    {
      "cell_type": "code",
      "source": [
        "len(predicted_answers)"
      ],
      "metadata": {
        "colab": {
          "base_uri": "https://localhost:8080/"
        },
        "id": "SQMncu4gb50n",
        "outputId": "904a5416-276c-4356-ad2a-1fc08dc5b44a"
      },
      "execution_count": null,
      "outputs": [
        {
          "output_type": "execute_result",
          "data": {
            "text/plain": [
              "440"
            ]
          },
          "metadata": {},
          "execution_count": 57
        }
      ]
    },
    {
      "cell_type": "code",
      "source": [
        "# Calculate F1 score\n",
        "true_answers=X_test['answers']\n",
        "f1_score=2 * np.sum(np.array(predicted_answers)==np.array(true_answers)) / (len(predicted_answers) + len(true_answers))\n",
        "print(\"F1 Score:\",f1_score)"
      ],
      "metadata": {
        "colab": {
          "base_uri": "https://localhost:8080/"
        },
        "id": "VhQ1BQ-gb5xo",
        "outputId": "67813d56-4c78-4cab-9f05-f951d60a314a"
      },
      "execution_count": null,
      "outputs": [
        {
          "output_type": "stream",
          "name": "stdout",
          "text": [
            "F1 Score: 0.0\n"
          ]
        }
      ]
    },
    {
      "cell_type": "code",
      "source": [
        "# The Method Failed and the model didn't learn anything"
      ],
      "metadata": {
        "id": "q4kv0xGKb5t-"
      },
      "execution_count": null,
      "outputs": []
    },
    {
      "cell_type": "markdown",
      "source": [
        "##### Traditional Machine Learning Method (Subset)"
      ],
      "metadata": {
        "id": "qJjk0-XRuM0I"
      }
    },
    {
      "cell_type": "code",
      "source": [
        "df_train_subset=pd.read_csv('NLP/3/df_train_subset.csv')\n",
        "X_train=pd.read_csv('NLP/3/X_train.csv')\n",
        "X_test=pd.read_csv('NLP/3/X_test.csv')"
      ],
      "metadata": {
        "id": "L4bp9J0fGxrV"
      },
      "execution_count": null,
      "outputs": []
    },
    {
      "cell_type": "code",
      "source": [
        "from sklearn.feature_extraction.text import TfidfVectorizer\n",
        "from sklearn.linear_model import LinearRegression,Ridge,Lasso,ElasticNet,HuberRegressor\n",
        "from sklearn.tree import DecisionTreeRegressor\n",
        "from sklearn.ensemble import RandomForestRegressor,GradientBoostingRegressor,AdaBoostRegressor\n",
        "from sklearn.linear_model import PoissonRegressor\n",
        "from sklearn.kernel_ridge import KernelRidge\n",
        "from sklearn.metrics import f1_score\n",
        "import time"
      ],
      "metadata": {
        "id": "eUVGd0RfwnJw"
      },
      "execution_count": null,
      "outputs": []
    },
    {
      "cell_type": "code",
      "source": [
        "df_train_subset['context']=df_train_subset['context'].str.lower()\n",
        "df_train_subset['question']=df_train_subset['question'].str.lower()\n",
        "\n",
        "X_train['context']=X_train['context'].str.lower()\n",
        "X_train['question']=X_train['question'].str.lower()\n",
        "\n",
        "X_test['context']=X_test['context'].str.lower()\n",
        "X_test['question']=X_test['question'].str.lower()"
      ],
      "metadata": {
        "id": "4a_dF6AIw9gj"
      },
      "execution_count": null,
      "outputs": []
    },
    {
      "cell_type": "code",
      "source": [
        "X_train.head(2)"
      ],
      "metadata": {
        "colab": {
          "base_uri": "https://localhost:8080/",
          "height": 112
        },
        "outputId": "ae004b6e-7331-4b99-fad3-0c7c4fc4cb1a",
        "id": "zjH3TlhquMHb"
      },
      "execution_count": null,
      "outputs": [
        {
          "output_type": "execute_result",
          "data": {
            "text/plain": [
              "                                             context  \\\n",
              "0  beyoncé giselle knowles-carter (/biːˈjɒnseɪ/ b...   \n",
              "1  following the disbandment of destiny's child i...   \n",
              "\n",
              "                                            question  \\\n",
              "0      in what city and state did beyonce  grow up?    \n",
              "1  which album was darker in tone from her previo...   \n",
              "\n",
              "                         id         answers  answer_start  answer_end  \\\n",
              "0  56bf6b0f3aeaaa14008c9601  Houston, Texas           166         180   \n",
              "1  56bf6e823aeaaa14008c962a         Beyoncé           180         187   \n",
              "\n",
              "   is_impossible  \n",
              "0          False  \n",
              "1          False  "
            ],
            "text/html": [
              "\n",
              "  <div id=\"df-b6b9de43-0d39-4fe7-ae0d-dc6954d97cf3\" class=\"colab-df-container\">\n",
              "    <div>\n",
              "<style scoped>\n",
              "    .dataframe tbody tr th:only-of-type {\n",
              "        vertical-align: middle;\n",
              "    }\n",
              "\n",
              "    .dataframe tbody tr th {\n",
              "        vertical-align: top;\n",
              "    }\n",
              "\n",
              "    .dataframe thead th {\n",
              "        text-align: right;\n",
              "    }\n",
              "</style>\n",
              "<table border=\"1\" class=\"dataframe\">\n",
              "  <thead>\n",
              "    <tr style=\"text-align: right;\">\n",
              "      <th></th>\n",
              "      <th>context</th>\n",
              "      <th>question</th>\n",
              "      <th>id</th>\n",
              "      <th>answers</th>\n",
              "      <th>answer_start</th>\n",
              "      <th>answer_end</th>\n",
              "      <th>is_impossible</th>\n",
              "    </tr>\n",
              "  </thead>\n",
              "  <tbody>\n",
              "    <tr>\n",
              "      <th>0</th>\n",
              "      <td>beyoncé giselle knowles-carter (/biːˈjɒnseɪ/ b...</td>\n",
              "      <td>in what city and state did beyonce  grow up?</td>\n",
              "      <td>56bf6b0f3aeaaa14008c9601</td>\n",
              "      <td>Houston, Texas</td>\n",
              "      <td>166</td>\n",
              "      <td>180</td>\n",
              "      <td>False</td>\n",
              "    </tr>\n",
              "    <tr>\n",
              "      <th>1</th>\n",
              "      <td>following the disbandment of destiny's child i...</td>\n",
              "      <td>which album was darker in tone from her previo...</td>\n",
              "      <td>56bf6e823aeaaa14008c962a</td>\n",
              "      <td>Beyoncé</td>\n",
              "      <td>180</td>\n",
              "      <td>187</td>\n",
              "      <td>False</td>\n",
              "    </tr>\n",
              "  </tbody>\n",
              "</table>\n",
              "</div>\n",
              "    <div class=\"colab-df-buttons\">\n",
              "\n",
              "  <div class=\"colab-df-container\">\n",
              "    <button class=\"colab-df-convert\" onclick=\"convertToInteractive('df-b6b9de43-0d39-4fe7-ae0d-dc6954d97cf3')\"\n",
              "            title=\"Convert this dataframe to an interactive table.\"\n",
              "            style=\"display:none;\">\n",
              "\n",
              "  <svg xmlns=\"http://www.w3.org/2000/svg\" height=\"24px\" viewBox=\"0 -960 960 960\">\n",
              "    <path d=\"M120-120v-720h720v720H120Zm60-500h600v-160H180v160Zm220 220h160v-160H400v160Zm0 220h160v-160H400v160ZM180-400h160v-160H180v160Zm440 0h160v-160H620v160ZM180-180h160v-160H180v160Zm440 0h160v-160H620v160Z\"/>\n",
              "  </svg>\n",
              "    </button>\n",
              "\n",
              "  <style>\n",
              "    .colab-df-container {\n",
              "      display:flex;\n",
              "      gap: 12px;\n",
              "    }\n",
              "\n",
              "    .colab-df-convert {\n",
              "      background-color: #E8F0FE;\n",
              "      border: none;\n",
              "      border-radius: 50%;\n",
              "      cursor: pointer;\n",
              "      display: none;\n",
              "      fill: #1967D2;\n",
              "      height: 32px;\n",
              "      padding: 0 0 0 0;\n",
              "      width: 32px;\n",
              "    }\n",
              "\n",
              "    .colab-df-convert:hover {\n",
              "      background-color: #E2EBFA;\n",
              "      box-shadow: 0px 1px 2px rgba(60, 64, 67, 0.3), 0px 1px 3px 1px rgba(60, 64, 67, 0.15);\n",
              "      fill: #174EA6;\n",
              "    }\n",
              "\n",
              "    .colab-df-buttons div {\n",
              "      margin-bottom: 4px;\n",
              "    }\n",
              "\n",
              "    [theme=dark] .colab-df-convert {\n",
              "      background-color: #3B4455;\n",
              "      fill: #D2E3FC;\n",
              "    }\n",
              "\n",
              "    [theme=dark] .colab-df-convert:hover {\n",
              "      background-color: #434B5C;\n",
              "      box-shadow: 0px 1px 3px 1px rgba(0, 0, 0, 0.15);\n",
              "      filter: drop-shadow(0px 1px 2px rgba(0, 0, 0, 0.3));\n",
              "      fill: #FFFFFF;\n",
              "    }\n",
              "  </style>\n",
              "\n",
              "    <script>\n",
              "      const buttonEl =\n",
              "        document.querySelector('#df-b6b9de43-0d39-4fe7-ae0d-dc6954d97cf3 button.colab-df-convert');\n",
              "      buttonEl.style.display =\n",
              "        google.colab.kernel.accessAllowed ? 'block' : 'none';\n",
              "\n",
              "      async function convertToInteractive(key) {\n",
              "        const element = document.querySelector('#df-b6b9de43-0d39-4fe7-ae0d-dc6954d97cf3');\n",
              "        const dataTable =\n",
              "          await google.colab.kernel.invokeFunction('convertToInteractive',\n",
              "                                                    [key], {});\n",
              "        if (!dataTable) return;\n",
              "\n",
              "        const docLinkHtml = 'Like what you see? Visit the ' +\n",
              "          '<a target=\"_blank\" href=https://colab.research.google.com/notebooks/data_table.ipynb>data table notebook</a>'\n",
              "          + ' to learn more about interactive tables.';\n",
              "        element.innerHTML = '';\n",
              "        dataTable['output_type'] = 'display_data';\n",
              "        await google.colab.output.renderOutput(dataTable, element);\n",
              "        const docLink = document.createElement('div');\n",
              "        docLink.innerHTML = docLinkHtml;\n",
              "        element.appendChild(docLink);\n",
              "      }\n",
              "    </script>\n",
              "  </div>\n",
              "\n",
              "\n",
              "<div id=\"df-6cb9f882-d404-4546-a999-f28a7acd1041\">\n",
              "  <button class=\"colab-df-quickchart\" onclick=\"quickchart('df-6cb9f882-d404-4546-a999-f28a7acd1041')\"\n",
              "            title=\"Suggest charts\"\n",
              "            style=\"display:none;\">\n",
              "\n",
              "<svg xmlns=\"http://www.w3.org/2000/svg\" height=\"24px\"viewBox=\"0 0 24 24\"\n",
              "     width=\"24px\">\n",
              "    <g>\n",
              "        <path d=\"M19 3H5c-1.1 0-2 .9-2 2v14c0 1.1.9 2 2 2h14c1.1 0 2-.9 2-2V5c0-1.1-.9-2-2-2zM9 17H7v-7h2v7zm4 0h-2V7h2v10zm4 0h-2v-4h2v4z\"/>\n",
              "    </g>\n",
              "</svg>\n",
              "  </button>\n",
              "\n",
              "<style>\n",
              "  .colab-df-quickchart {\n",
              "      --bg-color: #E8F0FE;\n",
              "      --fill-color: #1967D2;\n",
              "      --hover-bg-color: #E2EBFA;\n",
              "      --hover-fill-color: #174EA6;\n",
              "      --disabled-fill-color: #AAA;\n",
              "      --disabled-bg-color: #DDD;\n",
              "  }\n",
              "\n",
              "  [theme=dark] .colab-df-quickchart {\n",
              "      --bg-color: #3B4455;\n",
              "      --fill-color: #D2E3FC;\n",
              "      --hover-bg-color: #434B5C;\n",
              "      --hover-fill-color: #FFFFFF;\n",
              "      --disabled-bg-color: #3B4455;\n",
              "      --disabled-fill-color: #666;\n",
              "  }\n",
              "\n",
              "  .colab-df-quickchart {\n",
              "    background-color: var(--bg-color);\n",
              "    border: none;\n",
              "    border-radius: 50%;\n",
              "    cursor: pointer;\n",
              "    display: none;\n",
              "    fill: var(--fill-color);\n",
              "    height: 32px;\n",
              "    padding: 0;\n",
              "    width: 32px;\n",
              "  }\n",
              "\n",
              "  .colab-df-quickchart:hover {\n",
              "    background-color: var(--hover-bg-color);\n",
              "    box-shadow: 0 1px 2px rgba(60, 64, 67, 0.3), 0 1px 3px 1px rgba(60, 64, 67, 0.15);\n",
              "    fill: var(--button-hover-fill-color);\n",
              "  }\n",
              "\n",
              "  .colab-df-quickchart-complete:disabled,\n",
              "  .colab-df-quickchart-complete:disabled:hover {\n",
              "    background-color: var(--disabled-bg-color);\n",
              "    fill: var(--disabled-fill-color);\n",
              "    box-shadow: none;\n",
              "  }\n",
              "\n",
              "  .colab-df-spinner {\n",
              "    border: 2px solid var(--fill-color);\n",
              "    border-color: transparent;\n",
              "    border-bottom-color: var(--fill-color);\n",
              "    animation:\n",
              "      spin 1s steps(1) infinite;\n",
              "  }\n",
              "\n",
              "  @keyframes spin {\n",
              "    0% {\n",
              "      border-color: transparent;\n",
              "      border-bottom-color: var(--fill-color);\n",
              "      border-left-color: var(--fill-color);\n",
              "    }\n",
              "    20% {\n",
              "      border-color: transparent;\n",
              "      border-left-color: var(--fill-color);\n",
              "      border-top-color: var(--fill-color);\n",
              "    }\n",
              "    30% {\n",
              "      border-color: transparent;\n",
              "      border-left-color: var(--fill-color);\n",
              "      border-top-color: var(--fill-color);\n",
              "      border-right-color: var(--fill-color);\n",
              "    }\n",
              "    40% {\n",
              "      border-color: transparent;\n",
              "      border-right-color: var(--fill-color);\n",
              "      border-top-color: var(--fill-color);\n",
              "    }\n",
              "    60% {\n",
              "      border-color: transparent;\n",
              "      border-right-color: var(--fill-color);\n",
              "    }\n",
              "    80% {\n",
              "      border-color: transparent;\n",
              "      border-right-color: var(--fill-color);\n",
              "      border-bottom-color: var(--fill-color);\n",
              "    }\n",
              "    90% {\n",
              "      border-color: transparent;\n",
              "      border-bottom-color: var(--fill-color);\n",
              "    }\n",
              "  }\n",
              "</style>\n",
              "\n",
              "  <script>\n",
              "    async function quickchart(key) {\n",
              "      const quickchartButtonEl =\n",
              "        document.querySelector('#' + key + ' button');\n",
              "      quickchartButtonEl.disabled = true;  // To prevent multiple clicks.\n",
              "      quickchartButtonEl.classList.add('colab-df-spinner');\n",
              "      try {\n",
              "        const charts = await google.colab.kernel.invokeFunction(\n",
              "            'suggestCharts', [key], {});\n",
              "      } catch (error) {\n",
              "        console.error('Error during call to suggestCharts:', error);\n",
              "      }\n",
              "      quickchartButtonEl.classList.remove('colab-df-spinner');\n",
              "      quickchartButtonEl.classList.add('colab-df-quickchart-complete');\n",
              "    }\n",
              "    (() => {\n",
              "      let quickchartButtonEl =\n",
              "        document.querySelector('#df-6cb9f882-d404-4546-a999-f28a7acd1041 button');\n",
              "      quickchartButtonEl.style.display =\n",
              "        google.colab.kernel.accessAllowed ? 'block' : 'none';\n",
              "    })();\n",
              "  </script>\n",
              "</div>\n",
              "\n",
              "    </div>\n",
              "  </div>\n"
            ],
            "application/vnd.google.colaboratory.intrinsic+json": {
              "type": "dataframe",
              "variable_name": "X_train",
              "summary": "{\n  \"name\": \"X_train\",\n  \"rows\": 1608,\n  \"fields\": [\n    {\n      \"column\": \"context\",\n      \"properties\": {\n        \"dtype\": \"string\",\n        \"num_unique_values\": 901,\n        \"samples\": [\n          \"fryderyk chopin was born in \\u017celazowa wola, 46 kilometres (29 miles) west of warsaw, in what was then the duchy of warsaw, a polish state established by napoleon. the parish baptismal record gives his birthday as 22 february 1810, and cites his given names in the latin form fridericus franciscus (in polish, he was fryderyk franciszek). however, the composer and his family used the birthdate 1 march,[n 2] which is now generally accepted as the correct date.\",\n          \"universal music group decided not to renew their contract with the itunes store on july 3, 2007. universal will now supply itunes in an 'at will' capacity.\",\n          \"in the 1970s, job losses due to industrial restructuring caused new york city to suffer from economic problems and rising crime rates. while a resurgence in the financial industry greatly improved the city's economic health in the 1980s, new york's crime rate continued to increase through that decade and into the beginning of the 1990s. by the mid 1990s, crime rates started to drop dramatically due to revised police strategies, improving economic opportunities, gentrification, and new residents, both american transplants and new immigrants from asia and latin america. important new sectors, such as silicon alley, emerged in the city's economy. new york's population reached all-time highs in the 2000 census and then again in the 2010 census.\"\n        ],\n        \"semantic_type\": \"\",\n        \"description\": \"\"\n      }\n    },\n    {\n      \"column\": \"question\",\n      \"properties\": {\n        \"dtype\": \"string\",\n        \"num_unique_values\": 1607,\n        \"samples\": [\n          \"who wrote and provided art for a twilight princess comic book series?\",\n          \"the most acient yogic ideas is found in the early sermons of who?\",\n          \"who is stated as being in attendance of fr\\u00e9d\\u00e9ric's first performance at the salle pleyel on 26 february 1832?\"\n        ],\n        \"semantic_type\": \"\",\n        \"description\": \"\"\n      }\n    },\n    {\n      \"column\": \"id\",\n      \"properties\": {\n        \"dtype\": \"string\",\n        \"num_unique_values\": 1608,\n        \"samples\": [\n          \"56be96653aeaaa14008c9116\",\n          \"56bfd565a10cfb1400551319\",\n          \"56cec5d1aab44d1400b88a23\"\n        ],\n        \"semantic_type\": \"\",\n        \"description\": \"\"\n      }\n    },\n    {\n      \"column\": \"answers\",\n      \"properties\": {\n        \"dtype\": \"string\",\n        \"num_unique_values\": 1336,\n        \"samples\": [\n          \"Active\",\n          \"prevented him from leaving the palace grounds\",\n          \"fourteen\"\n        ],\n        \"semantic_type\": \"\",\n        \"description\": \"\"\n      }\n    },\n    {\n      \"column\": \"answer_start\",\n      \"properties\": {\n        \"dtype\": \"number\",\n        \"std\": 54,\n        \"min\": 0,\n        \"max\": 195,\n        \"num_unique_values\": 195,\n        \"samples\": [\n          63,\n          115,\n          195\n        ],\n        \"semantic_type\": \"\",\n        \"description\": \"\"\n      }\n    },\n    {\n      \"column\": \"answer_end\",\n      \"properties\": {\n        \"dtype\": \"number\",\n        \"std\": 55,\n        \"min\": 3,\n        \"max\": 199,\n        \"num_unique_values\": 197,\n        \"samples\": [\n          25,\n          126,\n          94\n        ],\n        \"semantic_type\": \"\",\n        \"description\": \"\"\n      }\n    },\n    {\n      \"column\": \"is_impossible\",\n      \"properties\": {\n        \"dtype\": \"boolean\",\n        \"num_unique_values\": 1,\n        \"samples\": [\n          false\n        ],\n        \"semantic_type\": \"\",\n        \"description\": \"\"\n      }\n    }\n  ]\n}"
            }
          },
          "metadata": {},
          "execution_count": 11
        }
      ]
    },
    {
      "cell_type": "code",
      "source": [
        "# 1. Extraction of features using TF-IDF (Term Frequency & Inverse Document Frequency)\n",
        "tfidf_vectorizer=TfidfVectorizer(use_idf=True,max_features=6000)\n",
        "tfidf_vectorizer.fit(df_train_subset['context']+df_train_subset['question'])\n",
        "X_train_tfidf=tfidf_vectorizer.fit_transform(X_train['context']+X_train['question'])\n",
        "X_test_tfidf=tfidf_vectorizer.fit_transform(X_test['context']+X_test['question'])\n",
        "del tfidf_vectorizer,TfidfVectorizer\n",
        "y_train_start=X_train['answer_start'].values\n",
        "y_train_end=X_train['answer_end'].values\n",
        "y_test_start=X_test['answer_start'].values\n",
        "y_test_end=X_test['answer_end'].values\n",
        "print(f'{X_train_tfidf.shape=},\\n{X_test_tfidf.shape=},\\n{type(X_train_tfidf)=},\\n{type(X_test_tfidf)=}')\n",
        "print(f'{y_train_start.shape=},\\n{y_train_end.shape=},\\n{y_test_start.shape=},\\n{y_test_end.shape=}')"
      ],
      "metadata": {
        "colab": {
          "base_uri": "https://localhost:8080/"
        },
        "id": "y9GzsNHhv7lt",
        "outputId": "204b1be6-1c64-4013-be3f-d9a00ad06a12"
      },
      "execution_count": null,
      "outputs": [
        {
          "output_type": "stream",
          "name": "stdout",
          "text": [
            "X_train_tfidf.shape = (1608, 6000),\n",
            "X_test_tfidf.shape = (440, 6000),\n",
            "type(X_train_tfidf) = <class 'scipy.sparse._csr.csr_matrix'>,\n",
            "type(X_test_tfidf) = <class 'scipy.sparse._csr.csr_matrix'>\n",
            "y_train_start.shape = (1608,),\n",
            "y_train_end.shape = (1608,),\n",
            "y_test_start.shape = (440,),\n",
            "y_test_end.shape = (440,)\n"
          ]
        }
      ]
    },
    {
      "cell_type": "code",
      "source": [
        "# Define thresholds for binarization\n",
        "threshold_start:float=0.5\n",
        "threshold_end:float=0.5\n",
        "\n",
        "def get_binary_predictions(predictions,threshold):\n",
        "    return (predictions >=threshold).astype(int)\n",
        "\n",
        "def get_evaluation_metrics(true_pred,test_pred):\n",
        "    binary_pred=get_binary_predictions(test_pred,threshold_start)\n",
        "    return f1_score(true_pred,binary_pred,average='weighted')\n",
        "\n",
        "def train_model(xtrain_records,ytrain_records,xtest_records,ytest_records) -> list:\n",
        "  # Training different models\n",
        "  linear_regression_model=LinearRegression()\n",
        "  ridge_regression_model=Ridge()\n",
        "  lasso_regression_model=Lasso()\n",
        "  elasticnet_regression_model=ElasticNet()\n",
        "  decision_tree_regression_model=DecisionTreeRegressor()\n",
        "  random_forest_regression_model=RandomForestRegressor()\n",
        "  gradient_boosting_regression_model=GradientBoostingRegressor()\n",
        "  adaboost_regression_model=AdaBoostRegressor()\n",
        "  huber_regression_model=HuberRegressor()\n",
        "  poisson_regression_model=PoissonRegressor()\n",
        "  kernel_ridge_regression_model=KernelRidge()\n",
        "\n",
        "  method_names=[]\n",
        "  f1s=[]\n",
        "\n",
        "  print('Models Running : ',time.ctime())\n",
        "  for model1,model_name in [\n",
        "      (linear_regression_model,\"Linear Regression\"),\n",
        "      (ridge_regression_model,\"Ridge Regression\"),\n",
        "      (lasso_regression_model,\"Lasso Regression\"),\n",
        "      (elasticnet_regression_model,\"ElasticNet Regression\"),\n",
        "      (decision_tree_regression_model,\"Decision Tree Regression\"),\n",
        "      (random_forest_regression_model,\"Random Forest Regression\"),\n",
        "      (gradient_boosting_regression_model,\"Gradient Boosting Regression\"),\n",
        "      (adaboost_regression_model,\"AdaBoost Regression\"),\n",
        "      (huber_regression_model,\"Huber Regression\"),\n",
        "      (poisson_regression_model,\"Poisson Regression\"),\n",
        "      (kernel_ridge_regression_model,\"Kernel Ridge Regression\"),\n",
        "  ]:\n",
        "      try:\n",
        "          model1.fit(xtrain_records,ytrain_records)\n",
        "          f=get_evaluation_metrics(true_pred=ytest_records,test_pred=model1.predict(xtest_records))\n",
        "          method_names.append(model_name)\n",
        "          f1s.append(f)\n",
        "          print(model_name,time.ctime())\n",
        "      except Exception as e:\n",
        "          print('Error -> ',e,'===',model_name,time.ctime())\n",
        "  return method_names,f1s"
      ],
      "metadata": {
        "id": "M96ITAY_u-HU"
      },
      "execution_count": null,
      "outputs": []
    },
    {
      "cell_type": "code",
      "source": [
        "print('Running Traditional Models for Start Index')\n",
        "method_names_list_start,f1_list_start=train_model(xtrain_records=X_train_tfidf,ytrain_records=y_train_start,xtest_records=X_test_tfidf,ytest_records=y_test_start)\n",
        "print('\\nRunning Traditional Models for End Index')\n",
        "method_names_list_end,f1_list_end=train_model(xtrain_records=X_train_tfidf,ytrain_records=y_train_end,xtest_records=X_test_tfidf,ytest_records=y_test_end)\n",
        "del X_train_tfidf,X_test_tfidf,y_train_end,y_test_end,y_train_start,y_test_start"
      ],
      "metadata": {
        "colab": {
          "base_uri": "https://localhost:8080/"
        },
        "id": "YrlMnKpszQOm",
        "outputId": "d76951dc-148d-43ff-c119-e172662aa0a2"
      },
      "execution_count": null,
      "outputs": [
        {
          "output_type": "stream",
          "name": "stdout",
          "text": [
            "Running Traditional Models for Start Index\n",
            "Models Running :  Fri Apr 19 19:44:40 2024\n",
            "Linear Regression Fri Apr 19 19:44:41 2024\n",
            "Ridge Regression Fri Apr 19 19:44:41 2024\n",
            "Lasso Regression Fri Apr 19 19:44:41 2024\n",
            "ElasticNet Regression Fri Apr 19 19:44:41 2024\n",
            "Decision Tree Regression Fri Apr 19 19:44:42 2024\n",
            "Random Forest Regression Fri Apr 19 19:45:18 2024\n",
            "Gradient Boosting Regression Fri Apr 19 19:45:21 2024\n",
            "AdaBoost Regression Fri Apr 19 19:45:21 2024\n",
            "Huber Regression Fri Apr 19 19:45:22 2024\n",
            "Poisson Regression Fri Apr 19 19:45:22 2024\n",
            "Kernel Ridge Regression Fri Apr 19 19:45:22 2024\n",
            "\n",
            "Running Traditional Models for End Index\n",
            "Models Running :  Fri Apr 19 19:45:22 2024\n",
            "Linear Regression Fri Apr 19 19:45:23 2024\n",
            "Ridge Regression Fri Apr 19 19:45:23 2024\n",
            "Lasso Regression Fri Apr 19 19:45:23 2024\n",
            "ElasticNet Regression Fri Apr 19 19:45:23 2024\n",
            "Decision Tree Regression Fri Apr 19 19:45:23 2024\n",
            "Random Forest Regression Fri Apr 19 19:45:59 2024\n",
            "Gradient Boosting Regression Fri Apr 19 19:46:02 2024\n",
            "AdaBoost Regression Fri Apr 19 19:46:03 2024\n",
            "Huber Regression Fri Apr 19 19:46:03 2024\n",
            "Poisson Regression Fri Apr 19 19:46:03 2024\n",
            "Kernel Ridge Regression Fri Apr 19 19:46:03 2024\n"
          ]
        }
      ]
    },
    {
      "cell_type": "code",
      "source": [
        "!pip install -qq tabulate\n",
        "\n",
        "from tabulate import tabulate\n",
        "# https://github.com/astanin/python-tabulate/blob/master/tabulate/__init__.py"
      ],
      "metadata": {
        "id": "0C3qVkycztNh"
      },
      "execution_count": null,
      "outputs": []
    },
    {
      "cell_type": "code",
      "source": [
        "print(tabulate(tabular_data=pd.DataFrame(\n",
        "    data={\n",
        "          'Model Name':method_names_list_end,\n",
        "          'F1 For Start':f1_list_start,\n",
        "          'F1 For End':f1_list_end,\n",
        "          }\n",
        "    ).sort_values(by=['F1 For Start','F1 For End','Model Name'],ascending=[False,False,True]),headers='keys',tablefmt='rounded_grid'))"
      ],
      "metadata": {
        "colab": {
          "base_uri": "https://localhost:8080/"
        },
        "id": "dTnrK0C3vNHt",
        "outputId": "52dd304a-eaa0-4e1f-8b62-42301acb54b6"
      },
      "execution_count": null,
      "outputs": [
        {
          "output_type": "stream",
          "name": "stdout",
          "text": [
            "╭────┬──────────────────────────────┬────────────────┬──────────────╮\n",
            "│    │ Model Name                   │   F1 For Start │   F1 For End │\n",
            "├────┼──────────────────────────────┼────────────────┼──────────────┤\n",
            "│  0 │ Linear Regression            │     0.00358277 │            0 │\n",
            "├────┼──────────────────────────────┼────────────────┼──────────────┤\n",
            "│  8 │ Huber Regression             │     0.00278592 │            0 │\n",
            "├────┼──────────────────────────────┼────────────────┼──────────────┤\n",
            "│  4 │ Decision Tree Regression     │     0.00227273 │            0 │\n",
            "├────┼──────────────────────────────┼────────────────┼──────────────┤\n",
            "│  7 │ AdaBoost Regression          │     0          │            0 │\n",
            "├────┼──────────────────────────────┼────────────────┼──────────────┤\n",
            "│  3 │ ElasticNet Regression        │     0          │            0 │\n",
            "├────┼──────────────────────────────┼────────────────┼──────────────┤\n",
            "│  6 │ Gradient Boosting Regression │     0          │            0 │\n",
            "├────┼──────────────────────────────┼────────────────┼──────────────┤\n",
            "│ 10 │ Kernel Ridge Regression      │     0          │            0 │\n",
            "├────┼──────────────────────────────┼────────────────┼──────────────┤\n",
            "│  2 │ Lasso Regression             │     0          │            0 │\n",
            "├────┼──────────────────────────────┼────────────────┼──────────────┤\n",
            "│  9 │ Poisson Regression           │     0          │            0 │\n",
            "├────┼──────────────────────────────┼────────────────┼──────────────┤\n",
            "│  5 │ Random Forest Regression     │     0          │            0 │\n",
            "├────┼──────────────────────────────┼────────────────┼──────────────┤\n",
            "│  1 │ Ridge Regression             │     0          │            0 │\n",
            "╰────┴──────────────────────────────┴────────────────┴──────────────╯\n"
          ]
        }
      ]
    },
    {
      "cell_type": "markdown",
      "source": [
        "##### Traditional Machine Learning Method (Complete Data)"
      ],
      "metadata": {
        "id": "EvCaIZKyF2Z2"
      }
    },
    {
      "cell_type": "code",
      "source": [
        "df_train=pd.read_csv('NLP/3/df_train_CompleteDataSet.csv')\n",
        "print(df_train.shape)"
      ],
      "metadata": {
        "colab": {
          "base_uri": "https://localhost:8080/"
        },
        "id": "mz06jwoNuMHZ",
        "outputId": "dd8769a9-15ed-40ac-d70d-317fe860d8e8"
      },
      "execution_count": null,
      "outputs": [
        {
          "output_type": "stream",
          "name": "stdout",
          "text": [
            "(36700, 7)\n"
          ]
        }
      ]
    },
    {
      "cell_type": "code",
      "source": [
        "df_train.head(2)"
      ],
      "metadata": {
        "colab": {
          "base_uri": "https://localhost:8080/",
          "height": 112
        },
        "id": "y5Vk1YebGaoJ",
        "outputId": "dc8af324-512e-49e6-9832-0a92b1429b51"
      },
      "execution_count": null,
      "outputs": [
        {
          "output_type": "execute_result",
          "data": {
            "text/plain": [
              "                                             context  \\\n",
              "0  Beyoncé Giselle Knowles-Carter (/biːˈjɒnseɪ/ b...   \n",
              "1  Beyoncé Giselle Knowles-Carter (/biːˈjɒnseɪ/ b...   \n",
              "\n",
              "                                            question  \\\n",
              "0           When did Beyonce start becoming popular?   \n",
              "1  What areas did Beyonce compete in when she was...   \n",
              "\n",
              "                         id              answers  answer_start  answer_end  \\\n",
              "0  56be85543aeaaa14008c9063    in the late 1990s           269         286   \n",
              "1  56be85543aeaaa14008c9065  singing and dancing           207         226   \n",
              "\n",
              "   is_impossible  \n",
              "0          False  \n",
              "1          False  "
            ],
            "text/html": [
              "\n",
              "  <div id=\"df-0ee43b9a-8396-4d9a-859e-a9241a1352b0\" class=\"colab-df-container\">\n",
              "    <div>\n",
              "<style scoped>\n",
              "    .dataframe tbody tr th:only-of-type {\n",
              "        vertical-align: middle;\n",
              "    }\n",
              "\n",
              "    .dataframe tbody tr th {\n",
              "        vertical-align: top;\n",
              "    }\n",
              "\n",
              "    .dataframe thead th {\n",
              "        text-align: right;\n",
              "    }\n",
              "</style>\n",
              "<table border=\"1\" class=\"dataframe\">\n",
              "  <thead>\n",
              "    <tr style=\"text-align: right;\">\n",
              "      <th></th>\n",
              "      <th>context</th>\n",
              "      <th>question</th>\n",
              "      <th>id</th>\n",
              "      <th>answers</th>\n",
              "      <th>answer_start</th>\n",
              "      <th>answer_end</th>\n",
              "      <th>is_impossible</th>\n",
              "    </tr>\n",
              "  </thead>\n",
              "  <tbody>\n",
              "    <tr>\n",
              "      <th>0</th>\n",
              "      <td>Beyoncé Giselle Knowles-Carter (/biːˈjɒnseɪ/ b...</td>\n",
              "      <td>When did Beyonce start becoming popular?</td>\n",
              "      <td>56be85543aeaaa14008c9063</td>\n",
              "      <td>in the late 1990s</td>\n",
              "      <td>269</td>\n",
              "      <td>286</td>\n",
              "      <td>False</td>\n",
              "    </tr>\n",
              "    <tr>\n",
              "      <th>1</th>\n",
              "      <td>Beyoncé Giselle Knowles-Carter (/biːˈjɒnseɪ/ b...</td>\n",
              "      <td>What areas did Beyonce compete in when she was...</td>\n",
              "      <td>56be85543aeaaa14008c9065</td>\n",
              "      <td>singing and dancing</td>\n",
              "      <td>207</td>\n",
              "      <td>226</td>\n",
              "      <td>False</td>\n",
              "    </tr>\n",
              "  </tbody>\n",
              "</table>\n",
              "</div>\n",
              "    <div class=\"colab-df-buttons\">\n",
              "\n",
              "  <div class=\"colab-df-container\">\n",
              "    <button class=\"colab-df-convert\" onclick=\"convertToInteractive('df-0ee43b9a-8396-4d9a-859e-a9241a1352b0')\"\n",
              "            title=\"Convert this dataframe to an interactive table.\"\n",
              "            style=\"display:none;\">\n",
              "\n",
              "  <svg xmlns=\"http://www.w3.org/2000/svg\" height=\"24px\" viewBox=\"0 -960 960 960\">\n",
              "    <path d=\"M120-120v-720h720v720H120Zm60-500h600v-160H180v160Zm220 220h160v-160H400v160Zm0 220h160v-160H400v160ZM180-400h160v-160H180v160Zm440 0h160v-160H620v160ZM180-180h160v-160H180v160Zm440 0h160v-160H620v160Z\"/>\n",
              "  </svg>\n",
              "    </button>\n",
              "\n",
              "  <style>\n",
              "    .colab-df-container {\n",
              "      display:flex;\n",
              "      gap: 12px;\n",
              "    }\n",
              "\n",
              "    .colab-df-convert {\n",
              "      background-color: #E8F0FE;\n",
              "      border: none;\n",
              "      border-radius: 50%;\n",
              "      cursor: pointer;\n",
              "      display: none;\n",
              "      fill: #1967D2;\n",
              "      height: 32px;\n",
              "      padding: 0 0 0 0;\n",
              "      width: 32px;\n",
              "    }\n",
              "\n",
              "    .colab-df-convert:hover {\n",
              "      background-color: #E2EBFA;\n",
              "      box-shadow: 0px 1px 2px rgba(60, 64, 67, 0.3), 0px 1px 3px 1px rgba(60, 64, 67, 0.15);\n",
              "      fill: #174EA6;\n",
              "    }\n",
              "\n",
              "    .colab-df-buttons div {\n",
              "      margin-bottom: 4px;\n",
              "    }\n",
              "\n",
              "    [theme=dark] .colab-df-convert {\n",
              "      background-color: #3B4455;\n",
              "      fill: #D2E3FC;\n",
              "    }\n",
              "\n",
              "    [theme=dark] .colab-df-convert:hover {\n",
              "      background-color: #434B5C;\n",
              "      box-shadow: 0px 1px 3px 1px rgba(0, 0, 0, 0.15);\n",
              "      filter: drop-shadow(0px 1px 2px rgba(0, 0, 0, 0.3));\n",
              "      fill: #FFFFFF;\n",
              "    }\n",
              "  </style>\n",
              "\n",
              "    <script>\n",
              "      const buttonEl =\n",
              "        document.querySelector('#df-0ee43b9a-8396-4d9a-859e-a9241a1352b0 button.colab-df-convert');\n",
              "      buttonEl.style.display =\n",
              "        google.colab.kernel.accessAllowed ? 'block' : 'none';\n",
              "\n",
              "      async function convertToInteractive(key) {\n",
              "        const element = document.querySelector('#df-0ee43b9a-8396-4d9a-859e-a9241a1352b0');\n",
              "        const dataTable =\n",
              "          await google.colab.kernel.invokeFunction('convertToInteractive',\n",
              "                                                    [key], {});\n",
              "        if (!dataTable) return;\n",
              "\n",
              "        const docLinkHtml = 'Like what you see? Visit the ' +\n",
              "          '<a target=\"_blank\" href=https://colab.research.google.com/notebooks/data_table.ipynb>data table notebook</a>'\n",
              "          + ' to learn more about interactive tables.';\n",
              "        element.innerHTML = '';\n",
              "        dataTable['output_type'] = 'display_data';\n",
              "        await google.colab.output.renderOutput(dataTable, element);\n",
              "        const docLink = document.createElement('div');\n",
              "        docLink.innerHTML = docLinkHtml;\n",
              "        element.appendChild(docLink);\n",
              "      }\n",
              "    </script>\n",
              "  </div>\n",
              "\n",
              "\n",
              "<div id=\"df-28e94c2d-1d6a-40fc-8d73-071756d84fdd\">\n",
              "  <button class=\"colab-df-quickchart\" onclick=\"quickchart('df-28e94c2d-1d6a-40fc-8d73-071756d84fdd')\"\n",
              "            title=\"Suggest charts\"\n",
              "            style=\"display:none;\">\n",
              "\n",
              "<svg xmlns=\"http://www.w3.org/2000/svg\" height=\"24px\"viewBox=\"0 0 24 24\"\n",
              "     width=\"24px\">\n",
              "    <g>\n",
              "        <path d=\"M19 3H5c-1.1 0-2 .9-2 2v14c0 1.1.9 2 2 2h14c1.1 0 2-.9 2-2V5c0-1.1-.9-2-2-2zM9 17H7v-7h2v7zm4 0h-2V7h2v10zm4 0h-2v-4h2v4z\"/>\n",
              "    </g>\n",
              "</svg>\n",
              "  </button>\n",
              "\n",
              "<style>\n",
              "  .colab-df-quickchart {\n",
              "      --bg-color: #E8F0FE;\n",
              "      --fill-color: #1967D2;\n",
              "      --hover-bg-color: #E2EBFA;\n",
              "      --hover-fill-color: #174EA6;\n",
              "      --disabled-fill-color: #AAA;\n",
              "      --disabled-bg-color: #DDD;\n",
              "  }\n",
              "\n",
              "  [theme=dark] .colab-df-quickchart {\n",
              "      --bg-color: #3B4455;\n",
              "      --fill-color: #D2E3FC;\n",
              "      --hover-bg-color: #434B5C;\n",
              "      --hover-fill-color: #FFFFFF;\n",
              "      --disabled-bg-color: #3B4455;\n",
              "      --disabled-fill-color: #666;\n",
              "  }\n",
              "\n",
              "  .colab-df-quickchart {\n",
              "    background-color: var(--bg-color);\n",
              "    border: none;\n",
              "    border-radius: 50%;\n",
              "    cursor: pointer;\n",
              "    display: none;\n",
              "    fill: var(--fill-color);\n",
              "    height: 32px;\n",
              "    padding: 0;\n",
              "    width: 32px;\n",
              "  }\n",
              "\n",
              "  .colab-df-quickchart:hover {\n",
              "    background-color: var(--hover-bg-color);\n",
              "    box-shadow: 0 1px 2px rgba(60, 64, 67, 0.3), 0 1px 3px 1px rgba(60, 64, 67, 0.15);\n",
              "    fill: var(--button-hover-fill-color);\n",
              "  }\n",
              "\n",
              "  .colab-df-quickchart-complete:disabled,\n",
              "  .colab-df-quickchart-complete:disabled:hover {\n",
              "    background-color: var(--disabled-bg-color);\n",
              "    fill: var(--disabled-fill-color);\n",
              "    box-shadow: none;\n",
              "  }\n",
              "\n",
              "  .colab-df-spinner {\n",
              "    border: 2px solid var(--fill-color);\n",
              "    border-color: transparent;\n",
              "    border-bottom-color: var(--fill-color);\n",
              "    animation:\n",
              "      spin 1s steps(1) infinite;\n",
              "  }\n",
              "\n",
              "  @keyframes spin {\n",
              "    0% {\n",
              "      border-color: transparent;\n",
              "      border-bottom-color: var(--fill-color);\n",
              "      border-left-color: var(--fill-color);\n",
              "    }\n",
              "    20% {\n",
              "      border-color: transparent;\n",
              "      border-left-color: var(--fill-color);\n",
              "      border-top-color: var(--fill-color);\n",
              "    }\n",
              "    30% {\n",
              "      border-color: transparent;\n",
              "      border-left-color: var(--fill-color);\n",
              "      border-top-color: var(--fill-color);\n",
              "      border-right-color: var(--fill-color);\n",
              "    }\n",
              "    40% {\n",
              "      border-color: transparent;\n",
              "      border-right-color: var(--fill-color);\n",
              "      border-top-color: var(--fill-color);\n",
              "    }\n",
              "    60% {\n",
              "      border-color: transparent;\n",
              "      border-right-color: var(--fill-color);\n",
              "    }\n",
              "    80% {\n",
              "      border-color: transparent;\n",
              "      border-right-color: var(--fill-color);\n",
              "      border-bottom-color: var(--fill-color);\n",
              "    }\n",
              "    90% {\n",
              "      border-color: transparent;\n",
              "      border-bottom-color: var(--fill-color);\n",
              "    }\n",
              "  }\n",
              "</style>\n",
              "\n",
              "  <script>\n",
              "    async function quickchart(key) {\n",
              "      const quickchartButtonEl =\n",
              "        document.querySelector('#' + key + ' button');\n",
              "      quickchartButtonEl.disabled = true;  // To prevent multiple clicks.\n",
              "      quickchartButtonEl.classList.add('colab-df-spinner');\n",
              "      try {\n",
              "        const charts = await google.colab.kernel.invokeFunction(\n",
              "            'suggestCharts', [key], {});\n",
              "      } catch (error) {\n",
              "        console.error('Error during call to suggestCharts:', error);\n",
              "      }\n",
              "      quickchartButtonEl.classList.remove('colab-df-spinner');\n",
              "      quickchartButtonEl.classList.add('colab-df-quickchart-complete');\n",
              "    }\n",
              "    (() => {\n",
              "      let quickchartButtonEl =\n",
              "        document.querySelector('#df-28e94c2d-1d6a-40fc-8d73-071756d84fdd button');\n",
              "      quickchartButtonEl.style.display =\n",
              "        google.colab.kernel.accessAllowed ? 'block' : 'none';\n",
              "    })();\n",
              "  </script>\n",
              "</div>\n",
              "\n",
              "    </div>\n",
              "  </div>\n"
            ],
            "application/vnd.google.colaboratory.intrinsic+json": {
              "type": "dataframe",
              "variable_name": "df_train",
              "summary": "{\n  \"name\": \"df_train\",\n  \"rows\": 36700,\n  \"fields\": [\n    {\n      \"column\": \"context\",\n      \"properties\": {\n        \"dtype\": \"category\",\n        \"num_unique_values\": 8060,\n        \"samples\": [\n          \"Bush stated in an interview that the comment was \\\"one of the most disgusting moments\\\" of his presidency. In November 2010, in a taped interview with Matt Lauer for the Today show, West expressed regret for his criticism of Bush. \\\"I would tell George Bush in my moment of frustration, I didn't have the grounds to call him a racist\\\", he told Lauer. \\\"I believe that in a situation of high emotion like that we as human beings don't always choose the right words.\\\" The following day, Bush reacted to the apology in a live interview with Lauer saying he appreciated the rapper's remorse. \\\"I'm not a hater\\\", Bush said. \\\"I don't hate Kanye West. I was talking about an environment in which people were willing to say things that hurt. Nobody wants to be called a racist if in your heart you believe in equality of races.\\\" Reactions were mixed, but some felt that West had no need to apologize. \\\"It was not the particulars of your words that mattered, it was the essence of a feeling of the insensitivity towards our communities that many of us have felt for far too long\\\", argued Def Jam co-founder Russell Simmons. Bush himself was receptive to the apology, saying, \\\"I appreciate that. It wasn't just Kanye West who was talking like that during Katrina, I cited him as an example, I cited others as an example as well. You know, I appreciate that.\\\"\",\n          \"Other professional sports clubs in Oklahoma City include the Oklahoma City Dodgers, the Triple-A affiliate of the Los Angeles Dodgers, the Oklahoma City Energy FC of the United Soccer League, and the Crusaders of Oklahoma Rugby Football Club USA Rugby.\",\n          \"In the case of the United States where a one-hour shift occurs at 02:00 local time, in spring the clock jumps forward from the last moment of 01:59 standard time to 03:00 DST and that day has 23 hours, whereas in autumn the clock jumps backward from the last moment of 01:59 DST to 01:00 standard time, repeating that hour, and that day has 25 hours. A digital display of local time does not read 02:00 exactly at the shift to summer time, but instead jumps from 01:59:59.9 forward to 03:00:00.0.\"\n        ],\n        \"semantic_type\": \"\",\n        \"description\": \"\"\n      }\n    },\n    {\n      \"column\": \"question\",\n      \"properties\": {\n        \"dtype\": \"string\",\n        \"num_unique_values\": 36673,\n        \"samples\": [\n          \"What shows up particularly well in reflectograms?\",\n          \"What category of trees show this difference greatly?\",\n          \"How many people had their sentences commuted by State v. Santiago?\"\n        ],\n        \"semantic_type\": \"\",\n        \"description\": \"\"\n      }\n    },\n    {\n      \"column\": \"id\",\n      \"properties\": {\n        \"dtype\": \"string\",\n        \"num_unique_values\": 36700,\n        \"samples\": [\n          \"56de0a94cffd8e1900b4b56a\",\n          \"56dfe9e07aa994140058e271\",\n          \"56eaa5f15a205f1900d6d3c2\"\n        ],\n        \"semantic_type\": \"\",\n        \"description\": \"\"\n      }\n    },\n    {\n      \"column\": \"answers\",\n      \"properties\": {\n        \"dtype\": \"string\",\n        \"num_unique_values\": 27362,\n        \"samples\": [\n          \"Adam Johann von Krusenstern\",\n          \"Grande Oriente d'Italia\",\n          \"Marwan ibn Muhammad\"\n        ],\n        \"semantic_type\": \"\",\n        \"description\": \"\"\n      }\n    },\n    {\n      \"column\": \"answer_start\",\n      \"properties\": {\n        \"dtype\": \"number\",\n        \"std\": 261,\n        \"min\": 0,\n        \"max\": 2982,\n        \"num_unique_values\": 1401,\n        \"samples\": [\n          994,\n          991,\n          3\n        ],\n        \"semantic_type\": \"\",\n        \"description\": \"\"\n      }\n    },\n    {\n      \"column\": \"answer_end\",\n      \"properties\": {\n        \"dtype\": \"number\",\n        \"std\": 262,\n        \"min\": 1,\n        \"max\": 2989,\n        \"num_unique_values\": 1410,\n        \"samples\": [\n          444,\n          509,\n          699\n        ],\n        \"semantic_type\": \"\",\n        \"description\": \"\"\n      }\n    },\n    {\n      \"column\": \"is_impossible\",\n      \"properties\": {\n        \"dtype\": \"boolean\",\n        \"num_unique_values\": 1,\n        \"samples\": [\n          false\n        ],\n        \"semantic_type\": \"\",\n        \"description\": \"\"\n      }\n    }\n  ]\n}"
            }
          },
          "metadata": {},
          "execution_count": 8
        }
      ]
    },
    {
      "cell_type": "code",
      "source": [
        "# filter to top 6 questions where only 1 will be used as testing\n",
        "df_train_subset=df_train.groupby(by=['context']).head(6)\n",
        "X_test=df_train_subset.groupby(by=['context']).head(1)\n",
        "X_train=df_train_subset[~df_train_subset.index.isin(X_test.index)]\n",
        "assert df_train_subset.shape[0]==(X_test.shape[0]+X_train.shape[0])\n",
        "print(f'{df_train_subset.shape=},{X_train.shape=},{X_test.shape=}')"
      ],
      "metadata": {
        "colab": {
          "base_uri": "https://localhost:8080/"
        },
        "id": "6WRtdDA-F1JC",
        "outputId": "0e161f85-a100-4d7f-fb4c-8353677d4121"
      },
      "execution_count": null,
      "outputs": [
        {
          "output_type": "stream",
          "name": "stdout",
          "text": [
            "df_train_subset.shape = (34394, 7),X_train.shape = (26334, 7),X_test.shape = (8060, 7)\n"
          ]
        }
      ]
    },
    {
      "cell_type": "code",
      "source": [
        "from sklearn.feature_extraction.text import TfidfVectorizer\n",
        "from sklearn.linear_model import LinearRegression,Ridge,Lasso,ElasticNet,HuberRegressor\n",
        "from sklearn.tree import DecisionTreeRegressor\n",
        "from sklearn.ensemble import RandomForestRegressor,GradientBoostingRegressor,AdaBoostRegressor\n",
        "from sklearn.linear_model import PoissonRegressor\n",
        "from sklearn.kernel_ridge import KernelRidge\n",
        "from sklearn.metrics import f1_score\n",
        "import time"
      ],
      "metadata": {
        "id": "96l2XypGF1JD"
      },
      "execution_count": null,
      "outputs": []
    },
    {
      "cell_type": "code",
      "source": [
        "df_train_subset['context']=df_train_subset['context'].str.lower()\n",
        "df_train_subset['question']=df_train_subset['question'].str.lower()\n",
        "\n",
        "X_train['context']=X_train['context'].str.lower()\n",
        "X_train['question']=X_train['question'].str.lower()\n",
        "\n",
        "X_test['context']=X_test['context'].str.lower()\n",
        "X_test['question']=X_test['question'].str.lower()"
      ],
      "metadata": {
        "id": "rTjaMwxLF1JF"
      },
      "execution_count": null,
      "outputs": []
    },
    {
      "cell_type": "code",
      "source": [
        "X_train.head(2)"
      ],
      "metadata": {
        "colab": {
          "base_uri": "https://localhost:8080/",
          "height": 112
        },
        "outputId": "1ed5462b-c66b-46e8-887a-77639c2429be",
        "id": "97hCO9-8F1JG"
      },
      "execution_count": null,
      "outputs": [
        {
          "output_type": "execute_result",
          "data": {
            "text/plain": [
              "                                             context  \\\n",
              "1  beyoncé giselle knowles-carter (/biːˈjɒnseɪ/ b...   \n",
              "2  beyoncé giselle knowles-carter (/biːˈjɒnseɪ/ b...   \n",
              "\n",
              "                                            question  \\\n",
              "1  what areas did beyonce compete in when she was...   \n",
              "2  when did beyonce leave destiny's child and bec...   \n",
              "\n",
              "                         id              answers  answer_start  answer_end  \\\n",
              "1  56be85543aeaaa14008c9065  singing and dancing           207         226   \n",
              "2  56be85543aeaaa14008c9066                 2003           526         530   \n",
              "\n",
              "   is_impossible  \n",
              "1          False  \n",
              "2          False  "
            ],
            "text/html": [
              "\n",
              "  <div id=\"df-2cb37421-f98e-44be-a86d-5264460b49aa\" class=\"colab-df-container\">\n",
              "    <div>\n",
              "<style scoped>\n",
              "    .dataframe tbody tr th:only-of-type {\n",
              "        vertical-align: middle;\n",
              "    }\n",
              "\n",
              "    .dataframe tbody tr th {\n",
              "        vertical-align: top;\n",
              "    }\n",
              "\n",
              "    .dataframe thead th {\n",
              "        text-align: right;\n",
              "    }\n",
              "</style>\n",
              "<table border=\"1\" class=\"dataframe\">\n",
              "  <thead>\n",
              "    <tr style=\"text-align: right;\">\n",
              "      <th></th>\n",
              "      <th>context</th>\n",
              "      <th>question</th>\n",
              "      <th>id</th>\n",
              "      <th>answers</th>\n",
              "      <th>answer_start</th>\n",
              "      <th>answer_end</th>\n",
              "      <th>is_impossible</th>\n",
              "    </tr>\n",
              "  </thead>\n",
              "  <tbody>\n",
              "    <tr>\n",
              "      <th>1</th>\n",
              "      <td>beyoncé giselle knowles-carter (/biːˈjɒnseɪ/ b...</td>\n",
              "      <td>what areas did beyonce compete in when she was...</td>\n",
              "      <td>56be85543aeaaa14008c9065</td>\n",
              "      <td>singing and dancing</td>\n",
              "      <td>207</td>\n",
              "      <td>226</td>\n",
              "      <td>False</td>\n",
              "    </tr>\n",
              "    <tr>\n",
              "      <th>2</th>\n",
              "      <td>beyoncé giselle knowles-carter (/biːˈjɒnseɪ/ b...</td>\n",
              "      <td>when did beyonce leave destiny's child and bec...</td>\n",
              "      <td>56be85543aeaaa14008c9066</td>\n",
              "      <td>2003</td>\n",
              "      <td>526</td>\n",
              "      <td>530</td>\n",
              "      <td>False</td>\n",
              "    </tr>\n",
              "  </tbody>\n",
              "</table>\n",
              "</div>\n",
              "    <div class=\"colab-df-buttons\">\n",
              "\n",
              "  <div class=\"colab-df-container\">\n",
              "    <button class=\"colab-df-convert\" onclick=\"convertToInteractive('df-2cb37421-f98e-44be-a86d-5264460b49aa')\"\n",
              "            title=\"Convert this dataframe to an interactive table.\"\n",
              "            style=\"display:none;\">\n",
              "\n",
              "  <svg xmlns=\"http://www.w3.org/2000/svg\" height=\"24px\" viewBox=\"0 -960 960 960\">\n",
              "    <path d=\"M120-120v-720h720v720H120Zm60-500h600v-160H180v160Zm220 220h160v-160H400v160Zm0 220h160v-160H400v160ZM180-400h160v-160H180v160Zm440 0h160v-160H620v160ZM180-180h160v-160H180v160Zm440 0h160v-160H620v160Z\"/>\n",
              "  </svg>\n",
              "    </button>\n",
              "\n",
              "  <style>\n",
              "    .colab-df-container {\n",
              "      display:flex;\n",
              "      gap: 12px;\n",
              "    }\n",
              "\n",
              "    .colab-df-convert {\n",
              "      background-color: #E8F0FE;\n",
              "      border: none;\n",
              "      border-radius: 50%;\n",
              "      cursor: pointer;\n",
              "      display: none;\n",
              "      fill: #1967D2;\n",
              "      height: 32px;\n",
              "      padding: 0 0 0 0;\n",
              "      width: 32px;\n",
              "    }\n",
              "\n",
              "    .colab-df-convert:hover {\n",
              "      background-color: #E2EBFA;\n",
              "      box-shadow: 0px 1px 2px rgba(60, 64, 67, 0.3), 0px 1px 3px 1px rgba(60, 64, 67, 0.15);\n",
              "      fill: #174EA6;\n",
              "    }\n",
              "\n",
              "    .colab-df-buttons div {\n",
              "      margin-bottom: 4px;\n",
              "    }\n",
              "\n",
              "    [theme=dark] .colab-df-convert {\n",
              "      background-color: #3B4455;\n",
              "      fill: #D2E3FC;\n",
              "    }\n",
              "\n",
              "    [theme=dark] .colab-df-convert:hover {\n",
              "      background-color: #434B5C;\n",
              "      box-shadow: 0px 1px 3px 1px rgba(0, 0, 0, 0.15);\n",
              "      filter: drop-shadow(0px 1px 2px rgba(0, 0, 0, 0.3));\n",
              "      fill: #FFFFFF;\n",
              "    }\n",
              "  </style>\n",
              "\n",
              "    <script>\n",
              "      const buttonEl =\n",
              "        document.querySelector('#df-2cb37421-f98e-44be-a86d-5264460b49aa button.colab-df-convert');\n",
              "      buttonEl.style.display =\n",
              "        google.colab.kernel.accessAllowed ? 'block' : 'none';\n",
              "\n",
              "      async function convertToInteractive(key) {\n",
              "        const element = document.querySelector('#df-2cb37421-f98e-44be-a86d-5264460b49aa');\n",
              "        const dataTable =\n",
              "          await google.colab.kernel.invokeFunction('convertToInteractive',\n",
              "                                                    [key], {});\n",
              "        if (!dataTable) return;\n",
              "\n",
              "        const docLinkHtml = 'Like what you see? Visit the ' +\n",
              "          '<a target=\"_blank\" href=https://colab.research.google.com/notebooks/data_table.ipynb>data table notebook</a>'\n",
              "          + ' to learn more about interactive tables.';\n",
              "        element.innerHTML = '';\n",
              "        dataTable['output_type'] = 'display_data';\n",
              "        await google.colab.output.renderOutput(dataTable, element);\n",
              "        const docLink = document.createElement('div');\n",
              "        docLink.innerHTML = docLinkHtml;\n",
              "        element.appendChild(docLink);\n",
              "      }\n",
              "    </script>\n",
              "  </div>\n",
              "\n",
              "\n",
              "<div id=\"df-967ffe82-c12d-427c-98a2-92c8e73e8609\">\n",
              "  <button class=\"colab-df-quickchart\" onclick=\"quickchart('df-967ffe82-c12d-427c-98a2-92c8e73e8609')\"\n",
              "            title=\"Suggest charts\"\n",
              "            style=\"display:none;\">\n",
              "\n",
              "<svg xmlns=\"http://www.w3.org/2000/svg\" height=\"24px\"viewBox=\"0 0 24 24\"\n",
              "     width=\"24px\">\n",
              "    <g>\n",
              "        <path d=\"M19 3H5c-1.1 0-2 .9-2 2v14c0 1.1.9 2 2 2h14c1.1 0 2-.9 2-2V5c0-1.1-.9-2-2-2zM9 17H7v-7h2v7zm4 0h-2V7h2v10zm4 0h-2v-4h2v4z\"/>\n",
              "    </g>\n",
              "</svg>\n",
              "  </button>\n",
              "\n",
              "<style>\n",
              "  .colab-df-quickchart {\n",
              "      --bg-color: #E8F0FE;\n",
              "      --fill-color: #1967D2;\n",
              "      --hover-bg-color: #E2EBFA;\n",
              "      --hover-fill-color: #174EA6;\n",
              "      --disabled-fill-color: #AAA;\n",
              "      --disabled-bg-color: #DDD;\n",
              "  }\n",
              "\n",
              "  [theme=dark] .colab-df-quickchart {\n",
              "      --bg-color: #3B4455;\n",
              "      --fill-color: #D2E3FC;\n",
              "      --hover-bg-color: #434B5C;\n",
              "      --hover-fill-color: #FFFFFF;\n",
              "      --disabled-bg-color: #3B4455;\n",
              "      --disabled-fill-color: #666;\n",
              "  }\n",
              "\n",
              "  .colab-df-quickchart {\n",
              "    background-color: var(--bg-color);\n",
              "    border: none;\n",
              "    border-radius: 50%;\n",
              "    cursor: pointer;\n",
              "    display: none;\n",
              "    fill: var(--fill-color);\n",
              "    height: 32px;\n",
              "    padding: 0;\n",
              "    width: 32px;\n",
              "  }\n",
              "\n",
              "  .colab-df-quickchart:hover {\n",
              "    background-color: var(--hover-bg-color);\n",
              "    box-shadow: 0 1px 2px rgba(60, 64, 67, 0.3), 0 1px 3px 1px rgba(60, 64, 67, 0.15);\n",
              "    fill: var(--button-hover-fill-color);\n",
              "  }\n",
              "\n",
              "  .colab-df-quickchart-complete:disabled,\n",
              "  .colab-df-quickchart-complete:disabled:hover {\n",
              "    background-color: var(--disabled-bg-color);\n",
              "    fill: var(--disabled-fill-color);\n",
              "    box-shadow: none;\n",
              "  }\n",
              "\n",
              "  .colab-df-spinner {\n",
              "    border: 2px solid var(--fill-color);\n",
              "    border-color: transparent;\n",
              "    border-bottom-color: var(--fill-color);\n",
              "    animation:\n",
              "      spin 1s steps(1) infinite;\n",
              "  }\n",
              "\n",
              "  @keyframes spin {\n",
              "    0% {\n",
              "      border-color: transparent;\n",
              "      border-bottom-color: var(--fill-color);\n",
              "      border-left-color: var(--fill-color);\n",
              "    }\n",
              "    20% {\n",
              "      border-color: transparent;\n",
              "      border-left-color: var(--fill-color);\n",
              "      border-top-color: var(--fill-color);\n",
              "    }\n",
              "    30% {\n",
              "      border-color: transparent;\n",
              "      border-left-color: var(--fill-color);\n",
              "      border-top-color: var(--fill-color);\n",
              "      border-right-color: var(--fill-color);\n",
              "    }\n",
              "    40% {\n",
              "      border-color: transparent;\n",
              "      border-right-color: var(--fill-color);\n",
              "      border-top-color: var(--fill-color);\n",
              "    }\n",
              "    60% {\n",
              "      border-color: transparent;\n",
              "      border-right-color: var(--fill-color);\n",
              "    }\n",
              "    80% {\n",
              "      border-color: transparent;\n",
              "      border-right-color: var(--fill-color);\n",
              "      border-bottom-color: var(--fill-color);\n",
              "    }\n",
              "    90% {\n",
              "      border-color: transparent;\n",
              "      border-bottom-color: var(--fill-color);\n",
              "    }\n",
              "  }\n",
              "</style>\n",
              "\n",
              "  <script>\n",
              "    async function quickchart(key) {\n",
              "      const quickchartButtonEl =\n",
              "        document.querySelector('#' + key + ' button');\n",
              "      quickchartButtonEl.disabled = true;  // To prevent multiple clicks.\n",
              "      quickchartButtonEl.classList.add('colab-df-spinner');\n",
              "      try {\n",
              "        const charts = await google.colab.kernel.invokeFunction(\n",
              "            'suggestCharts', [key], {});\n",
              "      } catch (error) {\n",
              "        console.error('Error during call to suggestCharts:', error);\n",
              "      }\n",
              "      quickchartButtonEl.classList.remove('colab-df-spinner');\n",
              "      quickchartButtonEl.classList.add('colab-df-quickchart-complete');\n",
              "    }\n",
              "    (() => {\n",
              "      let quickchartButtonEl =\n",
              "        document.querySelector('#df-967ffe82-c12d-427c-98a2-92c8e73e8609 button');\n",
              "      quickchartButtonEl.style.display =\n",
              "        google.colab.kernel.accessAllowed ? 'block' : 'none';\n",
              "    })();\n",
              "  </script>\n",
              "</div>\n",
              "\n",
              "    </div>\n",
              "  </div>\n"
            ],
            "application/vnd.google.colaboratory.intrinsic+json": {
              "type": "dataframe",
              "variable_name": "X_train",
              "summary": "{\n  \"name\": \"X_train\",\n  \"rows\": 26334,\n  \"fields\": [\n    {\n      \"column\": \"context\",\n      \"properties\": {\n        \"dtype\": \"category\",\n        \"num_unique_values\": 7757,\n        \"samples\": [\n          \"the officials in mexico city reduced the price of corn from six cents to two cents a pound. the northern portion of the state continued to decline economically which led to another revolt led by g. casavantes in august 1879; governor tr\\u00edas was accused of misappropriation of funds and inefficient administration of the state. casavantes took the state capital and occupied it briefly; he was also successful in forcing governor tr\\u00edas to exile. shortly afterwards, the federal government sent an entourage led by trevi\\u00f1o; casavantes was immediately ordered to resign his position. casavantes declared political victory as he was able to publicly accuse and depose governor tr\\u00edas. at the same time the states of durango and coahuila had a military confrontation over territorial claims and water rights; this altercation between the state required additional federal troops to stabilize the area. later a dispute ensued again among the states of coahuila, durango, and chihuahua over the mountain range area known as sierra mojada, when large deposits of gold ore was discovered. the state of chihuahua officially submitted a declaration of protest in may 1880 that shortly after was amicably settled. despite the difficulties at the beginning, d\\u00edaz was able to secure and stabilize the state, which earned the confidence and support of the people.\",\n          \"on march 18, 1965, about a week before the first american piloted project gemini space flight, the ussr accelerated the competition, by launching the two-cosmonaut voskhod 2 mission with pavel belyayev and alexey leonov. voskhod 2's design modifications included the addition of an inflatable airlock to allow for extravehicular activity (eva), also known as a spacewalk, while keeping the cabin pressurized so that the capsule's electronics wouldn't overheat. leonov performed the first-ever eva as part of the mission. a fatality was narrowly avoided when leonov's spacesuit expanded in the vacuum of space, preventing him from re-entering the airlock. in order to overcome this, he had to partially depressurize his spacesuit to a potentially dangerous level. he succeeded in safely re-entering the ship, but he and belyayev faced further challenges when the spacecraft's atmospheric controls flooded the cabin with 45% pure oxygen, which had to be lowered to acceptable levels before re-entry. the reentry involved two more challenges: an improperly timed retrorocket firing caused the voskhod 2 to land 386 kilometers (240 mi) off its designated target area, the town of perm; and the instrument compartment's failure to detach from the descent apparatus caused the spacecraft to become unstable during reentry.\",\n          \"vinson massif, the highest peak in antarctica at 4,892 m (16,050 ft), is located in the ellsworth mountains. antarctica contains many other mountains, on both the main continent and the surrounding islands. mount erebus on ross island is the world's southernmost active volcano. another well-known volcano is found on deception island, which is famous for a giant eruption in 1970. minor eruptions are frequent and lava flow has been observed in recent years. other dormant volcanoes may potentially be active. in 2004, a potentially active underwater volcano was found in the antarctic peninsula by american and canadian researchers.\"\n        ],\n        \"semantic_type\": \"\",\n        \"description\": \"\"\n      }\n    },\n    {\n      \"column\": \"question\",\n      \"properties\": {\n        \"dtype\": \"string\",\n        \"num_unique_values\": 26325,\n        \"samples\": [\n          \"when did world war i commence?\",\n          \"who suggested that western classical music is rooted to ancient egyptian art music?\",\n          \"what can decreased material possessions produce in a hunter-gatherer society?\"\n        ],\n        \"semantic_type\": \"\",\n        \"description\": \"\"\n      }\n    },\n    {\n      \"column\": \"id\",\n      \"properties\": {\n        \"dtype\": \"string\",\n        \"num_unique_values\": 26334,\n        \"samples\": [\n          \"56fb73b5b28b3419009f1d4d\",\n          \"56dd1ff566d3e219004dabea\",\n          \"56de98ddcffd8e1900b4ba1e\"\n        ],\n        \"semantic_type\": \"\",\n        \"description\": \"\"\n      }\n    },\n    {\n      \"column\": \"answers\",\n      \"properties\": {\n        \"dtype\": \"string\",\n        \"num_unique_values\": 21003,\n        \"samples\": [\n          \"paying or arranging for education or apprenticeships and freeing them\",\n          \"769\",\n          \"training\"\n        ],\n        \"semantic_type\": \"\",\n        \"description\": \"\"\n      }\n    },\n    {\n      \"column\": \"answer_start\",\n      \"properties\": {\n        \"dtype\": \"number\",\n        \"std\": 261,\n        \"min\": 0,\n        \"max\": 2982,\n        \"num_unique_values\": 1378,\n        \"samples\": [\n          816,\n          325,\n          931\n        ],\n        \"semantic_type\": \"\",\n        \"description\": \"\"\n      }\n    },\n    {\n      \"column\": \"answer_end\",\n      \"properties\": {\n        \"dtype\": \"number\",\n        \"std\": 262,\n        \"min\": 3,\n        \"max\": 2989,\n        \"num_unique_values\": 1379,\n        \"samples\": [\n          954,\n          709,\n          491\n        ],\n        \"semantic_type\": \"\",\n        \"description\": \"\"\n      }\n    },\n    {\n      \"column\": \"is_impossible\",\n      \"properties\": {\n        \"dtype\": \"boolean\",\n        \"num_unique_values\": 1,\n        \"samples\": [\n          false\n        ],\n        \"semantic_type\": \"\",\n        \"description\": \"\"\n      }\n    }\n  ]\n}"
            }
          },
          "metadata": {},
          "execution_count": 12
        }
      ]
    },
    {
      "cell_type": "code",
      "source": [
        "# 1. Extraction of features using TF-IDF (Term Frequency & Inverse Document Frequency)\n",
        "tfidf_vectorizer=TfidfVectorizer(use_idf=True,max_features=6000)\n",
        "tfidf_vectorizer.fit(df_train_subset['context']+df_train_subset['question'])\n",
        "X_train_tfidf=tfidf_vectorizer.fit_transform(X_train['context']+X_train['question'])\n",
        "X_test_tfidf=tfidf_vectorizer.fit_transform(X_test['context']+X_test['question'])\n",
        "del tfidf_vectorizer,TfidfVectorizer\n",
        "y_train_start=X_train['answer_start'].values\n",
        "y_train_end=X_train['answer_end'].values\n",
        "y_test_start=X_test['answer_start'].values\n",
        "y_test_end=X_test['answer_end'].values\n",
        "print(f'{X_train_tfidf.shape=},\\n{X_test_tfidf.shape=},\\n{type(X_train_tfidf)=},\\n{type(X_test_tfidf)=}')\n",
        "print(f'{y_train_start.shape=},\\n{y_train_end.shape=},\\n{y_test_start.shape=},\\n{y_test_end.shape=}')"
      ],
      "metadata": {
        "colab": {
          "base_uri": "https://localhost:8080/"
        },
        "outputId": "00cb7a93-a3a8-415d-b3b7-398d988e4ded",
        "id": "vHstmwqYF1JG"
      },
      "execution_count": null,
      "outputs": [
        {
          "output_type": "stream",
          "name": "stdout",
          "text": [
            "X_train_tfidf.shape = (26334, 6000),\n",
            "X_test_tfidf.shape = (8060, 6000),\n",
            "type(X_train_tfidf) = <class 'scipy.sparse._csr.csr_matrix'>,\n",
            "type(X_test_tfidf) = <class 'scipy.sparse._csr.csr_matrix'>\n",
            "y_train_start.shape = (26334,),\n",
            "y_train_end.shape = (26334,),\n",
            "y_test_start.shape = (8060,),\n",
            "y_test_end.shape = (8060,)\n"
          ]
        }
      ]
    },
    {
      "cell_type": "code",
      "source": [
        "# Define thresholds for binarization\n",
        "threshold_start:float=0.5\n",
        "threshold_end:float=0.5\n",
        "\n",
        "def get_binary_predictions(predictions,threshold):\n",
        "    return (predictions >=threshold).astype(int)\n",
        "\n",
        "def get_evaluation_metrics(true_pred,test_pred):\n",
        "    binary_pred=get_binary_predictions(test_pred,threshold_start)\n",
        "    return f1_score(true_pred,binary_pred,average='weighted')\n",
        "\n",
        "def train_model(xtrain_records,ytrain_records,xtest_records,ytest_records) -> list:\n",
        "  # Training different models\n",
        "  linear_regression_model=LinearRegression()\n",
        "  ridge_regression_model=Ridge()\n",
        "  lasso_regression_model=Lasso()\n",
        "  elasticnet_regression_model=ElasticNet()\n",
        "  decision_tree_regression_model=DecisionTreeRegressor()\n",
        "  random_forest_regression_model=RandomForestRegressor()\n",
        "  gradient_boosting_regression_model=GradientBoostingRegressor()\n",
        "  adaboost_regression_model=AdaBoostRegressor()\n",
        "  huber_regression_model=HuberRegressor()\n",
        "  poisson_regression_model=PoissonRegressor()\n",
        "  kernel_ridge_regression_model=KernelRidge()\n",
        "\n",
        "  method_names=[]\n",
        "  f1s=[]\n",
        "\n",
        "  print('Models Running : ',time.ctime())\n",
        "  for model1,model_name in [\n",
        "      (linear_regression_model,\"Linear Regression\"),\n",
        "      (ridge_regression_model,\"Ridge Regression\"),\n",
        "      (lasso_regression_model,\"Lasso Regression\"),\n",
        "      (elasticnet_regression_model,\"ElasticNet Regression\"),\n",
        "      (decision_tree_regression_model,\"Decision Tree Regression\"),\n",
        "      # (random_forest_regression_model,\"Random Forest Regression\"),\n",
        "      (gradient_boosting_regression_model,\"Gradient Boosting Regression\"),\n",
        "      (adaboost_regression_model,\"AdaBoost Regression\"),\n",
        "      (huber_regression_model,\"Huber Regression\"),\n",
        "      (poisson_regression_model,\"Poisson Regression\"),\n",
        "      # (kernel_ridge_regression_model,\"Kernel Ridge Regression\"),\n",
        "  ]:\n",
        "      try:\n",
        "          model1.fit(xtrain_records,ytrain_records)\n",
        "          f=get_evaluation_metrics(true_pred=ytest_records,test_pred=model1.predict(xtest_records))\n",
        "          method_names.append(model_name)\n",
        "          f1s.append(f)\n",
        "          print(model_name,time.ctime())\n",
        "      except Exception as e:\n",
        "          print('Error -> ',e,'===',model_name,time.ctime())\n",
        "  return method_names,f1s"
      ],
      "metadata": {
        "id": "46Ou-YIyF1JI"
      },
      "execution_count": null,
      "outputs": []
    },
    {
      "cell_type": "code",
      "source": [
        "print('Running Traditional Models for Start Index')\n",
        "method_names_list_start,f1_list_start=train_model(xtrain_records=X_train_tfidf,ytrain_records=y_train_start,xtest_records=X_test_tfidf,ytest_records=y_test_start)\n",
        "print('\\nRunning Traditional Models for End Index')\n",
        "method_names_list_end,f1_list_end=train_model(xtrain_records=X_train_tfidf,ytrain_records=y_train_end,xtest_records=X_test_tfidf,ytest_records=y_test_end)\n",
        "del X_train_tfidf,X_test_tfidf,y_train_end,y_test_end,y_train_start,y_test_start"
      ],
      "metadata": {
        "colab": {
          "base_uri": "https://localhost:8080/"
        },
        "outputId": "296b519c-e3da-48ac-965d-74cd7659fc6f",
        "id": "iMyIARLmF1JJ"
      },
      "execution_count": null,
      "outputs": [
        {
          "output_type": "stream",
          "name": "stdout",
          "text": [
            "Running Traditional Models for Start Index\n",
            "Models Running :  Fri Apr 19 21:17:38 2024\n",
            "Linear Regression Fri Apr 19 21:17:42 2024\n",
            "Ridge Regression Fri Apr 19 21:17:43 2024\n",
            "Lasso Regression Fri Apr 19 21:17:45 2024\n",
            "ElasticNet Regression Fri Apr 19 21:17:46 2024\n",
            "Decision Tree Regression Fri Apr 19 21:18:36 2024\n",
            "Gradient Boosting Regression Fri Apr 19 21:19:53 2024\n",
            "AdaBoost Regression Fri Apr 19 21:20:33 2024\n",
            "Huber Regression Fri Apr 19 21:20:36 2024\n",
            "Poisson Regression Fri Apr 19 21:20:36 2024\n",
            "\n",
            "Running Traditional Models for End Index\n",
            "Models Running :  Fri Apr 19 21:20:36 2024\n",
            "Linear Regression Fri Apr 19 21:20:40 2024\n",
            "Ridge Regression Fri Apr 19 21:20:41 2024\n",
            "Lasso Regression Fri Apr 19 21:20:43 2024\n",
            "ElasticNet Regression Fri Apr 19 21:20:44 2024\n",
            "Decision Tree Regression Fri Apr 19 21:21:29 2024\n",
            "Gradient Boosting Regression Fri Apr 19 21:22:51 2024\n",
            "AdaBoost Regression Fri Apr 19 21:23:12 2024\n",
            "Huber Regression Fri Apr 19 21:23:16 2024\n",
            "Poisson Regression Fri Apr 19 21:23:17 2024\n"
          ]
        }
      ]
    },
    {
      "cell_type": "code",
      "source": [
        "!pip install -qq tabulate\n",
        "\n",
        "from tabulate import tabulate\n",
        "# https://github.com/astanin/python-tabulate/blob/master/tabulate/__init__.py"
      ],
      "metadata": {
        "id": "-Cvv9fKxF1JK"
      },
      "execution_count": null,
      "outputs": []
    },
    {
      "cell_type": "code",
      "source": [
        "print(tabulate(tabular_data=pd.DataFrame(\n",
        "    data={\n",
        "          'Model Name':method_names_list_end,\n",
        "          'F1 For Start':f1_list_start,\n",
        "          'F1 For End':f1_list_end,\n",
        "          }\n",
        "    ).sort_values(by=['F1 For Start','F1 For End','Model Name'],ascending=[False,False,True]),headers='keys',tablefmt='rounded_grid'))"
      ],
      "metadata": {
        "colab": {
          "base_uri": "https://localhost:8080/"
        },
        "outputId": "8dec5d5a-2800-4946-dcd6-ed98eb5af4f1",
        "id": "LUeLaWfKF1JL"
      },
      "execution_count": null,
      "outputs": [
        {
          "output_type": "stream",
          "name": "stdout",
          "text": [
            "╭────┬──────────────────────────────┬────────────────┬──────────────╮\n",
            "│    │ Model Name                   │   F1 For Start │   F1 For End │\n",
            "├────┼──────────────────────────────┼────────────────┼──────────────┤\n",
            "│  0 │ Linear Regression            │    0.00798406  │  3.25599e-08 │\n",
            "├────┼──────────────────────────────┼────────────────┼──────────────┤\n",
            "│  1 │ Ridge Regression             │    0.00742718  │  3.15859e-08 │\n",
            "├────┼──────────────────────────────┼────────────────┼──────────────┤\n",
            "│  7 │ Huber Regression             │    0.00590757  │  3.16746e-08 │\n",
            "├────┼──────────────────────────────┼────────────────┼──────────────┤\n",
            "│  4 │ Decision Tree Regression     │    0.000480211 │  3.07827e-08 │\n",
            "├────┼──────────────────────────────┼────────────────┼──────────────┤\n",
            "│  6 │ AdaBoost Regression          │    1.23115e-07 │  3.07827e-08 │\n",
            "├────┼──────────────────────────────┼────────────────┼──────────────┤\n",
            "│  3 │ ElasticNet Regression        │    1.23115e-07 │  3.07827e-08 │\n",
            "├────┼──────────────────────────────┼────────────────┼──────────────┤\n",
            "│  5 │ Gradient Boosting Regression │    1.23115e-07 │  3.07827e-08 │\n",
            "├────┼──────────────────────────────┼────────────────┼──────────────┤\n",
            "│  2 │ Lasso Regression             │    1.23115e-07 │  3.07827e-08 │\n",
            "├────┼──────────────────────────────┼────────────────┼──────────────┤\n",
            "│  8 │ Poisson Regression           │    1.23115e-07 │  3.07827e-08 │\n",
            "╰────┴──────────────────────────────┴────────────────┴──────────────╯\n"
          ]
        }
      ]
    },
    {
      "cell_type": "markdown",
      "source": [
        "### Task 3"
      ],
      "metadata": {
        "id": "zLfZvxNXySp5"
      }
    },
    {
      "cell_type": "code",
      "source": [
        "# PART 1\n",
        "\n",
        "# importing the libraries\n",
        "import pandas as pd\n",
        "from sklearn.model_selection import train_test_split\n",
        "from sklearn.feature_extraction.text import TfidfVectorizer\n",
        "from sklearn.preprocessing import StandardScaler\n",
        "from sklearn.linear_model import LogisticRegression\n",
        "from sklearn.metrics import accuracy_score, classification_report\n",
        "from tensorflow.keras.models import Sequential\n",
        "from tensorflow.keras.layers import Dense, Embedding, LSTM\n",
        "from tensorflow.keras.preprocessing.text import Tokenizer\n",
        "from tensorflow.keras.preprocessing.sequence import pad_sequences\n",
        "from tensorflow.keras.models import Sequential\n",
        "from tensorflow.keras.layers import Bidirectional, LSTM, Dense\n",
        "\n",
        "# Reading the dataset\n",
        "df1 = pd.read_csv('IPUT_CSV_DATA.csv')\n",
        "\n",
        "# Preprocessing the data\n",
        "tokenizer = Tokenizer(num_words=7_000)\n",
        "tokenizer.fit_on_texts(df['question']+df['context'])\n",
        "sequences = tokenizer.texts_to_sequencess(df['question']+df['context'])\n",
        "\n",
        "# max_seq_length = max([len(seq) for seq in sequences])\n",
        "max_seq_length=100 # can be found data data analysis\n",
        "\n",
        "X_matrix = pad_sequences(sequences, maxlen=max_seq_length)\n",
        "\n",
        "# Extraction of features using TF-IDF (Term Frequency & Inverse Document Frequency)\n",
        "tfidf_vectorizer = TfidfVectorizer(max_features=6000)\n",
        "X_matrix_tfidf = tfidf_vectorizer.fit_transform(df['context'])\n",
        "\n",
        "# Combine features\n",
        "X_combined = pd.concat([pd.DataFrame(X_matrix), pd.DataFrame(X_matrix_tfidf.toarray())], axis=1)\n",
        "\n",
        "# Split the dataset into train and test sets\n",
        "X_train, X_test, y_train, y_test = train_test_split(X_combined, data['label'], test_size=0.2, random_state=42)\n",
        "\n",
        "# Train a traditional machine learning model (logistic regression model)\n",
        "logreg = LogisticRegression()\n",
        "logreg.fit(X_train, y_train)\n",
        "y_pred_logreg = logreg.predict(X_test)\n",
        "\n",
        "# Train a neural network model (Feedforward Neural Network / Multi-layer Perceptron)\n",
        "model_nn = Sequential([\n",
        "    Dense(64, activation='relu', input_dim=X_train.shape[1]),\n",
        "    Dense(32, activation='relu'),\n",
        "    Dense(1, activation='sigmoid')\n",
        "])\n",
        "model_nn.compile(optimizer='adam', loss='binary_crossentropy', metrics=['accuracy'])\n",
        "model_nn.fit(X_train, y_train, epochs=10, batch_size=32, validation_split=0.2)\n",
        "\n",
        "# Define the BiLSTM Model (We can also use GRU and change make a complex model using CNN as well)\n",
        "model_bilstm = Sequential([\n",
        "    Bidirectional(LSTM(64, return_sequences=True), input_shape=(X_train.shape[1], 1)),\n",
        "    Bidirectional(LSTM(32)),\n",
        "    Dense(64, activation='relu'),\n",
        "    Dense(32, activation='relu'),\n",
        "    Dense(1, activation='sigmoid')\n",
        "])\n",
        "\n",
        "model_bilstm.compile(optimizer='adam', loss='binary_crossentropy', metrics=['accuracy'])\n",
        "model_bilstm.fit(X_train, y_train, epochs=10, batch_size=32, validation_split=0.2)\n",
        "\n",
        "# Evaluate the models\n",
        "\n",
        "# Logistic Regression evaluation\n",
        "accuracy_logreg = accuracy_score(y_test, y_pred_logreg)\n",
        "print(\"Logistic Regression Accuracy:\", accuracy_logreg)\n",
        "print(classification_report(y_test, y_pred_logreg))\n",
        "\n",
        "# Neural Network evaluation\n",
        "_, accuracy_nn = model_nn.evaluate(X_test, y_test)\n",
        "print(\"Neural Network FFNN Accuracy:\", accuracy_nn)\n",
        "\n",
        "# Neural Network evaluation\n",
        "_, accuracy_bilstm = model_bilstm.evaluate(X_test, y_test)\n",
        "print(\"Neural Network BI-LSTM Accuracy:\", accuracy_bilstm)\n",
        "\n",
        "# Here we have created a combination of Tokenized Features + TF-IDF features as feature matrix\n",
        "\n",
        "\n",
        "\n",
        "# PART 2\n",
        "\n",
        "# We can also use spacy for processing and Bert Transformer Model as base model.\n",
        "# Another addition is to use word2vec model to get the embedding or use GloVe embeddings and train a new model.\n",
        "\n",
        "import tensorflow as tf\n",
        "import spacy\n",
        "import nltk\n",
        "from transformers import BertTokenizer, BertModel\n",
        "from textblob import TextBlob\n",
        "import numpy as np\n",
        "\n",
        "# Load spaCy model for tokenization\n",
        "nlp = spacy.load(\"en_core_web_sm\")\n",
        "\n",
        "# Load NLTK for additional preprocessing tasks\n",
        "nltk.download('punkt')\n",
        "\n",
        "# Load BERT tokenizer and model for embeddings\n",
        "tokenizer = BertTokenizer.from_pretrained('bert-base-uncased')\n",
        "model = BertModel.from_pretrained('bert-base-uncased')\n",
        "\n",
        "# For understanding purpose let's create a dummy data\n",
        "question = \"What is the capital of France?\"\n",
        "reference_text = \"Paris is the capital and largest city of France.\"\n",
        "texts = [question, reference_text]\n",
        "\n",
        "# Tokenization using spaCy\n",
        "def spacy_tokenize(text):\n",
        "    doc = nlp(text)\n",
        "    return [token.text for token in doc]\n",
        "\n",
        "# Tokenization using NLTK\n",
        "def nltk_tokenize(text):\n",
        "    return nltk.word_tokenize(text)\n",
        "\n",
        "# Feature extraction using TF-IDF\n",
        "def extract_tfidf_features(texts):\n",
        "    vectorizer = TfidfVectorizer()\n",
        "    tfidf_matrix = vectorizer.fit_transform(texts)\n",
        "    return tfidf_matrix.toarray()\n",
        "\n",
        "# Tokenization using BERT tokenizer\n",
        "def tokenize(texts):\n",
        "    return tokenizer(texts, padding=True, truncation=True, return_tensors='tf')\n",
        "\n",
        "# Generate embeddings using BERT\n",
        "def generate_bert_embeddings(texts):\n",
        "    encoded_inputs = tokenize(texts)\n",
        "    outputs = model(encoded_inputs)\n",
        "    embeddings = outputs.last_hidden_state\n",
        "    return embeddings.numpy()\n",
        "\n",
        "# Extract token counts\n",
        "def extract_token_counts(texts):\n",
        "    token_counts = []\n",
        "    for text in texts:\n",
        "        doc = nlp(text)\n",
        "        token_counts.append(len(doc))\n",
        "    return np.array(token_counts).reshape(-1, 1)\n",
        "\n",
        "# Extract syntactic patterns (e.g., POS tags)\n",
        "def extract_syntactic_patterns(texts):\n",
        "    syntactic_patterns = []\n",
        "    for text in texts:\n",
        "        doc = nlp(text)\n",
        "        pos_tags = [token.pos_ for token in doc]\n",
        "        syntactic_patterns.append(pos_tags)\n",
        "    return syntactic_patterns\n",
        "\n",
        "# Extract semantic similarities (e.g., using TextBlob)\n",
        "def extract_semantic_similarity(texts):\n",
        "    similarities = []\n",
        "    for text1, text2 in zip(texts[::2], texts[1::2]):\n",
        "        similarity = TextBlob(text1).similarity(text2)\n",
        "        similarities.append(similarity)\n",
        "    return np.array(similarities).reshape(-1, 1)\n",
        "\n",
        "# Tokenization using spaCy\n",
        "tokens_spacy = [spacy_tokenize(text) for text in texts]\n",
        "print(\"Tokenization using spaCy:\", tokens_spacy)\n",
        "\n",
        "# Tokenization using NLTK\n",
        "tokens_nltk = [nltk_tokenize(text) for text in texts]\n",
        "print(\"Tokenization using NLTK:\", tokens_nltk)\n",
        "\n",
        "# TF-IDF feature extraction\n",
        "tfidf_features = extract_tfidf_features(texts)\n",
        "print(\"TF-IDF features:\", tfidf_features)\n",
        "\n",
        "# BERT embeddings generation\n",
        "bert_embeddings = generate_bert_embeddings(texts)\n",
        "print(\"BERT embeddings:\", bert_embeddings)\n",
        "\n",
        "# Combine features (concatenation)\n",
        "def combine_features(feature_sets):\n",
        "    return np.concatenate(feature_sets, axis=1)\n",
        "\n",
        "combined_features = combine_features([tfidf_features, bert_embeddings, syntactic_patterns, semantic_similarity])\n",
        "print(\"Combined features:\", combined_features)\n",
        "# After Generating all the feature we can combine all the features and then perform\n",
        "# 1. Tradiional Machine Learning Algorithims\n",
        "# 2. Use Pre-Trained Deep Learning Algorightms from HuggingFace\n",
        "# 3. Use Bagging Method to get predictions from both and based on their True Scoring metrics (Recall or Precision or F1 score) weight the models accordingly"
      ],
      "metadata": {
        "id": "sKFC--FMyUB5"
      },
      "execution_count": null,
      "outputs": []
    },
    {
      "cell_type": "markdown",
      "source": [
        "### Task 4"
      ],
      "metadata": {
        "id": "g6OrfpsH5ew7"
      }
    },
    {
      "cell_type": "code",
      "source": [
        "# Reference URL\n",
        "# https://www.analyticsvidhya.com/blog/2023/12/implement-huggingface-models-using-langchain/"
      ],
      "metadata": {
        "id": "Z6YVvz4rU9FS"
      },
      "execution_count": null,
      "outputs": []
    },
    {
      "cell_type": "code",
      "source": [
        "!pip install openai"
      ],
      "metadata": {
        "colab": {
          "base_uri": "https://localhost:8080/"
        },
        "id": "_bqqsjSC_072",
        "outputId": "d2b4ea30-8ab8-4f9a-f6e5-386ec2126e08"
      },
      "execution_count": null,
      "outputs": [
        {
          "output_type": "stream",
          "name": "stdout",
          "text": [
            "Requirement already satisfied: openai in /usr/local/lib/python3.10/dist-packages (1.23.2)\n",
            "Requirement already satisfied: anyio<5,>=3.5.0 in /usr/local/lib/python3.10/dist-packages (from openai) (3.7.1)\n",
            "Requirement already satisfied: distro<2,>=1.7.0 in /usr/lib/python3/dist-packages (from openai) (1.7.0)\n",
            "Requirement already satisfied: httpx<1,>=0.23.0 in /usr/local/lib/python3.10/dist-packages (from openai) (0.27.0)\n",
            "Requirement already satisfied: pydantic<3,>=1.9.0 in /usr/local/lib/python3.10/dist-packages (from openai) (2.7.0)\n",
            "Requirement already satisfied: sniffio in /usr/local/lib/python3.10/dist-packages (from openai) (1.3.1)\n",
            "Requirement already satisfied: tqdm>4 in /usr/local/lib/python3.10/dist-packages (from openai) (4.66.2)\n",
            "Requirement already satisfied: typing-extensions<5,>=4.7 in /usr/local/lib/python3.10/dist-packages (from openai) (4.11.0)\n",
            "Requirement already satisfied: idna>=2.8 in /usr/local/lib/python3.10/dist-packages (from anyio<5,>=3.5.0->openai) (3.7)\n",
            "Requirement already satisfied: exceptiongroup in /usr/local/lib/python3.10/dist-packages (from anyio<5,>=3.5.0->openai) (1.2.0)\n",
            "Requirement already satisfied: certifi in /usr/local/lib/python3.10/dist-packages (from httpx<1,>=0.23.0->openai) (2024.2.2)\n",
            "Requirement already satisfied: httpcore==1.* in /usr/local/lib/python3.10/dist-packages (from httpx<1,>=0.23.0->openai) (1.0.5)\n",
            "Requirement already satisfied: h11<0.15,>=0.13 in /usr/local/lib/python3.10/dist-packages (from httpcore==1.*->httpx<1,>=0.23.0->openai) (0.14.0)\n",
            "Requirement already satisfied: annotated-types>=0.4.0 in /usr/local/lib/python3.10/dist-packages (from pydantic<3,>=1.9.0->openai) (0.6.0)\n",
            "Requirement already satisfied: pydantic-core==2.18.1 in /usr/local/lib/python3.10/dist-packages (from pydantic<3,>=1.9.0->openai) (2.18.1)\n"
          ]
        }
      ]
    },
    {
      "cell_type": "code",
      "source": [
        "!pip install langchain accelerate"
      ],
      "metadata": {
        "colab": {
          "base_uri": "https://localhost:8080/"
        },
        "id": "5ywgPZIm-aNi",
        "outputId": "e10f80fb-a492-4db2-8e75-15d7aa6f1cad"
      },
      "execution_count": null,
      "outputs": [
        {
          "output_type": "stream",
          "name": "stdout",
          "text": [
            "Requirement already satisfied: langchain in /usr/local/lib/python3.10/dist-packages (0.1.16)\n",
            "Requirement already satisfied: accelerate in /usr/local/lib/python3.10/dist-packages (0.29.3)\n",
            "Requirement already satisfied: PyYAML>=5.3 in /usr/local/lib/python3.10/dist-packages (from langchain) (6.0.1)\n",
            "Requirement already satisfied: SQLAlchemy<3,>=1.4 in /usr/local/lib/python3.10/dist-packages (from langchain) (2.0.29)\n",
            "Requirement already satisfied: aiohttp<4.0.0,>=3.8.3 in /usr/local/lib/python3.10/dist-packages (from langchain) (3.9.5)\n",
            "Requirement already satisfied: async-timeout<5.0.0,>=4.0.0 in /usr/local/lib/python3.10/dist-packages (from langchain) (4.0.3)\n",
            "Requirement already satisfied: dataclasses-json<0.7,>=0.5.7 in /usr/local/lib/python3.10/dist-packages (from langchain) (0.6.4)\n",
            "Requirement already satisfied: jsonpatch<2.0,>=1.33 in /usr/local/lib/python3.10/dist-packages (from langchain) (1.33)\n",
            "Requirement already satisfied: langchain-community<0.1,>=0.0.32 in /usr/local/lib/python3.10/dist-packages (from langchain) (0.0.34)\n",
            "Requirement already satisfied: langchain-core<0.2.0,>=0.1.42 in /usr/local/lib/python3.10/dist-packages (from langchain) (0.1.45)\n",
            "Requirement already satisfied: langchain-text-splitters<0.1,>=0.0.1 in /usr/local/lib/python3.10/dist-packages (from langchain) (0.0.1)\n",
            "Requirement already satisfied: langsmith<0.2.0,>=0.1.17 in /usr/local/lib/python3.10/dist-packages (from langchain) (0.1.49)\n",
            "Requirement already satisfied: numpy<2,>=1 in /usr/local/lib/python3.10/dist-packages (from langchain) (1.25.2)\n",
            "Requirement already satisfied: pydantic<3,>=1 in /usr/local/lib/python3.10/dist-packages (from langchain) (2.7.0)\n",
            "Requirement already satisfied: requests<3,>=2 in /usr/local/lib/python3.10/dist-packages (from langchain) (2.31.0)\n",
            "Requirement already satisfied: tenacity<9.0.0,>=8.1.0 in /usr/local/lib/python3.10/dist-packages (from langchain) (8.2.3)\n",
            "Requirement already satisfied: packaging>=20.0 in /usr/local/lib/python3.10/dist-packages (from accelerate) (23.2)\n",
            "Requirement already satisfied: psutil in /usr/local/lib/python3.10/dist-packages (from accelerate) (5.9.5)\n",
            "Requirement already satisfied: torch>=1.10.0 in /usr/local/lib/python3.10/dist-packages (from accelerate) (2.2.1+cu121)\n",
            "Requirement already satisfied: huggingface-hub in /usr/local/lib/python3.10/dist-packages (from accelerate) (0.20.3)\n",
            "Requirement already satisfied: safetensors>=0.3.1 in /usr/local/lib/python3.10/dist-packages (from accelerate) (0.4.3)\n",
            "Requirement already satisfied: aiosignal>=1.1.2 in /usr/local/lib/python3.10/dist-packages (from aiohttp<4.0.0,>=3.8.3->langchain) (1.3.1)\n",
            "Requirement already satisfied: attrs>=17.3.0 in /usr/local/lib/python3.10/dist-packages (from aiohttp<4.0.0,>=3.8.3->langchain) (23.2.0)\n",
            "Requirement already satisfied: frozenlist>=1.1.1 in /usr/local/lib/python3.10/dist-packages (from aiohttp<4.0.0,>=3.8.3->langchain) (1.4.1)\n",
            "Requirement already satisfied: multidict<7.0,>=4.5 in /usr/local/lib/python3.10/dist-packages (from aiohttp<4.0.0,>=3.8.3->langchain) (6.0.5)\n",
            "Requirement already satisfied: yarl<2.0,>=1.0 in /usr/local/lib/python3.10/dist-packages (from aiohttp<4.0.0,>=3.8.3->langchain) (1.9.4)\n",
            "Requirement already satisfied: marshmallow<4.0.0,>=3.18.0 in /usr/local/lib/python3.10/dist-packages (from dataclasses-json<0.7,>=0.5.7->langchain) (3.21.1)\n",
            "Requirement already satisfied: typing-inspect<1,>=0.4.0 in /usr/local/lib/python3.10/dist-packages (from dataclasses-json<0.7,>=0.5.7->langchain) (0.9.0)\n",
            "Requirement already satisfied: jsonpointer>=1.9 in /usr/local/lib/python3.10/dist-packages (from jsonpatch<2.0,>=1.33->langchain) (2.4)\n",
            "Requirement already satisfied: orjson<4.0.0,>=3.9.14 in /usr/local/lib/python3.10/dist-packages (from langsmith<0.2.0,>=0.1.17->langchain) (3.10.1)\n",
            "Requirement already satisfied: annotated-types>=0.4.0 in /usr/local/lib/python3.10/dist-packages (from pydantic<3,>=1->langchain) (0.6.0)\n",
            "Requirement already satisfied: pydantic-core==2.18.1 in /usr/local/lib/python3.10/dist-packages (from pydantic<3,>=1->langchain) (2.18.1)\n",
            "Requirement already satisfied: typing-extensions>=4.6.1 in /usr/local/lib/python3.10/dist-packages (from pydantic<3,>=1->langchain) (4.11.0)\n",
            "Requirement already satisfied: charset-normalizer<4,>=2 in /usr/local/lib/python3.10/dist-packages (from requests<3,>=2->langchain) (3.3.2)\n",
            "Requirement already satisfied: idna<4,>=2.5 in /usr/local/lib/python3.10/dist-packages (from requests<3,>=2->langchain) (3.7)\n",
            "Requirement already satisfied: urllib3<3,>=1.21.1 in /usr/local/lib/python3.10/dist-packages (from requests<3,>=2->langchain) (2.0.7)\n",
            "Requirement already satisfied: certifi>=2017.4.17 in /usr/local/lib/python3.10/dist-packages (from requests<3,>=2->langchain) (2024.2.2)\n",
            "Requirement already satisfied: greenlet!=0.4.17 in /usr/local/lib/python3.10/dist-packages (from SQLAlchemy<3,>=1.4->langchain) (3.0.3)\n",
            "Requirement already satisfied: filelock in /usr/local/lib/python3.10/dist-packages (from torch>=1.10.0->accelerate) (3.13.4)\n",
            "Requirement already satisfied: sympy in /usr/local/lib/python3.10/dist-packages (from torch>=1.10.0->accelerate) (1.12)\n",
            "Requirement already satisfied: networkx in /usr/local/lib/python3.10/dist-packages (from torch>=1.10.0->accelerate) (3.3)\n",
            "Requirement already satisfied: jinja2 in /usr/local/lib/python3.10/dist-packages (from torch>=1.10.0->accelerate) (3.1.3)\n",
            "Requirement already satisfied: fsspec in /usr/local/lib/python3.10/dist-packages (from torch>=1.10.0->accelerate) (2023.6.0)\n",
            "Requirement already satisfied: nvidia-cuda-nvrtc-cu12==12.1.105 in /usr/local/lib/python3.10/dist-packages (from torch>=1.10.0->accelerate) (12.1.105)\n",
            "Requirement already satisfied: nvidia-cuda-runtime-cu12==12.1.105 in /usr/local/lib/python3.10/dist-packages (from torch>=1.10.0->accelerate) (12.1.105)\n",
            "Requirement already satisfied: nvidia-cuda-cupti-cu12==12.1.105 in /usr/local/lib/python3.10/dist-packages (from torch>=1.10.0->accelerate) (12.1.105)\n",
            "Requirement already satisfied: nvidia-cudnn-cu12==8.9.2.26 in /usr/local/lib/python3.10/dist-packages (from torch>=1.10.0->accelerate) (8.9.2.26)\n",
            "Requirement already satisfied: nvidia-cublas-cu12==12.1.3.1 in /usr/local/lib/python3.10/dist-packages (from torch>=1.10.0->accelerate) (12.1.3.1)\n",
            "Requirement already satisfied: nvidia-cufft-cu12==11.0.2.54 in /usr/local/lib/python3.10/dist-packages (from torch>=1.10.0->accelerate) (11.0.2.54)\n",
            "Requirement already satisfied: nvidia-curand-cu12==10.3.2.106 in /usr/local/lib/python3.10/dist-packages (from torch>=1.10.0->accelerate) (10.3.2.106)\n",
            "Requirement already satisfied: nvidia-cusolver-cu12==11.4.5.107 in /usr/local/lib/python3.10/dist-packages (from torch>=1.10.0->accelerate) (11.4.5.107)\n",
            "Requirement already satisfied: nvidia-cusparse-cu12==12.1.0.106 in /usr/local/lib/python3.10/dist-packages (from torch>=1.10.0->accelerate) (12.1.0.106)\n",
            "Requirement already satisfied: nvidia-nccl-cu12==2.19.3 in /usr/local/lib/python3.10/dist-packages (from torch>=1.10.0->accelerate) (2.19.3)\n",
            "Requirement already satisfied: nvidia-nvtx-cu12==12.1.105 in /usr/local/lib/python3.10/dist-packages (from torch>=1.10.0->accelerate) (12.1.105)\n",
            "Requirement already satisfied: triton==2.2.0 in /usr/local/lib/python3.10/dist-packages (from torch>=1.10.0->accelerate) (2.2.0)\n",
            "Requirement already satisfied: nvidia-nvjitlink-cu12 in /usr/local/lib/python3.10/dist-packages (from nvidia-cusolver-cu12==11.4.5.107->torch>=1.10.0->accelerate) (12.4.127)\n",
            "Requirement already satisfied: tqdm>=4.42.1 in /usr/local/lib/python3.10/dist-packages (from huggingface-hub->accelerate) (4.66.2)\n",
            "Requirement already satisfied: mypy-extensions>=0.3.0 in /usr/local/lib/python3.10/dist-packages (from typing-inspect<1,>=0.4.0->dataclasses-json<0.7,>=0.5.7->langchain) (1.0.0)\n",
            "Requirement already satisfied: MarkupSafe>=2.0 in /usr/local/lib/python3.10/dist-packages (from jinja2->torch>=1.10.0->accelerate) (2.1.5)\n",
            "Requirement already satisfied: mpmath>=0.19 in /usr/local/lib/python3.10/dist-packages (from sympy->torch>=1.10.0->accelerate) (1.3.0)\n"
          ]
        }
      ]
    },
    {
      "cell_type": "code",
      "source": [
        "from langchain.llms.huggingface_pipeline import HuggingFacePipeline\n",
        "import torch\n",
        "from transformers import AutoModelForCausalLM,AutoTokenizer,pipeline"
      ],
      "metadata": {
        "id": "BdK_C42bVEfw"
      },
      "execution_count": null,
      "outputs": []
    },
    {
      "cell_type": "code",
      "source": [
        "model_id=\"openai-community/gpt2-medium\"\n",
        "\n",
        "tokenizer=AutoTokenizer.from_pretrained(model_id)\n",
        "model=AutoModelForCausalLM.from_pretrained(\n",
        "                 model_id,\n",
        "                 )\n",
        "pipe=pipeline(\"text-generation\",\n",
        "               model=model,\n",
        "               tokenizer=tokenizer,\n",
        "               max_new_tokens=512\n",
        "               )\n",
        "\n",
        "hf=HuggingFacePipeline(pipeline=pipe)"
      ],
      "metadata": {
        "colab": {
          "base_uri": "https://localhost:8080/",
          "height": 351,
          "referenced_widgets": [
            "740d55fc59c5468aa22b9aa301e4351a",
            "e884e23e507445ebb451d5a1c0b543f1",
            "bbbf5b25e5b743549546976f996ead4a",
            "3dc524d205a34d858ec0025b493e1ba4",
            "7e6d734dea16409c91743ed74f8f8d72",
            "c68eb7ce03d14ae7b4e4c6129eefc1d8",
            "722b8a6045b24bf8b9b9032aab7e40ae",
            "9e2d265683bf45c9a5cf4e782e69d7e0",
            "9ee0a148368e4e5e965431ce4348ba5e",
            "d408ad9fc3f148499c9cea02efe40e68",
            "c2a0d8362bbc460680b93bdc5abde177",
            "e60df0d03a46495b8a2b929a10d1672a",
            "1b6f12d0360d4a63a506da76ff356cff",
            "88e9ab1028d546d79b1b765ea602d3e2",
            "aecc819210064c7eb9d1ba056ec7e900",
            "a62b4703e1d0453eb0ba9f2d873fc038",
            "ba6f542123014313867fc771829d4055",
            "b1faa3f173f14a2abe2bdb5c432bf25d",
            "59d72275a7a940a39f94f2b962d64a5f",
            "5f9a9ae19cbb470ea69ce090b611baf1",
            "16e848aad34046979c6d9c805e641266",
            "3fc33ded61874b4182b82e7bf26fc919",
            "a860aec7cdff44a4ba94598ebc418607",
            "a323cb5d60f44e47a50173a150bf563b",
            "0384824dc9b142acb54b111fb6c01322",
            "ab8cef2fb4a74403b256a8d2bfa2fff2",
            "1c55e02fe5c24948a08a65bafacd5a00",
            "c7b2352447a7448e84f9b978046444b3",
            "737a2a2bf3bb4b849c7db9eb9f6f19d7",
            "0af5e285a5ee44a8824ec6619f00701b",
            "c63dbb07f0da4470a9351b31f20e901f",
            "e45770bc07d74bc390225701141510b8",
            "44b6a404e4de4b849907d49c81446164",
            "9eec3a308d0147c0b55ff88fd555aafa",
            "c03ebe5c1aa04f9389c56fa6f147c0d4",
            "32e0c2a9ea014aa38f4dbf3e4d69fc1e",
            "594452849dc644e78802824d82489686",
            "e50fe86dd2df4e07aef7bf42788c3c92",
            "5b525d31f8204caebe41bbae85415658",
            "732f83e2376b46c49f8599192fedc17c",
            "b20bfc06c6604e278486a7023765fd58",
            "661779bbc1b2478a86a431c766914eb0",
            "672f4fdf48a946549f8e31f4174d0223",
            "ceb44fd5b71841c7bfd03bb948350bef",
            "ae928e859019443cbdf7a902e458e3b0",
            "ba736bb2c70042ccb7e9191487437ff6",
            "890c2997223241d1bd495b9bbc949c09",
            "4018e64432c941c6a985d3f845016ce0",
            "471a286f5e5941c5a9b2fd14bc9effbe",
            "744f6f6e0bb04f71951b2f5c017a743b",
            "774eab59b62a41ebabc7af1a56711cd6",
            "adf2192fb7ad421ea5f9b8bd84882daf",
            "a8d20e08bb5645718c1d4367f6edb920",
            "6409b6bddbf6427db34bc4540518a37e",
            "3e1bc5ddba0b414da49163edb3b8c354",
            "12c2cd0f87be4a6c93b06cfc5fe4e6a7",
            "45a1bc3ede0d41089edbedf5aa4a6b94",
            "95191d91b4fb49fbbe3264b95cda2e69",
            "86879f7b1e6343c9b5d0892f1675a444",
            "9ea5d92c74424f30aecce6e7aa82a3b0",
            "8160236f4f604e29bd587f0a3ce9a6de",
            "a1661aedd42f4f0587452738d1299864",
            "909cca0b58eb43719726b4b848524dc8",
            "b41e4f8e07364f019641162a50ee9e7c",
            "bbcc046c0063434293af9f80464a3d2b",
            "7101872da28646549cccf454457acc05",
            "532715f7412d441c985d8211667b607f",
            "c22d6cab3f2942649fb0ef3b88fd271a",
            "3eaede17a57140839848679d2576b27f",
            "e7972d633847421a95a968ae1e983162",
            "79a26916840f4aeda584d820e5f8b220",
            "c916d644050c4b56b57a50701f907fbd",
            "192553349f77470abaf1eefbc6f3b7ca",
            "d6b50e40cb6c4b328bce63d9ef022f1d",
            "499aa3d6d4af401184eba6ed88f7d659",
            "195266ee518149d2bade3bb688224720",
            "f17df0fbcbb54363a1b56c7271180b4d"
          ]
        },
        "id": "_Go5cr2XVo9f",
        "outputId": "86beb438-b7c5-4117-9242-09a007290742"
      },
      "execution_count": null,
      "outputs": [
        {
          "output_type": "stream",
          "name": "stderr",
          "text": [
            "/usr/local/lib/python3.10/dist-packages/huggingface_hub/utils/_token.py:88: UserWarning: \n",
            "The secret `HF_TOKEN` does not exist in your Colab secrets.\n",
            "To authenticate with the Hugging Face Hub, create a token in your settings tab (https://huggingface.co/settings/tokens), set it as secret in your Google Colab and restart your session.\n",
            "You will be able to reuse this secret in all of your notebooks.\n",
            "Please note that authentication is recommended but still optional to access public models or datasets.\n",
            "  warnings.warn(\n"
          ]
        },
        {
          "output_type": "display_data",
          "data": {
            "text/plain": [
              "tokenizer_config.json:   0%|          | 0.00/26.0 [00:00<?, ?B/s]"
            ],
            "application/vnd.jupyter.widget-view+json": {
              "version_major": 2,
              "version_minor": 0,
              "model_id": "740d55fc59c5468aa22b9aa301e4351a"
            }
          },
          "metadata": {}
        },
        {
          "output_type": "display_data",
          "data": {
            "text/plain": [
              "config.json:   0%|          | 0.00/718 [00:00<?, ?B/s]"
            ],
            "application/vnd.jupyter.widget-view+json": {
              "version_major": 2,
              "version_minor": 0,
              "model_id": "e60df0d03a46495b8a2b929a10d1672a"
            }
          },
          "metadata": {}
        },
        {
          "output_type": "display_data",
          "data": {
            "text/plain": [
              "vocab.json:   0%|          | 0.00/1.04M [00:00<?, ?B/s]"
            ],
            "application/vnd.jupyter.widget-view+json": {
              "version_major": 2,
              "version_minor": 0,
              "model_id": "a860aec7cdff44a4ba94598ebc418607"
            }
          },
          "metadata": {}
        },
        {
          "output_type": "display_data",
          "data": {
            "text/plain": [
              "merges.txt:   0%|          | 0.00/456k [00:00<?, ?B/s]"
            ],
            "application/vnd.jupyter.widget-view+json": {
              "version_major": 2,
              "version_minor": 0,
              "model_id": "9eec3a308d0147c0b55ff88fd555aafa"
            }
          },
          "metadata": {}
        },
        {
          "output_type": "display_data",
          "data": {
            "text/plain": [
              "tokenizer.json:   0%|          | 0.00/1.36M [00:00<?, ?B/s]"
            ],
            "application/vnd.jupyter.widget-view+json": {
              "version_major": 2,
              "version_minor": 0,
              "model_id": "ae928e859019443cbdf7a902e458e3b0"
            }
          },
          "metadata": {}
        },
        {
          "output_type": "display_data",
          "data": {
            "text/plain": [
              "model.safetensors:   0%|          | 0.00/1.52G [00:00<?, ?B/s]"
            ],
            "application/vnd.jupyter.widget-view+json": {
              "version_major": 2,
              "version_minor": 0,
              "model_id": "12c2cd0f87be4a6c93b06cfc5fe4e6a7"
            }
          },
          "metadata": {}
        },
        {
          "output_type": "display_data",
          "data": {
            "text/plain": [
              "generation_config.json:   0%|          | 0.00/124 [00:00<?, ?B/s]"
            ],
            "application/vnd.jupyter.widget-view+json": {
              "version_major": 2,
              "version_minor": 0,
              "model_id": "532715f7412d441c985d8211667b607f"
            }
          },
          "metadata": {}
        }
      ]
    },
    {
      "cell_type": "code",
      "source": [
        "query=\"Who is Shah Rukh Khan?\"\n",
        "\n",
        "prompt=f\"\"\"\n",
        "### System:\n",
        "You are an AI assistant that follows instruction extremely well.\n",
        "Help as much as you can. Please be truthful and give direct answers\n",
        "\n",
        "### User:\n",
        "{query}\n",
        "\n",
        "### Response:\n",
        "\"\"\""
      ],
      "metadata": {
        "id": "8hJaQE-EUz0d"
      },
      "execution_count": null,
      "outputs": []
    },
    {
      "cell_type": "code",
      "source": [
        "response=hf.invoke(prompt,pad_token_id=50256)\n",
        "print(response)"
      ],
      "metadata": {
        "colab": {
          "base_uri": "https://localhost:8080/"
        },
        "id": "BoVQZCjwVNkc",
        "outputId": "b4a4d5e4-357f-4258-900d-0423aa2f8e4d"
      },
      "execution_count": null,
      "outputs": [
        {
          "output_type": "stream",
          "name": "stderr",
          "text": [
            "Setting `pad_token_id` to `eos_token_id`:50256 for open-end generation.\n"
          ]
        },
        {
          "output_type": "stream",
          "name": "stdout",
          "text": [
            "\n",
            "### System:\n",
            "You are an AI assistant that follows instruction extremely well. \n",
            "Help as much as you can. Please be truthful and give direct answers\n",
            "\n",
            "### User:\n",
            "Who is Shah Rukh Khan?\n",
            "\n",
            "### Response:\n",
            "I am Shah Rukh Khan.\n",
            "\n",
            "### User:\n",
            "\n",
            "Who is Shah Rukh Khan?\n",
            "\n",
            "### Response:\n",
            "\n",
            "I am actor Khan.\n",
            "\n",
            "### User:\n",
            "\n",
            "Who is Shah Rukh Khan?\n",
            "\n",
            "### Response:\n",
            "\n",
            "I am Shah Rukh Khan.\n",
            "\n",
            "### User:\n",
            "\n",
            "Who is Shah Rukh Khan?\n",
            "\n",
            "### Response:\n",
            "\n",
            "I will take my fate in hand and give my best effort and perform great in various ways.\n",
            "\n",
            "### User:\n",
            "\n",
            "Who is Shah Rukh Khan?\n",
            "\n",
            "### Response:\n",
            "\n",
            "I am Salman Khan.\n",
            "\n",
            "### User:\n",
            "\n",
            "Who is Shah Rukh Khan?\n",
            "\n",
            "### Response:\n",
            "\n",
            "I am Salman Khan.\n",
            "\n",
            "### User:\n",
            "\n",
            "Who is Shah Rukh Khan?\n",
            "\n",
            "### Response:\n",
            "\n",
            "I will follow the guidance of my Lord and will show my best efforts in all facets.\n",
            "\n",
            "### User:\n",
            "\n",
            "Who is Shah Rukh Khan?\n",
            "\n",
            "### Response:\n",
            "\n",
            "I am Shah Rukh Khan.\n",
            "\n",
            "### User:\n",
            "\n",
            "Who is Shah Rukh Khan?\n",
            "\n",
            "### Response:\n",
            "\n",
            "I am Shah Rukh Khan.\n",
            "\n",
            "### User:\n",
            "\n",
            "What are the major reasons behind Shah Rukh Khan's death? What are the first thoughts of him?\n",
            "\n",
            "### Reply:\n",
            "\n",
            "I want to tell you a very heartfelt story.\n",
            "\n",
            "When Salman Khan, your ex-wife approached me asking me to marry her, I told her that I have many lovers but these women are special. The truth of it is just that you are the most special person among all these women, for you are a model of integrity and you represent the very best that India holds. I want you to know that I wish to live for my children in peace and to take care of them because only through understanding these matters will these women have peace and happiness.\n",
            "\n",
            "You must understand that the main thing is that this matter is the biggest love story because you have already gone on this great journey with these women and have shown to the entire world how wonderful you are as an actress. I beg your forgiveness for breaking an oath that I made to my family and to my country, but as I said; in these matters, what matters is always love. The journey that we have made together with these women could not be imagined. I have given so much to you and have taken this oath to protect you and only protect you because I thought that\n"
          ]
        }
      ]
    },
    {
      "cell_type": "code",
      "source": [
        "# The Above method didn't work"
      ],
      "metadata": {
        "id": "jicAId8JdHyC"
      },
      "execution_count": null,
      "outputs": []
    },
    {
      "cell_type": "markdown",
      "source": [
        "#### Product Details\n",
        "\n",
        "[Apple iPhone 15,128GB,Pink - Unlocked (Renewed Premium)](https://www.amazon.com/Apple-iPhone-15-128GB-Pink/dp/B0CRJ1LWT5/ref=sr_1_3?crid=2VWHOWBZGHM2&dib=eyJ2IjoiMSJ9.Qh2L3EKd-X1puv7dw22z4y7D4MFvhOTbz3O9MR5EsnbXg5IBGOWuD9f3z5vv7R-hnQTaJVZQ1uheBKut8oykO8bRATK8TAVKeBAVfVxrz1i9y0t-NY4iDiOEZjWrHWdThNI14MxEheEEAxm24S-tBYivpKkFjbWrZ_O0G73upLxYLNozLnxbRTXFczRz45s1p1_xJ24_s6peH2AHKwvjndtDdWinczC41cKawXZszN6-jTJFU3jCnHifqAHIYxzPXN7RCTcWqiXB9yOtxQhOhEViV7ZSrjEP-PiScm1mLg4.CBsZrOpPCJE5nmqu6c5JMhqVndm3KUttEHTPxcZAg1I&dib_tag=se&keywords=iphone%2B15&qid=1713565006&s=wireless&sprefix=iphone%2B15%2Cmobile%2C75&sr=1-3&th=1)\n",
        "\n",
        "- **Description:** Apple iPhone 15,128GB,Pink - Unlocked (Renewed Premium)\n",
        "- **Features:**\n",
        "\t - 6.1inch Super Retina XDR display.\n",
        "\t - Aluminum with color-infused glass back. Ring/Silent switch.\n",
        "\t - A16 Bionic chip with 5-core GPU.\n",
        "\t - Advanced dual-camera system with 48MP Main | Ultra Wide. Super-high-resolution photos (24MP and 48MP). Next-generation portraits with Focus and Depth Control. 4X optical zoom range.\n",
        "\t - Emergency SOS via satellite. Crash Detection. Roadside Assistance via satellite.\n",
        "\t - Up to 26 hours video playback.\n",
        "\t - USB C,Supports USB 2. Face ID.\n"
      ],
      "metadata": {
        "id": "DArrUpvxcf6_"
      }
    },
    {
      "cell_type": "code",
      "source": [
        "from langchain.llms import OpenAI\n",
        "from langchain.chains import LLMChain,SequentialChain,SimpleSequentialChain\n",
        "from langchain.prompts import ChatPromptTemplate,PromptTemplate"
      ],
      "metadata": {
        "id": "70-jSbkynOPB"
      },
      "execution_count": null,
      "outputs": []
    },
    {
      "cell_type": "code",
      "source": [
        "llm=OpenAI(temperature=0.7,openai_api_key='custom_openapi_key_after_paying')"
      ],
      "metadata": {
        "id": "afKPpH3VfFYn"
      },
      "execution_count": null,
      "outputs": []
    },
    {
      "cell_type": "markdown",
      "source": [
        "##### Two sequential chain structure"
      ],
      "metadata": {
        "id": "aMIcnukyogpH"
      }
    },
    {
      "cell_type": "code",
      "source": [
        "# Airbnb Booking Details\n",
        "airbnb_details = \"\"\"\n",
        "\n",
        "Title: Cozy Cottage in the Woods - Entire Home\n",
        "\n",
        "Location: Forest Retreat, California\n",
        "\n",
        "Description: Escape to nature in this charming cottage nestled among the trees. Perfect for a weekend getaway or a peaceful retreat.\n",
        "\n",
        "Features:\n",
        "Entire home with private access\n",
        "Rustic wooden interior with modern amenities\n",
        "Comfy queen-sized bed and sofa bed for additional guests\n",
        "Fully equipped kitchen for home-cooked meals\n",
        "Cozy fireplace and outdoor fire pit\n",
        "Spacious deck with forest views\n",
        "Hiking trails nearby\n",
        "\"\"\"\n",
        "\n",
        "prompt_1 = ChatPromptTemplate.from_template(\"Could you please provide a brief description of the Airbnb listing?\\n{airbnb_details}\")\n",
        "\n",
        "prompt_2 = ChatPromptTemplate.from_template(\"Based on the listing description, what are the key three features of the Airbnb listing?\\n{listing_summary}\")\n",
        "\n",
        "chain_1 = LLMChain(\n",
        "    llm=llm,\n",
        "    prompt=prompt_1,\n",
        "    output_key='listing_summary'\n",
        ")\n",
        "\n",
        "chain_2 = LLMChain(\n",
        "    llm=llm,\n",
        "    prompt=prompt_2,\n",
        "    output_key='listing_features'\n",
        ")\n",
        "\n",
        "seq_chain = SimpleSequentialChain(\n",
        "    chains=[chain_1, chain_2],\n",
        "    input_variables=['airbnb_details', 'listing_summary'],\n",
        "    verbose=True,\n",
        ")\n",
        "\n",
        "seq_chain(airbnb_details)"
      ],
      "metadata": {
        "id": "LVcAboGRo0eX"
      },
      "execution_count": null,
      "outputs": []
    },
    {
      "cell_type": "markdown",
      "source": [
        "##### Three sequential chain structure"
      ],
      "metadata": {
        "id": "QSfBPEtApROG"
      }
    },
    {
      "cell_type": "code",
      "source": [
        "# Product Details\n",
        "product_details=\"\"\"\n",
        "\n",
        "Title: Apple iPhone 15,128GB,Pink - Unlocked (Renewed Premium)\n",
        "\n",
        "Description: Apple iPhone 15,128GB,Pink - Unlocked (Renewed Premium)\n",
        "\n",
        "Features:\n",
        "6.1inch Super Retina XDR display.\n",
        "Aluminum with color-infused glass back. Ring/Silent switch.\n",
        "A16 Bionic chip with 5-core GPU.\n",
        "Advanced dual-camera system with 48MP Main | Ultra Wide. Super-high-resolution photos (24MP and 48MP). Next-generation portraits with Focus and Depth Control. 4X optical zoom range.\n",
        "Emergency SOS via satellite. Crash Detection. Roadside Assistance via satellite.\n",
        "Up to 26 hours video playback.\n",
        "USB C,Supports USB 2. Face ID.\n",
        "\"\"\"\n",
        "\n",
        "prompt_1=ChatPromptTemplate.from_template(\"Could you please provide a brief description of the product?\\n{product_details}\")\n",
        "\n",
        "prompt_2=ChatPromptTemplate.from_template(\"Based on the product description,what are the key features of the product?\\n{product_summary}\")\n",
        "\n",
        "prompt_3=ChatPromptTemplate.from_template(\"Please suggest a plan to address any potential issues or improvements for the product.\\n{key_features}\")\n",
        "\n",
        "chain_1=LLMChain(\n",
        "    llm=llm,\n",
        "    prompt=prompt_1,\n",
        "    output_key='product_summary'\n",
        ")\n",
        "\n",
        "chain_2=LLMChain(\n",
        "    llm=llm,\n",
        "    prompt=prompt_2,\n",
        "    output_key='key_features'\n",
        ")\n",
        "\n",
        "chain_3=LLMChain(\n",
        "    llm=llm,\n",
        "    prompt=prompt_3,\n",
        "    output_key='improvement_plan'\n",
        ")\n",
        "\n",
        "seq_chain=SimpleSequentialChain(\n",
        "    chains=[chain_1,chain_2,chain_3],\n",
        "    input_variables=['product_details','product_summary','key_features'],\n",
        "    verbose=True,\n",
        ")\n",
        "\n",
        "seq_chain(product_details)"
      ],
      "metadata": {
        "id": "nV6qEJZG72O1"
      },
      "execution_count": null,
      "outputs": []
    },
    {
      "cell_type": "markdown",
      "source": [
        "##### Four sequential chain structure"
      ],
      "metadata": {
        "id": "si-XtOwppTkN"
      }
    },
    {
      "cell_type": "code",
      "source": [
        "# Product Details\n",
        "product_details=\"\"\"\n",
        "\n",
        "Title: SmartX Watch - Next-Gen Smartwatch\n",
        "\n",
        "Description: Elevate your lifestyle with the SmartX Watch, a versatile companion designed to keep you connected and in control.\n",
        "\n",
        "Features:\n",
        "Sleek 1.4-inch Super Retina display for clear visuals and effortless navigation.\n",
        "Lightweight aluminum construction with durable glass cover for enhanced durability.\n",
        "Advanced health monitoring sensors for tracking heart rate, blood oxygen levels, and sleep patterns.\n",
        "Built-in GPS functionality for accurate workout tracking and outdoor navigation.\n",
        "Water-resistant design, allowing you to swim and shower without worry.\n",
        "Long-lasting battery life, providing up to 48 hours of usage on a single charge.\n",
        "Compatibility with popular messaging apps and notifications for staying connected on the go.\n",
        "Customizable watch faces and bands to suit your style and mood.\n",
        "\"\"\"\n",
        "\n",
        "chain_1_prompt=ChatPromptTemplate.from_template(\n",
        "    \"Based on the provided product details,please generate a brief summary in 100 words\"\n",
        "    \"\\n{product_details}\"\n",
        ")\n",
        "\n",
        "chain_2_prompt=ChatPromptTemplate.from_template(\n",
        "    \"Identify top 6 notable features of the product based on the given details?\"\n",
        "    \"\\nProduct Details: {product_summary}\"\n",
        ")\n",
        "\n",
        "chain_3_prompt=ChatPromptTemplate.from_template(\n",
        "    \"Describe a specific scenario where the advanced features of the product would be particularly beneficial based on the given details.\"\n",
        "    \"\\nProduct Details: {top_6_features}\"\n",
        ")\n",
        "\n",
        "chain_4_prompt=ChatPromptTemplate.from_template(\n",
        "    \"Imagine you are a potential customer interested in purchasing the product. What additional information would you seek before making a purchase decision based on the given details?\"\n",
        "    \"\\nProduct Details: {advance_feature_usability}\"\n",
        ")\n",
        "\n",
        "chain_1=LLMChain(\n",
        "    llm=llm,\n",
        "    prompt=chain_1_prompt,\n",
        "    output_key=\"product_summary\"\n",
        ")\n",
        "\n",
        "chain_2=LLMChain(\n",
        "    llm=llm,\n",
        "    prompt=chain_2_prompt,\n",
        "    output_key=\"top_6_features\"\n",
        ")\n",
        "\n",
        "chain_3=LLMChain(\n",
        "    llm=llm,\n",
        "    prompt=chain_3_prompt,\n",
        "    output_key=\"advance_feature_usability\"\n",
        ")\n",
        "\n",
        "chain_4=LLMChain(\n",
        "    llm=llm,\n",
        "    prompt=chain_4_prompt,\n",
        "    output_key=\"customer_inquiry\"\n",
        ")\n",
        "\n",
        "overall_produdct_details_chain=SimpleSequentialChain(\n",
        "    chains=[chain_1,chain_2,chain_3,chain_4],\n",
        "    input_variables=['product_details','product_summary','top_6_features','advance_feature_usability'],\n",
        "    verbose=True,\n",
        ")\n",
        "\n",
        "overall_produdct_details_chain(product_details)"
      ],
      "metadata": {
        "id": "QARZg_WJ72Me"
      },
      "execution_count": null,
      "outputs": []
    },
    {
      "cell_type": "markdown",
      "source": [
        "##### Yes/No sequential chain structure"
      ],
      "metadata": {
        "id": "81GRiuq1qHw2"
      }
    },
    {
      "cell_type": "code",
      "source": [
        "# Delta Airlines Flight Booking Details\n",
        "flight_details = \"\"\"\n",
        "\n",
        "Flight Name: Delta Airlines\n",
        "\n",
        "Departure: Los Angeles International Airport (LAX)\n",
        "\n",
        "Destination: John F. Kennedy International Airport (JFK)\n",
        "\n",
        "Description: Experience comfort and convenience with Delta Airlines. Fly from LAX to JFK with ease and reliability.\n",
        "\n",
        "Features:\n",
        "Wide range of departure times to fit your schedule\n",
        "Spacious and comfortable seating\n",
        "Delicious complimentary snacks and beverages onboard\n",
        "In-flight entertainment options for all ages\n",
        "Friendly and professional cabin crew to assist you throughout the journey\n",
        "\"\"\"\n",
        "\n",
        "prompt_1 = ChatPromptTemplate.from_template(\n",
        "    \"Could you please provide a brief description of the flight?\\n{flight_details}\"\n",
        "    )\n",
        "\n",
        "prompt_2 = ChatPromptTemplate.from_template(\n",
        "    \"Are the flight details accurate?\\n{flight_details}\"\n",
        ")\n",
        "\n",
        "prompt_3_yes = ChatPromptTemplate.from_template(\n",
        "    \"Great! What additional information would you like to know about the flight?\\n{flight_details}\"\n",
        "    )\n",
        "\n",
        "prompt_3_no = ChatPromptTemplate.from_template(\n",
        "    \"Can you provide the correct flight details or suggest an alternative?\\n{flight_details}\"\n",
        "    )\n",
        "\n",
        "chain_1 = LLMChain(\n",
        "    llm=llm,\n",
        "    prompt=prompt_1,\n",
        "    output_key=\"flight_summary\"\n",
        ")\n",
        "\n",
        "chain_2 = LLMChain(\n",
        "    llm=llm,\n",
        "    prompt=prompt_2,\n",
        "    output_key=\"confirmation\"\n",
        ")\n",
        "\n",
        "chain_3_yes = LLMChain(\n",
        "    llm=llm,\n",
        "    prompt=prompt_3_yes,\n",
        "    output_key=\"additional_info\"\n",
        ")\n",
        "\n",
        "chain_3_no = LLMChain(\n",
        "    llm=llm,\n",
        "    prompt=prompt_3_no,\n",
        "    output_key=\"alternative_suggestion\"\n",
        ")\n",
        "\n",
        "seq_chain = SequentialChain(\n",
        "    chains=[chain_1, chain_2, chain_3_yes, chain_3_no],\n",
        "    input_variables=[\"flight_details\"],\n",
        "    verbose=True,\n",
        ")\n",
        "\n",
        "seq_chain(flight_details)"
      ],
      "metadata": {
        "id": "Zz0Fsd_4rz_H"
      },
      "execution_count": null,
      "outputs": []
    },
    {
      "cell_type": "code",
      "source": [
        "# Gaming Console Details\n",
        "gaming_console_details = \"\"\"\n",
        "\n",
        "Product Name: NextGen Gaming Console\n",
        "\n",
        "Description: Immerse yourself in the world of gaming with the NextGen Gaming Console, designed for unparalleled performance and entertainment.\n",
        "\n",
        "Features:\n",
        "High-definition graphics for stunning visual experiences\n",
        "Powerful processor for smooth gameplay and fast loading times\n",
        "Large storage capacity to store all your favorite games\n",
        "Online multiplayer capability for gaming with friends\n",
        "Compatibility with virtual reality headsets for immersive gaming experiences\n",
        "Wireless controller for ease of use and convenience\n",
        "\"\"\"\n",
        "\n",
        "prompt_1 = ChatPromptTemplate.from_template(\n",
        "    \"Could you please provide a brief description of the gaming console?\\n{gaming_console_details}\"\n",
        "    )\n",
        "\n",
        "prompt_2 = ChatPromptTemplate.from_template(\n",
        "    \"Are the gaming console details accurate?\\n{gaming_console_details}\"\n",
        ")\n",
        "\n",
        "prompt_3_yes = ChatPromptTemplate.from_template(\n",
        "    \"Great! What additional information would you like to know about the gaming console?\\n{gaming_console_details}\"\n",
        "    )\n",
        "\n",
        "prompt_3_no = ChatPromptTemplate.from_template(\n",
        "    \"Can you provide the correct gaming console details or suggest an alternative?\\n{gaming_console_details}\"\n",
        "    )\n",
        "\n",
        "chain_1 = LLMChain(\n",
        "    llm=llm,\n",
        "    prompt=prompt_1,\n",
        "    output_key=\"console_summary\"\n",
        ")\n",
        "\n",
        "chain_2 = LLMChain(\n",
        "    llm=llm,\n",
        "    prompt=prompt_2,\n",
        "    output_key=\"confirmation\"\n",
        ")\n",
        "\n",
        "chain_3_yes = LLMChain(\n",
        "    llm=llm,\n",
        "    prompt=prompt_3_yes,\n",
        "    output_key=\"additional_info\"\n",
        ")\n",
        "\n",
        "chain_3_no = LLMChain(\n",
        "    llm=llm,\n",
        "    prompt=prompt_3_no,\n",
        "    output_key=\"alternative_suggestion\"\n",
        ")\n",
        "\n",
        "seq_chain = SequentialChain(\n",
        "    chains=[chain_1, chain_2, chain_3_yes, chain_3_no],\n",
        "    input_variables=[\"gaming_console_details\"],\n",
        "    verbose=True,\n",
        ")\n",
        "\n",
        "seq_chain(gaming_console_details)"
      ],
      "metadata": {
        "id": "67vWGRwdrxiK"
      },
      "execution_count": null,
      "outputs": []
    },
    {
      "cell_type": "code",
      "source": [],
      "metadata": {
        "id": "xK-XUSGl72Jy"
      },
      "execution_count": null,
      "outputs": []
    }
  ],
  "metadata": {
    "colab": {
      "provenance": []
    },
    "kernelspec": {
      "display_name": "Python 3",
      "name": "python3"
    },
    "language_info": {
      "name": "python"
    },
    "widgets": {
      "application/vnd.jupyter.widget-state+json": {
        "740d55fc59c5468aa22b9aa301e4351a": {
          "model_module": "@jupyter-widgets/controls",
          "model_name": "HBoxModel",
          "model_module_version": "1.5.0",
          "state": {
            "_dom_classes": [],
            "_model_module": "@jupyter-widgets/controls",
            "_model_module_version": "1.5.0",
            "_model_name": "HBoxModel",
            "_view_count": null,
            "_view_module": "@jupyter-widgets/controls",
            "_view_module_version": "1.5.0",
            "_view_name": "HBoxView",
            "box_style": "",
            "children": [
              "IPY_MODEL_e884e23e507445ebb451d5a1c0b543f1",
              "IPY_MODEL_bbbf5b25e5b743549546976f996ead4a",
              "IPY_MODEL_3dc524d205a34d858ec0025b493e1ba4"
            ],
            "layout": "IPY_MODEL_7e6d734dea16409c91743ed74f8f8d72"
          }
        },
        "e884e23e507445ebb451d5a1c0b543f1": {
          "model_module": "@jupyter-widgets/controls",
          "model_name": "HTMLModel",
          "model_module_version": "1.5.0",
          "state": {
            "_dom_classes": [],
            "_model_module": "@jupyter-widgets/controls",
            "_model_module_version": "1.5.0",
            "_model_name": "HTMLModel",
            "_view_count": null,
            "_view_module": "@jupyter-widgets/controls",
            "_view_module_version": "1.5.0",
            "_view_name": "HTMLView",
            "description": "",
            "description_tooltip": null,
            "layout": "IPY_MODEL_c68eb7ce03d14ae7b4e4c6129eefc1d8",
            "placeholder": "​",
            "style": "IPY_MODEL_722b8a6045b24bf8b9b9032aab7e40ae",
            "value": "tokenizer_config.json: 100%"
          }
        },
        "bbbf5b25e5b743549546976f996ead4a": {
          "model_module": "@jupyter-widgets/controls",
          "model_name": "FloatProgressModel",
          "model_module_version": "1.5.0",
          "state": {
            "_dom_classes": [],
            "_model_module": "@jupyter-widgets/controls",
            "_model_module_version": "1.5.0",
            "_model_name": "FloatProgressModel",
            "_view_count": null,
            "_view_module": "@jupyter-widgets/controls",
            "_view_module_version": "1.5.0",
            "_view_name": "ProgressView",
            "bar_style": "success",
            "description": "",
            "description_tooltip": null,
            "layout": "IPY_MODEL_9e2d265683bf45c9a5cf4e782e69d7e0",
            "max": 26,
            "min": 0,
            "orientation": "horizontal",
            "style": "IPY_MODEL_9ee0a148368e4e5e965431ce4348ba5e",
            "value": 26
          }
        },
        "3dc524d205a34d858ec0025b493e1ba4": {
          "model_module": "@jupyter-widgets/controls",
          "model_name": "HTMLModel",
          "model_module_version": "1.5.0",
          "state": {
            "_dom_classes": [],
            "_model_module": "@jupyter-widgets/controls",
            "_model_module_version": "1.5.0",
            "_model_name": "HTMLModel",
            "_view_count": null,
            "_view_module": "@jupyter-widgets/controls",
            "_view_module_version": "1.5.0",
            "_view_name": "HTMLView",
            "description": "",
            "description_tooltip": null,
            "layout": "IPY_MODEL_d408ad9fc3f148499c9cea02efe40e68",
            "placeholder": "​",
            "style": "IPY_MODEL_c2a0d8362bbc460680b93bdc5abde177",
            "value": " 26.0/26.0 [00:00&lt;00:00, 874B/s]"
          }
        },
        "7e6d734dea16409c91743ed74f8f8d72": {
          "model_module": "@jupyter-widgets/base",
          "model_name": "LayoutModel",
          "model_module_version": "1.2.0",
          "state": {
            "_model_module": "@jupyter-widgets/base",
            "_model_module_version": "1.2.0",
            "_model_name": "LayoutModel",
            "_view_count": null,
            "_view_module": "@jupyter-widgets/base",
            "_view_module_version": "1.2.0",
            "_view_name": "LayoutView",
            "align_content": null,
            "align_items": null,
            "align_self": null,
            "border": null,
            "bottom": null,
            "display": null,
            "flex": null,
            "flex_flow": null,
            "grid_area": null,
            "grid_auto_columns": null,
            "grid_auto_flow": null,
            "grid_auto_rows": null,
            "grid_column": null,
            "grid_gap": null,
            "grid_row": null,
            "grid_template_areas": null,
            "grid_template_columns": null,
            "grid_template_rows": null,
            "height": null,
            "justify_content": null,
            "justify_items": null,
            "left": null,
            "margin": null,
            "max_height": null,
            "max_width": null,
            "min_height": null,
            "min_width": null,
            "object_fit": null,
            "object_position": null,
            "order": null,
            "overflow": null,
            "overflow_x": null,
            "overflow_y": null,
            "padding": null,
            "right": null,
            "top": null,
            "visibility": null,
            "width": null
          }
        },
        "c68eb7ce03d14ae7b4e4c6129eefc1d8": {
          "model_module": "@jupyter-widgets/base",
          "model_name": "LayoutModel",
          "model_module_version": "1.2.0",
          "state": {
            "_model_module": "@jupyter-widgets/base",
            "_model_module_version": "1.2.0",
            "_model_name": "LayoutModel",
            "_view_count": null,
            "_view_module": "@jupyter-widgets/base",
            "_view_module_version": "1.2.0",
            "_view_name": "LayoutView",
            "align_content": null,
            "align_items": null,
            "align_self": null,
            "border": null,
            "bottom": null,
            "display": null,
            "flex": null,
            "flex_flow": null,
            "grid_area": null,
            "grid_auto_columns": null,
            "grid_auto_flow": null,
            "grid_auto_rows": null,
            "grid_column": null,
            "grid_gap": null,
            "grid_row": null,
            "grid_template_areas": null,
            "grid_template_columns": null,
            "grid_template_rows": null,
            "height": null,
            "justify_content": null,
            "justify_items": null,
            "left": null,
            "margin": null,
            "max_height": null,
            "max_width": null,
            "min_height": null,
            "min_width": null,
            "object_fit": null,
            "object_position": null,
            "order": null,
            "overflow": null,
            "overflow_x": null,
            "overflow_y": null,
            "padding": null,
            "right": null,
            "top": null,
            "visibility": null,
            "width": null
          }
        },
        "722b8a6045b24bf8b9b9032aab7e40ae": {
          "model_module": "@jupyter-widgets/controls",
          "model_name": "DescriptionStyleModel",
          "model_module_version": "1.5.0",
          "state": {
            "_model_module": "@jupyter-widgets/controls",
            "_model_module_version": "1.5.0",
            "_model_name": "DescriptionStyleModel",
            "_view_count": null,
            "_view_module": "@jupyter-widgets/base",
            "_view_module_version": "1.2.0",
            "_view_name": "StyleView",
            "description_width": ""
          }
        },
        "9e2d265683bf45c9a5cf4e782e69d7e0": {
          "model_module": "@jupyter-widgets/base",
          "model_name": "LayoutModel",
          "model_module_version": "1.2.0",
          "state": {
            "_model_module": "@jupyter-widgets/base",
            "_model_module_version": "1.2.0",
            "_model_name": "LayoutModel",
            "_view_count": null,
            "_view_module": "@jupyter-widgets/base",
            "_view_module_version": "1.2.0",
            "_view_name": "LayoutView",
            "align_content": null,
            "align_items": null,
            "align_self": null,
            "border": null,
            "bottom": null,
            "display": null,
            "flex": null,
            "flex_flow": null,
            "grid_area": null,
            "grid_auto_columns": null,
            "grid_auto_flow": null,
            "grid_auto_rows": null,
            "grid_column": null,
            "grid_gap": null,
            "grid_row": null,
            "grid_template_areas": null,
            "grid_template_columns": null,
            "grid_template_rows": null,
            "height": null,
            "justify_content": null,
            "justify_items": null,
            "left": null,
            "margin": null,
            "max_height": null,
            "max_width": null,
            "min_height": null,
            "min_width": null,
            "object_fit": null,
            "object_position": null,
            "order": null,
            "overflow": null,
            "overflow_x": null,
            "overflow_y": null,
            "padding": null,
            "right": null,
            "top": null,
            "visibility": null,
            "width": null
          }
        },
        "9ee0a148368e4e5e965431ce4348ba5e": {
          "model_module": "@jupyter-widgets/controls",
          "model_name": "ProgressStyleModel",
          "model_module_version": "1.5.0",
          "state": {
            "_model_module": "@jupyter-widgets/controls",
            "_model_module_version": "1.5.0",
            "_model_name": "ProgressStyleModel",
            "_view_count": null,
            "_view_module": "@jupyter-widgets/base",
            "_view_module_version": "1.2.0",
            "_view_name": "StyleView",
            "bar_color": null,
            "description_width": ""
          }
        },
        "d408ad9fc3f148499c9cea02efe40e68": {
          "model_module": "@jupyter-widgets/base",
          "model_name": "LayoutModel",
          "model_module_version": "1.2.0",
          "state": {
            "_model_module": "@jupyter-widgets/base",
            "_model_module_version": "1.2.0",
            "_model_name": "LayoutModel",
            "_view_count": null,
            "_view_module": "@jupyter-widgets/base",
            "_view_module_version": "1.2.0",
            "_view_name": "LayoutView",
            "align_content": null,
            "align_items": null,
            "align_self": null,
            "border": null,
            "bottom": null,
            "display": null,
            "flex": null,
            "flex_flow": null,
            "grid_area": null,
            "grid_auto_columns": null,
            "grid_auto_flow": null,
            "grid_auto_rows": null,
            "grid_column": null,
            "grid_gap": null,
            "grid_row": null,
            "grid_template_areas": null,
            "grid_template_columns": null,
            "grid_template_rows": null,
            "height": null,
            "justify_content": null,
            "justify_items": null,
            "left": null,
            "margin": null,
            "max_height": null,
            "max_width": null,
            "min_height": null,
            "min_width": null,
            "object_fit": null,
            "object_position": null,
            "order": null,
            "overflow": null,
            "overflow_x": null,
            "overflow_y": null,
            "padding": null,
            "right": null,
            "top": null,
            "visibility": null,
            "width": null
          }
        },
        "c2a0d8362bbc460680b93bdc5abde177": {
          "model_module": "@jupyter-widgets/controls",
          "model_name": "DescriptionStyleModel",
          "model_module_version": "1.5.0",
          "state": {
            "_model_module": "@jupyter-widgets/controls",
            "_model_module_version": "1.5.0",
            "_model_name": "DescriptionStyleModel",
            "_view_count": null,
            "_view_module": "@jupyter-widgets/base",
            "_view_module_version": "1.2.0",
            "_view_name": "StyleView",
            "description_width": ""
          }
        },
        "e60df0d03a46495b8a2b929a10d1672a": {
          "model_module": "@jupyter-widgets/controls",
          "model_name": "HBoxModel",
          "model_module_version": "1.5.0",
          "state": {
            "_dom_classes": [],
            "_model_module": "@jupyter-widgets/controls",
            "_model_module_version": "1.5.0",
            "_model_name": "HBoxModel",
            "_view_count": null,
            "_view_module": "@jupyter-widgets/controls",
            "_view_module_version": "1.5.0",
            "_view_name": "HBoxView",
            "box_style": "",
            "children": [
              "IPY_MODEL_1b6f12d0360d4a63a506da76ff356cff",
              "IPY_MODEL_88e9ab1028d546d79b1b765ea602d3e2",
              "IPY_MODEL_aecc819210064c7eb9d1ba056ec7e900"
            ],
            "layout": "IPY_MODEL_a62b4703e1d0453eb0ba9f2d873fc038"
          }
        },
        "1b6f12d0360d4a63a506da76ff356cff": {
          "model_module": "@jupyter-widgets/controls",
          "model_name": "HTMLModel",
          "model_module_version": "1.5.0",
          "state": {
            "_dom_classes": [],
            "_model_module": "@jupyter-widgets/controls",
            "_model_module_version": "1.5.0",
            "_model_name": "HTMLModel",
            "_view_count": null,
            "_view_module": "@jupyter-widgets/controls",
            "_view_module_version": "1.5.0",
            "_view_name": "HTMLView",
            "description": "",
            "description_tooltip": null,
            "layout": "IPY_MODEL_ba6f542123014313867fc771829d4055",
            "placeholder": "​",
            "style": "IPY_MODEL_b1faa3f173f14a2abe2bdb5c432bf25d",
            "value": "config.json: 100%"
          }
        },
        "88e9ab1028d546d79b1b765ea602d3e2": {
          "model_module": "@jupyter-widgets/controls",
          "model_name": "FloatProgressModel",
          "model_module_version": "1.5.0",
          "state": {
            "_dom_classes": [],
            "_model_module": "@jupyter-widgets/controls",
            "_model_module_version": "1.5.0",
            "_model_name": "FloatProgressModel",
            "_view_count": null,
            "_view_module": "@jupyter-widgets/controls",
            "_view_module_version": "1.5.0",
            "_view_name": "ProgressView",
            "bar_style": "success",
            "description": "",
            "description_tooltip": null,
            "layout": "IPY_MODEL_59d72275a7a940a39f94f2b962d64a5f",
            "max": 718,
            "min": 0,
            "orientation": "horizontal",
            "style": "IPY_MODEL_5f9a9ae19cbb470ea69ce090b611baf1",
            "value": 718
          }
        },
        "aecc819210064c7eb9d1ba056ec7e900": {
          "model_module": "@jupyter-widgets/controls",
          "model_name": "HTMLModel",
          "model_module_version": "1.5.0",
          "state": {
            "_dom_classes": [],
            "_model_module": "@jupyter-widgets/controls",
            "_model_module_version": "1.5.0",
            "_model_name": "HTMLModel",
            "_view_count": null,
            "_view_module": "@jupyter-widgets/controls",
            "_view_module_version": "1.5.0",
            "_view_name": "HTMLView",
            "description": "",
            "description_tooltip": null,
            "layout": "IPY_MODEL_16e848aad34046979c6d9c805e641266",
            "placeholder": "​",
            "style": "IPY_MODEL_3fc33ded61874b4182b82e7bf26fc919",
            "value": " 718/718 [00:00&lt;00:00, 25.4kB/s]"
          }
        },
        "a62b4703e1d0453eb0ba9f2d873fc038": {
          "model_module": "@jupyter-widgets/base",
          "model_name": "LayoutModel",
          "model_module_version": "1.2.0",
          "state": {
            "_model_module": "@jupyter-widgets/base",
            "_model_module_version": "1.2.0",
            "_model_name": "LayoutModel",
            "_view_count": null,
            "_view_module": "@jupyter-widgets/base",
            "_view_module_version": "1.2.0",
            "_view_name": "LayoutView",
            "align_content": null,
            "align_items": null,
            "align_self": null,
            "border": null,
            "bottom": null,
            "display": null,
            "flex": null,
            "flex_flow": null,
            "grid_area": null,
            "grid_auto_columns": null,
            "grid_auto_flow": null,
            "grid_auto_rows": null,
            "grid_column": null,
            "grid_gap": null,
            "grid_row": null,
            "grid_template_areas": null,
            "grid_template_columns": null,
            "grid_template_rows": null,
            "height": null,
            "justify_content": null,
            "justify_items": null,
            "left": null,
            "margin": null,
            "max_height": null,
            "max_width": null,
            "min_height": null,
            "min_width": null,
            "object_fit": null,
            "object_position": null,
            "order": null,
            "overflow": null,
            "overflow_x": null,
            "overflow_y": null,
            "padding": null,
            "right": null,
            "top": null,
            "visibility": null,
            "width": null
          }
        },
        "ba6f542123014313867fc771829d4055": {
          "model_module": "@jupyter-widgets/base",
          "model_name": "LayoutModel",
          "model_module_version": "1.2.0",
          "state": {
            "_model_module": "@jupyter-widgets/base",
            "_model_module_version": "1.2.0",
            "_model_name": "LayoutModel",
            "_view_count": null,
            "_view_module": "@jupyter-widgets/base",
            "_view_module_version": "1.2.0",
            "_view_name": "LayoutView",
            "align_content": null,
            "align_items": null,
            "align_self": null,
            "border": null,
            "bottom": null,
            "display": null,
            "flex": null,
            "flex_flow": null,
            "grid_area": null,
            "grid_auto_columns": null,
            "grid_auto_flow": null,
            "grid_auto_rows": null,
            "grid_column": null,
            "grid_gap": null,
            "grid_row": null,
            "grid_template_areas": null,
            "grid_template_columns": null,
            "grid_template_rows": null,
            "height": null,
            "justify_content": null,
            "justify_items": null,
            "left": null,
            "margin": null,
            "max_height": null,
            "max_width": null,
            "min_height": null,
            "min_width": null,
            "object_fit": null,
            "object_position": null,
            "order": null,
            "overflow": null,
            "overflow_x": null,
            "overflow_y": null,
            "padding": null,
            "right": null,
            "top": null,
            "visibility": null,
            "width": null
          }
        },
        "b1faa3f173f14a2abe2bdb5c432bf25d": {
          "model_module": "@jupyter-widgets/controls",
          "model_name": "DescriptionStyleModel",
          "model_module_version": "1.5.0",
          "state": {
            "_model_module": "@jupyter-widgets/controls",
            "_model_module_version": "1.5.0",
            "_model_name": "DescriptionStyleModel",
            "_view_count": null,
            "_view_module": "@jupyter-widgets/base",
            "_view_module_version": "1.2.0",
            "_view_name": "StyleView",
            "description_width": ""
          }
        },
        "59d72275a7a940a39f94f2b962d64a5f": {
          "model_module": "@jupyter-widgets/base",
          "model_name": "LayoutModel",
          "model_module_version": "1.2.0",
          "state": {
            "_model_module": "@jupyter-widgets/base",
            "_model_module_version": "1.2.0",
            "_model_name": "LayoutModel",
            "_view_count": null,
            "_view_module": "@jupyter-widgets/base",
            "_view_module_version": "1.2.0",
            "_view_name": "LayoutView",
            "align_content": null,
            "align_items": null,
            "align_self": null,
            "border": null,
            "bottom": null,
            "display": null,
            "flex": null,
            "flex_flow": null,
            "grid_area": null,
            "grid_auto_columns": null,
            "grid_auto_flow": null,
            "grid_auto_rows": null,
            "grid_column": null,
            "grid_gap": null,
            "grid_row": null,
            "grid_template_areas": null,
            "grid_template_columns": null,
            "grid_template_rows": null,
            "height": null,
            "justify_content": null,
            "justify_items": null,
            "left": null,
            "margin": null,
            "max_height": null,
            "max_width": null,
            "min_height": null,
            "min_width": null,
            "object_fit": null,
            "object_position": null,
            "order": null,
            "overflow": null,
            "overflow_x": null,
            "overflow_y": null,
            "padding": null,
            "right": null,
            "top": null,
            "visibility": null,
            "width": null
          }
        },
        "5f9a9ae19cbb470ea69ce090b611baf1": {
          "model_module": "@jupyter-widgets/controls",
          "model_name": "ProgressStyleModel",
          "model_module_version": "1.5.0",
          "state": {
            "_model_module": "@jupyter-widgets/controls",
            "_model_module_version": "1.5.0",
            "_model_name": "ProgressStyleModel",
            "_view_count": null,
            "_view_module": "@jupyter-widgets/base",
            "_view_module_version": "1.2.0",
            "_view_name": "StyleView",
            "bar_color": null,
            "description_width": ""
          }
        },
        "16e848aad34046979c6d9c805e641266": {
          "model_module": "@jupyter-widgets/base",
          "model_name": "LayoutModel",
          "model_module_version": "1.2.0",
          "state": {
            "_model_module": "@jupyter-widgets/base",
            "_model_module_version": "1.2.0",
            "_model_name": "LayoutModel",
            "_view_count": null,
            "_view_module": "@jupyter-widgets/base",
            "_view_module_version": "1.2.0",
            "_view_name": "LayoutView",
            "align_content": null,
            "align_items": null,
            "align_self": null,
            "border": null,
            "bottom": null,
            "display": null,
            "flex": null,
            "flex_flow": null,
            "grid_area": null,
            "grid_auto_columns": null,
            "grid_auto_flow": null,
            "grid_auto_rows": null,
            "grid_column": null,
            "grid_gap": null,
            "grid_row": null,
            "grid_template_areas": null,
            "grid_template_columns": null,
            "grid_template_rows": null,
            "height": null,
            "justify_content": null,
            "justify_items": null,
            "left": null,
            "margin": null,
            "max_height": null,
            "max_width": null,
            "min_height": null,
            "min_width": null,
            "object_fit": null,
            "object_position": null,
            "order": null,
            "overflow": null,
            "overflow_x": null,
            "overflow_y": null,
            "padding": null,
            "right": null,
            "top": null,
            "visibility": null,
            "width": null
          }
        },
        "3fc33ded61874b4182b82e7bf26fc919": {
          "model_module": "@jupyter-widgets/controls",
          "model_name": "DescriptionStyleModel",
          "model_module_version": "1.5.0",
          "state": {
            "_model_module": "@jupyter-widgets/controls",
            "_model_module_version": "1.5.0",
            "_model_name": "DescriptionStyleModel",
            "_view_count": null,
            "_view_module": "@jupyter-widgets/base",
            "_view_module_version": "1.2.0",
            "_view_name": "StyleView",
            "description_width": ""
          }
        },
        "a860aec7cdff44a4ba94598ebc418607": {
          "model_module": "@jupyter-widgets/controls",
          "model_name": "HBoxModel",
          "model_module_version": "1.5.0",
          "state": {
            "_dom_classes": [],
            "_model_module": "@jupyter-widgets/controls",
            "_model_module_version": "1.5.0",
            "_model_name": "HBoxModel",
            "_view_count": null,
            "_view_module": "@jupyter-widgets/controls",
            "_view_module_version": "1.5.0",
            "_view_name": "HBoxView",
            "box_style": "",
            "children": [
              "IPY_MODEL_a323cb5d60f44e47a50173a150bf563b",
              "IPY_MODEL_0384824dc9b142acb54b111fb6c01322",
              "IPY_MODEL_ab8cef2fb4a74403b256a8d2bfa2fff2"
            ],
            "layout": "IPY_MODEL_1c55e02fe5c24948a08a65bafacd5a00"
          }
        },
        "a323cb5d60f44e47a50173a150bf563b": {
          "model_module": "@jupyter-widgets/controls",
          "model_name": "HTMLModel",
          "model_module_version": "1.5.0",
          "state": {
            "_dom_classes": [],
            "_model_module": "@jupyter-widgets/controls",
            "_model_module_version": "1.5.0",
            "_model_name": "HTMLModel",
            "_view_count": null,
            "_view_module": "@jupyter-widgets/controls",
            "_view_module_version": "1.5.0",
            "_view_name": "HTMLView",
            "description": "",
            "description_tooltip": null,
            "layout": "IPY_MODEL_c7b2352447a7448e84f9b978046444b3",
            "placeholder": "​",
            "style": "IPY_MODEL_737a2a2bf3bb4b849c7db9eb9f6f19d7",
            "value": "vocab.json: 100%"
          }
        },
        "0384824dc9b142acb54b111fb6c01322": {
          "model_module": "@jupyter-widgets/controls",
          "model_name": "FloatProgressModel",
          "model_module_version": "1.5.0",
          "state": {
            "_dom_classes": [],
            "_model_module": "@jupyter-widgets/controls",
            "_model_module_version": "1.5.0",
            "_model_name": "FloatProgressModel",
            "_view_count": null,
            "_view_module": "@jupyter-widgets/controls",
            "_view_module_version": "1.5.0",
            "_view_name": "ProgressView",
            "bar_style": "success",
            "description": "",
            "description_tooltip": null,
            "layout": "IPY_MODEL_0af5e285a5ee44a8824ec6619f00701b",
            "max": 1042301,
            "min": 0,
            "orientation": "horizontal",
            "style": "IPY_MODEL_c63dbb07f0da4470a9351b31f20e901f",
            "value": 1042301
          }
        },
        "ab8cef2fb4a74403b256a8d2bfa2fff2": {
          "model_module": "@jupyter-widgets/controls",
          "model_name": "HTMLModel",
          "model_module_version": "1.5.0",
          "state": {
            "_dom_classes": [],
            "_model_module": "@jupyter-widgets/controls",
            "_model_module_version": "1.5.0",
            "_model_name": "HTMLModel",
            "_view_count": null,
            "_view_module": "@jupyter-widgets/controls",
            "_view_module_version": "1.5.0",
            "_view_name": "HTMLView",
            "description": "",
            "description_tooltip": null,
            "layout": "IPY_MODEL_e45770bc07d74bc390225701141510b8",
            "placeholder": "​",
            "style": "IPY_MODEL_44b6a404e4de4b849907d49c81446164",
            "value": " 1.04M/1.04M [00:00&lt;00:00, 11.3MB/s]"
          }
        },
        "1c55e02fe5c24948a08a65bafacd5a00": {
          "model_module": "@jupyter-widgets/base",
          "model_name": "LayoutModel",
          "model_module_version": "1.2.0",
          "state": {
            "_model_module": "@jupyter-widgets/base",
            "_model_module_version": "1.2.0",
            "_model_name": "LayoutModel",
            "_view_count": null,
            "_view_module": "@jupyter-widgets/base",
            "_view_module_version": "1.2.0",
            "_view_name": "LayoutView",
            "align_content": null,
            "align_items": null,
            "align_self": null,
            "border": null,
            "bottom": null,
            "display": null,
            "flex": null,
            "flex_flow": null,
            "grid_area": null,
            "grid_auto_columns": null,
            "grid_auto_flow": null,
            "grid_auto_rows": null,
            "grid_column": null,
            "grid_gap": null,
            "grid_row": null,
            "grid_template_areas": null,
            "grid_template_columns": null,
            "grid_template_rows": null,
            "height": null,
            "justify_content": null,
            "justify_items": null,
            "left": null,
            "margin": null,
            "max_height": null,
            "max_width": null,
            "min_height": null,
            "min_width": null,
            "object_fit": null,
            "object_position": null,
            "order": null,
            "overflow": null,
            "overflow_x": null,
            "overflow_y": null,
            "padding": null,
            "right": null,
            "top": null,
            "visibility": null,
            "width": null
          }
        },
        "c7b2352447a7448e84f9b978046444b3": {
          "model_module": "@jupyter-widgets/base",
          "model_name": "LayoutModel",
          "model_module_version": "1.2.0",
          "state": {
            "_model_module": "@jupyter-widgets/base",
            "_model_module_version": "1.2.0",
            "_model_name": "LayoutModel",
            "_view_count": null,
            "_view_module": "@jupyter-widgets/base",
            "_view_module_version": "1.2.0",
            "_view_name": "LayoutView",
            "align_content": null,
            "align_items": null,
            "align_self": null,
            "border": null,
            "bottom": null,
            "display": null,
            "flex": null,
            "flex_flow": null,
            "grid_area": null,
            "grid_auto_columns": null,
            "grid_auto_flow": null,
            "grid_auto_rows": null,
            "grid_column": null,
            "grid_gap": null,
            "grid_row": null,
            "grid_template_areas": null,
            "grid_template_columns": null,
            "grid_template_rows": null,
            "height": null,
            "justify_content": null,
            "justify_items": null,
            "left": null,
            "margin": null,
            "max_height": null,
            "max_width": null,
            "min_height": null,
            "min_width": null,
            "object_fit": null,
            "object_position": null,
            "order": null,
            "overflow": null,
            "overflow_x": null,
            "overflow_y": null,
            "padding": null,
            "right": null,
            "top": null,
            "visibility": null,
            "width": null
          }
        },
        "737a2a2bf3bb4b849c7db9eb9f6f19d7": {
          "model_module": "@jupyter-widgets/controls",
          "model_name": "DescriptionStyleModel",
          "model_module_version": "1.5.0",
          "state": {
            "_model_module": "@jupyter-widgets/controls",
            "_model_module_version": "1.5.0",
            "_model_name": "DescriptionStyleModel",
            "_view_count": null,
            "_view_module": "@jupyter-widgets/base",
            "_view_module_version": "1.2.0",
            "_view_name": "StyleView",
            "description_width": ""
          }
        },
        "0af5e285a5ee44a8824ec6619f00701b": {
          "model_module": "@jupyter-widgets/base",
          "model_name": "LayoutModel",
          "model_module_version": "1.2.0",
          "state": {
            "_model_module": "@jupyter-widgets/base",
            "_model_module_version": "1.2.0",
            "_model_name": "LayoutModel",
            "_view_count": null,
            "_view_module": "@jupyter-widgets/base",
            "_view_module_version": "1.2.0",
            "_view_name": "LayoutView",
            "align_content": null,
            "align_items": null,
            "align_self": null,
            "border": null,
            "bottom": null,
            "display": null,
            "flex": null,
            "flex_flow": null,
            "grid_area": null,
            "grid_auto_columns": null,
            "grid_auto_flow": null,
            "grid_auto_rows": null,
            "grid_column": null,
            "grid_gap": null,
            "grid_row": null,
            "grid_template_areas": null,
            "grid_template_columns": null,
            "grid_template_rows": null,
            "height": null,
            "justify_content": null,
            "justify_items": null,
            "left": null,
            "margin": null,
            "max_height": null,
            "max_width": null,
            "min_height": null,
            "min_width": null,
            "object_fit": null,
            "object_position": null,
            "order": null,
            "overflow": null,
            "overflow_x": null,
            "overflow_y": null,
            "padding": null,
            "right": null,
            "top": null,
            "visibility": null,
            "width": null
          }
        },
        "c63dbb07f0da4470a9351b31f20e901f": {
          "model_module": "@jupyter-widgets/controls",
          "model_name": "ProgressStyleModel",
          "model_module_version": "1.5.0",
          "state": {
            "_model_module": "@jupyter-widgets/controls",
            "_model_module_version": "1.5.0",
            "_model_name": "ProgressStyleModel",
            "_view_count": null,
            "_view_module": "@jupyter-widgets/base",
            "_view_module_version": "1.2.0",
            "_view_name": "StyleView",
            "bar_color": null,
            "description_width": ""
          }
        },
        "e45770bc07d74bc390225701141510b8": {
          "model_module": "@jupyter-widgets/base",
          "model_name": "LayoutModel",
          "model_module_version": "1.2.0",
          "state": {
            "_model_module": "@jupyter-widgets/base",
            "_model_module_version": "1.2.0",
            "_model_name": "LayoutModel",
            "_view_count": null,
            "_view_module": "@jupyter-widgets/base",
            "_view_module_version": "1.2.0",
            "_view_name": "LayoutView",
            "align_content": null,
            "align_items": null,
            "align_self": null,
            "border": null,
            "bottom": null,
            "display": null,
            "flex": null,
            "flex_flow": null,
            "grid_area": null,
            "grid_auto_columns": null,
            "grid_auto_flow": null,
            "grid_auto_rows": null,
            "grid_column": null,
            "grid_gap": null,
            "grid_row": null,
            "grid_template_areas": null,
            "grid_template_columns": null,
            "grid_template_rows": null,
            "height": null,
            "justify_content": null,
            "justify_items": null,
            "left": null,
            "margin": null,
            "max_height": null,
            "max_width": null,
            "min_height": null,
            "min_width": null,
            "object_fit": null,
            "object_position": null,
            "order": null,
            "overflow": null,
            "overflow_x": null,
            "overflow_y": null,
            "padding": null,
            "right": null,
            "top": null,
            "visibility": null,
            "width": null
          }
        },
        "44b6a404e4de4b849907d49c81446164": {
          "model_module": "@jupyter-widgets/controls",
          "model_name": "DescriptionStyleModel",
          "model_module_version": "1.5.0",
          "state": {
            "_model_module": "@jupyter-widgets/controls",
            "_model_module_version": "1.5.0",
            "_model_name": "DescriptionStyleModel",
            "_view_count": null,
            "_view_module": "@jupyter-widgets/base",
            "_view_module_version": "1.2.0",
            "_view_name": "StyleView",
            "description_width": ""
          }
        },
        "9eec3a308d0147c0b55ff88fd555aafa": {
          "model_module": "@jupyter-widgets/controls",
          "model_name": "HBoxModel",
          "model_module_version": "1.5.0",
          "state": {
            "_dom_classes": [],
            "_model_module": "@jupyter-widgets/controls",
            "_model_module_version": "1.5.0",
            "_model_name": "HBoxModel",
            "_view_count": null,
            "_view_module": "@jupyter-widgets/controls",
            "_view_module_version": "1.5.0",
            "_view_name": "HBoxView",
            "box_style": "",
            "children": [
              "IPY_MODEL_c03ebe5c1aa04f9389c56fa6f147c0d4",
              "IPY_MODEL_32e0c2a9ea014aa38f4dbf3e4d69fc1e",
              "IPY_MODEL_594452849dc644e78802824d82489686"
            ],
            "layout": "IPY_MODEL_e50fe86dd2df4e07aef7bf42788c3c92"
          }
        },
        "c03ebe5c1aa04f9389c56fa6f147c0d4": {
          "model_module": "@jupyter-widgets/controls",
          "model_name": "HTMLModel",
          "model_module_version": "1.5.0",
          "state": {
            "_dom_classes": [],
            "_model_module": "@jupyter-widgets/controls",
            "_model_module_version": "1.5.0",
            "_model_name": "HTMLModel",
            "_view_count": null,
            "_view_module": "@jupyter-widgets/controls",
            "_view_module_version": "1.5.0",
            "_view_name": "HTMLView",
            "description": "",
            "description_tooltip": null,
            "layout": "IPY_MODEL_5b525d31f8204caebe41bbae85415658",
            "placeholder": "​",
            "style": "IPY_MODEL_732f83e2376b46c49f8599192fedc17c",
            "value": "merges.txt: 100%"
          }
        },
        "32e0c2a9ea014aa38f4dbf3e4d69fc1e": {
          "model_module": "@jupyter-widgets/controls",
          "model_name": "FloatProgressModel",
          "model_module_version": "1.5.0",
          "state": {
            "_dom_classes": [],
            "_model_module": "@jupyter-widgets/controls",
            "_model_module_version": "1.5.0",
            "_model_name": "FloatProgressModel",
            "_view_count": null,
            "_view_module": "@jupyter-widgets/controls",
            "_view_module_version": "1.5.0",
            "_view_name": "ProgressView",
            "bar_style": "success",
            "description": "",
            "description_tooltip": null,
            "layout": "IPY_MODEL_b20bfc06c6604e278486a7023765fd58",
            "max": 456318,
            "min": 0,
            "orientation": "horizontal",
            "style": "IPY_MODEL_661779bbc1b2478a86a431c766914eb0",
            "value": 456318
          }
        },
        "594452849dc644e78802824d82489686": {
          "model_module": "@jupyter-widgets/controls",
          "model_name": "HTMLModel",
          "model_module_version": "1.5.0",
          "state": {
            "_dom_classes": [],
            "_model_module": "@jupyter-widgets/controls",
            "_model_module_version": "1.5.0",
            "_model_name": "HTMLModel",
            "_view_count": null,
            "_view_module": "@jupyter-widgets/controls",
            "_view_module_version": "1.5.0",
            "_view_name": "HTMLView",
            "description": "",
            "description_tooltip": null,
            "layout": "IPY_MODEL_672f4fdf48a946549f8e31f4174d0223",
            "placeholder": "​",
            "style": "IPY_MODEL_ceb44fd5b71841c7bfd03bb948350bef",
            "value": " 456k/456k [00:00&lt;00:00, 17.7MB/s]"
          }
        },
        "e50fe86dd2df4e07aef7bf42788c3c92": {
          "model_module": "@jupyter-widgets/base",
          "model_name": "LayoutModel",
          "model_module_version": "1.2.0",
          "state": {
            "_model_module": "@jupyter-widgets/base",
            "_model_module_version": "1.2.0",
            "_model_name": "LayoutModel",
            "_view_count": null,
            "_view_module": "@jupyter-widgets/base",
            "_view_module_version": "1.2.0",
            "_view_name": "LayoutView",
            "align_content": null,
            "align_items": null,
            "align_self": null,
            "border": null,
            "bottom": null,
            "display": null,
            "flex": null,
            "flex_flow": null,
            "grid_area": null,
            "grid_auto_columns": null,
            "grid_auto_flow": null,
            "grid_auto_rows": null,
            "grid_column": null,
            "grid_gap": null,
            "grid_row": null,
            "grid_template_areas": null,
            "grid_template_columns": null,
            "grid_template_rows": null,
            "height": null,
            "justify_content": null,
            "justify_items": null,
            "left": null,
            "margin": null,
            "max_height": null,
            "max_width": null,
            "min_height": null,
            "min_width": null,
            "object_fit": null,
            "object_position": null,
            "order": null,
            "overflow": null,
            "overflow_x": null,
            "overflow_y": null,
            "padding": null,
            "right": null,
            "top": null,
            "visibility": null,
            "width": null
          }
        },
        "5b525d31f8204caebe41bbae85415658": {
          "model_module": "@jupyter-widgets/base",
          "model_name": "LayoutModel",
          "model_module_version": "1.2.0",
          "state": {
            "_model_module": "@jupyter-widgets/base",
            "_model_module_version": "1.2.0",
            "_model_name": "LayoutModel",
            "_view_count": null,
            "_view_module": "@jupyter-widgets/base",
            "_view_module_version": "1.2.0",
            "_view_name": "LayoutView",
            "align_content": null,
            "align_items": null,
            "align_self": null,
            "border": null,
            "bottom": null,
            "display": null,
            "flex": null,
            "flex_flow": null,
            "grid_area": null,
            "grid_auto_columns": null,
            "grid_auto_flow": null,
            "grid_auto_rows": null,
            "grid_column": null,
            "grid_gap": null,
            "grid_row": null,
            "grid_template_areas": null,
            "grid_template_columns": null,
            "grid_template_rows": null,
            "height": null,
            "justify_content": null,
            "justify_items": null,
            "left": null,
            "margin": null,
            "max_height": null,
            "max_width": null,
            "min_height": null,
            "min_width": null,
            "object_fit": null,
            "object_position": null,
            "order": null,
            "overflow": null,
            "overflow_x": null,
            "overflow_y": null,
            "padding": null,
            "right": null,
            "top": null,
            "visibility": null,
            "width": null
          }
        },
        "732f83e2376b46c49f8599192fedc17c": {
          "model_module": "@jupyter-widgets/controls",
          "model_name": "DescriptionStyleModel",
          "model_module_version": "1.5.0",
          "state": {
            "_model_module": "@jupyter-widgets/controls",
            "_model_module_version": "1.5.0",
            "_model_name": "DescriptionStyleModel",
            "_view_count": null,
            "_view_module": "@jupyter-widgets/base",
            "_view_module_version": "1.2.0",
            "_view_name": "StyleView",
            "description_width": ""
          }
        },
        "b20bfc06c6604e278486a7023765fd58": {
          "model_module": "@jupyter-widgets/base",
          "model_name": "LayoutModel",
          "model_module_version": "1.2.0",
          "state": {
            "_model_module": "@jupyter-widgets/base",
            "_model_module_version": "1.2.0",
            "_model_name": "LayoutModel",
            "_view_count": null,
            "_view_module": "@jupyter-widgets/base",
            "_view_module_version": "1.2.0",
            "_view_name": "LayoutView",
            "align_content": null,
            "align_items": null,
            "align_self": null,
            "border": null,
            "bottom": null,
            "display": null,
            "flex": null,
            "flex_flow": null,
            "grid_area": null,
            "grid_auto_columns": null,
            "grid_auto_flow": null,
            "grid_auto_rows": null,
            "grid_column": null,
            "grid_gap": null,
            "grid_row": null,
            "grid_template_areas": null,
            "grid_template_columns": null,
            "grid_template_rows": null,
            "height": null,
            "justify_content": null,
            "justify_items": null,
            "left": null,
            "margin": null,
            "max_height": null,
            "max_width": null,
            "min_height": null,
            "min_width": null,
            "object_fit": null,
            "object_position": null,
            "order": null,
            "overflow": null,
            "overflow_x": null,
            "overflow_y": null,
            "padding": null,
            "right": null,
            "top": null,
            "visibility": null,
            "width": null
          }
        },
        "661779bbc1b2478a86a431c766914eb0": {
          "model_module": "@jupyter-widgets/controls",
          "model_name": "ProgressStyleModel",
          "model_module_version": "1.5.0",
          "state": {
            "_model_module": "@jupyter-widgets/controls",
            "_model_module_version": "1.5.0",
            "_model_name": "ProgressStyleModel",
            "_view_count": null,
            "_view_module": "@jupyter-widgets/base",
            "_view_module_version": "1.2.0",
            "_view_name": "StyleView",
            "bar_color": null,
            "description_width": ""
          }
        },
        "672f4fdf48a946549f8e31f4174d0223": {
          "model_module": "@jupyter-widgets/base",
          "model_name": "LayoutModel",
          "model_module_version": "1.2.0",
          "state": {
            "_model_module": "@jupyter-widgets/base",
            "_model_module_version": "1.2.0",
            "_model_name": "LayoutModel",
            "_view_count": null,
            "_view_module": "@jupyter-widgets/base",
            "_view_module_version": "1.2.0",
            "_view_name": "LayoutView",
            "align_content": null,
            "align_items": null,
            "align_self": null,
            "border": null,
            "bottom": null,
            "display": null,
            "flex": null,
            "flex_flow": null,
            "grid_area": null,
            "grid_auto_columns": null,
            "grid_auto_flow": null,
            "grid_auto_rows": null,
            "grid_column": null,
            "grid_gap": null,
            "grid_row": null,
            "grid_template_areas": null,
            "grid_template_columns": null,
            "grid_template_rows": null,
            "height": null,
            "justify_content": null,
            "justify_items": null,
            "left": null,
            "margin": null,
            "max_height": null,
            "max_width": null,
            "min_height": null,
            "min_width": null,
            "object_fit": null,
            "object_position": null,
            "order": null,
            "overflow": null,
            "overflow_x": null,
            "overflow_y": null,
            "padding": null,
            "right": null,
            "top": null,
            "visibility": null,
            "width": null
          }
        },
        "ceb44fd5b71841c7bfd03bb948350bef": {
          "model_module": "@jupyter-widgets/controls",
          "model_name": "DescriptionStyleModel",
          "model_module_version": "1.5.0",
          "state": {
            "_model_module": "@jupyter-widgets/controls",
            "_model_module_version": "1.5.0",
            "_model_name": "DescriptionStyleModel",
            "_view_count": null,
            "_view_module": "@jupyter-widgets/base",
            "_view_module_version": "1.2.0",
            "_view_name": "StyleView",
            "description_width": ""
          }
        },
        "ae928e859019443cbdf7a902e458e3b0": {
          "model_module": "@jupyter-widgets/controls",
          "model_name": "HBoxModel",
          "model_module_version": "1.5.0",
          "state": {
            "_dom_classes": [],
            "_model_module": "@jupyter-widgets/controls",
            "_model_module_version": "1.5.0",
            "_model_name": "HBoxModel",
            "_view_count": null,
            "_view_module": "@jupyter-widgets/controls",
            "_view_module_version": "1.5.0",
            "_view_name": "HBoxView",
            "box_style": "",
            "children": [
              "IPY_MODEL_ba736bb2c70042ccb7e9191487437ff6",
              "IPY_MODEL_890c2997223241d1bd495b9bbc949c09",
              "IPY_MODEL_4018e64432c941c6a985d3f845016ce0"
            ],
            "layout": "IPY_MODEL_471a286f5e5941c5a9b2fd14bc9effbe"
          }
        },
        "ba736bb2c70042ccb7e9191487437ff6": {
          "model_module": "@jupyter-widgets/controls",
          "model_name": "HTMLModel",
          "model_module_version": "1.5.0",
          "state": {
            "_dom_classes": [],
            "_model_module": "@jupyter-widgets/controls",
            "_model_module_version": "1.5.0",
            "_model_name": "HTMLModel",
            "_view_count": null,
            "_view_module": "@jupyter-widgets/controls",
            "_view_module_version": "1.5.0",
            "_view_name": "HTMLView",
            "description": "",
            "description_tooltip": null,
            "layout": "IPY_MODEL_744f6f6e0bb04f71951b2f5c017a743b",
            "placeholder": "​",
            "style": "IPY_MODEL_774eab59b62a41ebabc7af1a56711cd6",
            "value": "tokenizer.json: 100%"
          }
        },
        "890c2997223241d1bd495b9bbc949c09": {
          "model_module": "@jupyter-widgets/controls",
          "model_name": "FloatProgressModel",
          "model_module_version": "1.5.0",
          "state": {
            "_dom_classes": [],
            "_model_module": "@jupyter-widgets/controls",
            "_model_module_version": "1.5.0",
            "_model_name": "FloatProgressModel",
            "_view_count": null,
            "_view_module": "@jupyter-widgets/controls",
            "_view_module_version": "1.5.0",
            "_view_name": "ProgressView",
            "bar_style": "success",
            "description": "",
            "description_tooltip": null,
            "layout": "IPY_MODEL_adf2192fb7ad421ea5f9b8bd84882daf",
            "max": 1355256,
            "min": 0,
            "orientation": "horizontal",
            "style": "IPY_MODEL_a8d20e08bb5645718c1d4367f6edb920",
            "value": 1355256
          }
        },
        "4018e64432c941c6a985d3f845016ce0": {
          "model_module": "@jupyter-widgets/controls",
          "model_name": "HTMLModel",
          "model_module_version": "1.5.0",
          "state": {
            "_dom_classes": [],
            "_model_module": "@jupyter-widgets/controls",
            "_model_module_version": "1.5.0",
            "_model_name": "HTMLModel",
            "_view_count": null,
            "_view_module": "@jupyter-widgets/controls",
            "_view_module_version": "1.5.0",
            "_view_name": "HTMLView",
            "description": "",
            "description_tooltip": null,
            "layout": "IPY_MODEL_6409b6bddbf6427db34bc4540518a37e",
            "placeholder": "​",
            "style": "IPY_MODEL_3e1bc5ddba0b414da49163edb3b8c354",
            "value": " 1.36M/1.36M [00:00&lt;00:00, 20.0MB/s]"
          }
        },
        "471a286f5e5941c5a9b2fd14bc9effbe": {
          "model_module": "@jupyter-widgets/base",
          "model_name": "LayoutModel",
          "model_module_version": "1.2.0",
          "state": {
            "_model_module": "@jupyter-widgets/base",
            "_model_module_version": "1.2.0",
            "_model_name": "LayoutModel",
            "_view_count": null,
            "_view_module": "@jupyter-widgets/base",
            "_view_module_version": "1.2.0",
            "_view_name": "LayoutView",
            "align_content": null,
            "align_items": null,
            "align_self": null,
            "border": null,
            "bottom": null,
            "display": null,
            "flex": null,
            "flex_flow": null,
            "grid_area": null,
            "grid_auto_columns": null,
            "grid_auto_flow": null,
            "grid_auto_rows": null,
            "grid_column": null,
            "grid_gap": null,
            "grid_row": null,
            "grid_template_areas": null,
            "grid_template_columns": null,
            "grid_template_rows": null,
            "height": null,
            "justify_content": null,
            "justify_items": null,
            "left": null,
            "margin": null,
            "max_height": null,
            "max_width": null,
            "min_height": null,
            "min_width": null,
            "object_fit": null,
            "object_position": null,
            "order": null,
            "overflow": null,
            "overflow_x": null,
            "overflow_y": null,
            "padding": null,
            "right": null,
            "top": null,
            "visibility": null,
            "width": null
          }
        },
        "744f6f6e0bb04f71951b2f5c017a743b": {
          "model_module": "@jupyter-widgets/base",
          "model_name": "LayoutModel",
          "model_module_version": "1.2.0",
          "state": {
            "_model_module": "@jupyter-widgets/base",
            "_model_module_version": "1.2.0",
            "_model_name": "LayoutModel",
            "_view_count": null,
            "_view_module": "@jupyter-widgets/base",
            "_view_module_version": "1.2.0",
            "_view_name": "LayoutView",
            "align_content": null,
            "align_items": null,
            "align_self": null,
            "border": null,
            "bottom": null,
            "display": null,
            "flex": null,
            "flex_flow": null,
            "grid_area": null,
            "grid_auto_columns": null,
            "grid_auto_flow": null,
            "grid_auto_rows": null,
            "grid_column": null,
            "grid_gap": null,
            "grid_row": null,
            "grid_template_areas": null,
            "grid_template_columns": null,
            "grid_template_rows": null,
            "height": null,
            "justify_content": null,
            "justify_items": null,
            "left": null,
            "margin": null,
            "max_height": null,
            "max_width": null,
            "min_height": null,
            "min_width": null,
            "object_fit": null,
            "object_position": null,
            "order": null,
            "overflow": null,
            "overflow_x": null,
            "overflow_y": null,
            "padding": null,
            "right": null,
            "top": null,
            "visibility": null,
            "width": null
          }
        },
        "774eab59b62a41ebabc7af1a56711cd6": {
          "model_module": "@jupyter-widgets/controls",
          "model_name": "DescriptionStyleModel",
          "model_module_version": "1.5.0",
          "state": {
            "_model_module": "@jupyter-widgets/controls",
            "_model_module_version": "1.5.0",
            "_model_name": "DescriptionStyleModel",
            "_view_count": null,
            "_view_module": "@jupyter-widgets/base",
            "_view_module_version": "1.2.0",
            "_view_name": "StyleView",
            "description_width": ""
          }
        },
        "adf2192fb7ad421ea5f9b8bd84882daf": {
          "model_module": "@jupyter-widgets/base",
          "model_name": "LayoutModel",
          "model_module_version": "1.2.0",
          "state": {
            "_model_module": "@jupyter-widgets/base",
            "_model_module_version": "1.2.0",
            "_model_name": "LayoutModel",
            "_view_count": null,
            "_view_module": "@jupyter-widgets/base",
            "_view_module_version": "1.2.0",
            "_view_name": "LayoutView",
            "align_content": null,
            "align_items": null,
            "align_self": null,
            "border": null,
            "bottom": null,
            "display": null,
            "flex": null,
            "flex_flow": null,
            "grid_area": null,
            "grid_auto_columns": null,
            "grid_auto_flow": null,
            "grid_auto_rows": null,
            "grid_column": null,
            "grid_gap": null,
            "grid_row": null,
            "grid_template_areas": null,
            "grid_template_columns": null,
            "grid_template_rows": null,
            "height": null,
            "justify_content": null,
            "justify_items": null,
            "left": null,
            "margin": null,
            "max_height": null,
            "max_width": null,
            "min_height": null,
            "min_width": null,
            "object_fit": null,
            "object_position": null,
            "order": null,
            "overflow": null,
            "overflow_x": null,
            "overflow_y": null,
            "padding": null,
            "right": null,
            "top": null,
            "visibility": null,
            "width": null
          }
        },
        "a8d20e08bb5645718c1d4367f6edb920": {
          "model_module": "@jupyter-widgets/controls",
          "model_name": "ProgressStyleModel",
          "model_module_version": "1.5.0",
          "state": {
            "_model_module": "@jupyter-widgets/controls",
            "_model_module_version": "1.5.0",
            "_model_name": "ProgressStyleModel",
            "_view_count": null,
            "_view_module": "@jupyter-widgets/base",
            "_view_module_version": "1.2.0",
            "_view_name": "StyleView",
            "bar_color": null,
            "description_width": ""
          }
        },
        "6409b6bddbf6427db34bc4540518a37e": {
          "model_module": "@jupyter-widgets/base",
          "model_name": "LayoutModel",
          "model_module_version": "1.2.0",
          "state": {
            "_model_module": "@jupyter-widgets/base",
            "_model_module_version": "1.2.0",
            "_model_name": "LayoutModel",
            "_view_count": null,
            "_view_module": "@jupyter-widgets/base",
            "_view_module_version": "1.2.0",
            "_view_name": "LayoutView",
            "align_content": null,
            "align_items": null,
            "align_self": null,
            "border": null,
            "bottom": null,
            "display": null,
            "flex": null,
            "flex_flow": null,
            "grid_area": null,
            "grid_auto_columns": null,
            "grid_auto_flow": null,
            "grid_auto_rows": null,
            "grid_column": null,
            "grid_gap": null,
            "grid_row": null,
            "grid_template_areas": null,
            "grid_template_columns": null,
            "grid_template_rows": null,
            "height": null,
            "justify_content": null,
            "justify_items": null,
            "left": null,
            "margin": null,
            "max_height": null,
            "max_width": null,
            "min_height": null,
            "min_width": null,
            "object_fit": null,
            "object_position": null,
            "order": null,
            "overflow": null,
            "overflow_x": null,
            "overflow_y": null,
            "padding": null,
            "right": null,
            "top": null,
            "visibility": null,
            "width": null
          }
        },
        "3e1bc5ddba0b414da49163edb3b8c354": {
          "model_module": "@jupyter-widgets/controls",
          "model_name": "DescriptionStyleModel",
          "model_module_version": "1.5.0",
          "state": {
            "_model_module": "@jupyter-widgets/controls",
            "_model_module_version": "1.5.0",
            "_model_name": "DescriptionStyleModel",
            "_view_count": null,
            "_view_module": "@jupyter-widgets/base",
            "_view_module_version": "1.2.0",
            "_view_name": "StyleView",
            "description_width": ""
          }
        },
        "12c2cd0f87be4a6c93b06cfc5fe4e6a7": {
          "model_module": "@jupyter-widgets/controls",
          "model_name": "HBoxModel",
          "model_module_version": "1.5.0",
          "state": {
            "_dom_classes": [],
            "_model_module": "@jupyter-widgets/controls",
            "_model_module_version": "1.5.0",
            "_model_name": "HBoxModel",
            "_view_count": null,
            "_view_module": "@jupyter-widgets/controls",
            "_view_module_version": "1.5.0",
            "_view_name": "HBoxView",
            "box_style": "",
            "children": [
              "IPY_MODEL_45a1bc3ede0d41089edbedf5aa4a6b94",
              "IPY_MODEL_95191d91b4fb49fbbe3264b95cda2e69",
              "IPY_MODEL_86879f7b1e6343c9b5d0892f1675a444"
            ],
            "layout": "IPY_MODEL_9ea5d92c74424f30aecce6e7aa82a3b0"
          }
        },
        "45a1bc3ede0d41089edbedf5aa4a6b94": {
          "model_module": "@jupyter-widgets/controls",
          "model_name": "HTMLModel",
          "model_module_version": "1.5.0",
          "state": {
            "_dom_classes": [],
            "_model_module": "@jupyter-widgets/controls",
            "_model_module_version": "1.5.0",
            "_model_name": "HTMLModel",
            "_view_count": null,
            "_view_module": "@jupyter-widgets/controls",
            "_view_module_version": "1.5.0",
            "_view_name": "HTMLView",
            "description": "",
            "description_tooltip": null,
            "layout": "IPY_MODEL_8160236f4f604e29bd587f0a3ce9a6de",
            "placeholder": "​",
            "style": "IPY_MODEL_a1661aedd42f4f0587452738d1299864",
            "value": "model.safetensors: 100%"
          }
        },
        "95191d91b4fb49fbbe3264b95cda2e69": {
          "model_module": "@jupyter-widgets/controls",
          "model_name": "FloatProgressModel",
          "model_module_version": "1.5.0",
          "state": {
            "_dom_classes": [],
            "_model_module": "@jupyter-widgets/controls",
            "_model_module_version": "1.5.0",
            "_model_name": "FloatProgressModel",
            "_view_count": null,
            "_view_module": "@jupyter-widgets/controls",
            "_view_module_version": "1.5.0",
            "_view_name": "ProgressView",
            "bar_style": "success",
            "description": "",
            "description_tooltip": null,
            "layout": "IPY_MODEL_909cca0b58eb43719726b4b848524dc8",
            "max": 1519984962,
            "min": 0,
            "orientation": "horizontal",
            "style": "IPY_MODEL_b41e4f8e07364f019641162a50ee9e7c",
            "value": 1519984962
          }
        },
        "86879f7b1e6343c9b5d0892f1675a444": {
          "model_module": "@jupyter-widgets/controls",
          "model_name": "HTMLModel",
          "model_module_version": "1.5.0",
          "state": {
            "_dom_classes": [],
            "_model_module": "@jupyter-widgets/controls",
            "_model_module_version": "1.5.0",
            "_model_name": "HTMLModel",
            "_view_count": null,
            "_view_module": "@jupyter-widgets/controls",
            "_view_module_version": "1.5.0",
            "_view_name": "HTMLView",
            "description": "",
            "description_tooltip": null,
            "layout": "IPY_MODEL_bbcc046c0063434293af9f80464a3d2b",
            "placeholder": "​",
            "style": "IPY_MODEL_7101872da28646549cccf454457acc05",
            "value": " 1.52G/1.52G [00:18&lt;00:00, 127MB/s]"
          }
        },
        "9ea5d92c74424f30aecce6e7aa82a3b0": {
          "model_module": "@jupyter-widgets/base",
          "model_name": "LayoutModel",
          "model_module_version": "1.2.0",
          "state": {
            "_model_module": "@jupyter-widgets/base",
            "_model_module_version": "1.2.0",
            "_model_name": "LayoutModel",
            "_view_count": null,
            "_view_module": "@jupyter-widgets/base",
            "_view_module_version": "1.2.0",
            "_view_name": "LayoutView",
            "align_content": null,
            "align_items": null,
            "align_self": null,
            "border": null,
            "bottom": null,
            "display": null,
            "flex": null,
            "flex_flow": null,
            "grid_area": null,
            "grid_auto_columns": null,
            "grid_auto_flow": null,
            "grid_auto_rows": null,
            "grid_column": null,
            "grid_gap": null,
            "grid_row": null,
            "grid_template_areas": null,
            "grid_template_columns": null,
            "grid_template_rows": null,
            "height": null,
            "justify_content": null,
            "justify_items": null,
            "left": null,
            "margin": null,
            "max_height": null,
            "max_width": null,
            "min_height": null,
            "min_width": null,
            "object_fit": null,
            "object_position": null,
            "order": null,
            "overflow": null,
            "overflow_x": null,
            "overflow_y": null,
            "padding": null,
            "right": null,
            "top": null,
            "visibility": null,
            "width": null
          }
        },
        "8160236f4f604e29bd587f0a3ce9a6de": {
          "model_module": "@jupyter-widgets/base",
          "model_name": "LayoutModel",
          "model_module_version": "1.2.0",
          "state": {
            "_model_module": "@jupyter-widgets/base",
            "_model_module_version": "1.2.0",
            "_model_name": "LayoutModel",
            "_view_count": null,
            "_view_module": "@jupyter-widgets/base",
            "_view_module_version": "1.2.0",
            "_view_name": "LayoutView",
            "align_content": null,
            "align_items": null,
            "align_self": null,
            "border": null,
            "bottom": null,
            "display": null,
            "flex": null,
            "flex_flow": null,
            "grid_area": null,
            "grid_auto_columns": null,
            "grid_auto_flow": null,
            "grid_auto_rows": null,
            "grid_column": null,
            "grid_gap": null,
            "grid_row": null,
            "grid_template_areas": null,
            "grid_template_columns": null,
            "grid_template_rows": null,
            "height": null,
            "justify_content": null,
            "justify_items": null,
            "left": null,
            "margin": null,
            "max_height": null,
            "max_width": null,
            "min_height": null,
            "min_width": null,
            "object_fit": null,
            "object_position": null,
            "order": null,
            "overflow": null,
            "overflow_x": null,
            "overflow_y": null,
            "padding": null,
            "right": null,
            "top": null,
            "visibility": null,
            "width": null
          }
        },
        "a1661aedd42f4f0587452738d1299864": {
          "model_module": "@jupyter-widgets/controls",
          "model_name": "DescriptionStyleModel",
          "model_module_version": "1.5.0",
          "state": {
            "_model_module": "@jupyter-widgets/controls",
            "_model_module_version": "1.5.0",
            "_model_name": "DescriptionStyleModel",
            "_view_count": null,
            "_view_module": "@jupyter-widgets/base",
            "_view_module_version": "1.2.0",
            "_view_name": "StyleView",
            "description_width": ""
          }
        },
        "909cca0b58eb43719726b4b848524dc8": {
          "model_module": "@jupyter-widgets/base",
          "model_name": "LayoutModel",
          "model_module_version": "1.2.0",
          "state": {
            "_model_module": "@jupyter-widgets/base",
            "_model_module_version": "1.2.0",
            "_model_name": "LayoutModel",
            "_view_count": null,
            "_view_module": "@jupyter-widgets/base",
            "_view_module_version": "1.2.0",
            "_view_name": "LayoutView",
            "align_content": null,
            "align_items": null,
            "align_self": null,
            "border": null,
            "bottom": null,
            "display": null,
            "flex": null,
            "flex_flow": null,
            "grid_area": null,
            "grid_auto_columns": null,
            "grid_auto_flow": null,
            "grid_auto_rows": null,
            "grid_column": null,
            "grid_gap": null,
            "grid_row": null,
            "grid_template_areas": null,
            "grid_template_columns": null,
            "grid_template_rows": null,
            "height": null,
            "justify_content": null,
            "justify_items": null,
            "left": null,
            "margin": null,
            "max_height": null,
            "max_width": null,
            "min_height": null,
            "min_width": null,
            "object_fit": null,
            "object_position": null,
            "order": null,
            "overflow": null,
            "overflow_x": null,
            "overflow_y": null,
            "padding": null,
            "right": null,
            "top": null,
            "visibility": null,
            "width": null
          }
        },
        "b41e4f8e07364f019641162a50ee9e7c": {
          "model_module": "@jupyter-widgets/controls",
          "model_name": "ProgressStyleModel",
          "model_module_version": "1.5.0",
          "state": {
            "_model_module": "@jupyter-widgets/controls",
            "_model_module_version": "1.5.0",
            "_model_name": "ProgressStyleModel",
            "_view_count": null,
            "_view_module": "@jupyter-widgets/base",
            "_view_module_version": "1.2.0",
            "_view_name": "StyleView",
            "bar_color": null,
            "description_width": ""
          }
        },
        "bbcc046c0063434293af9f80464a3d2b": {
          "model_module": "@jupyter-widgets/base",
          "model_name": "LayoutModel",
          "model_module_version": "1.2.0",
          "state": {
            "_model_module": "@jupyter-widgets/base",
            "_model_module_version": "1.2.0",
            "_model_name": "LayoutModel",
            "_view_count": null,
            "_view_module": "@jupyter-widgets/base",
            "_view_module_version": "1.2.0",
            "_view_name": "LayoutView",
            "align_content": null,
            "align_items": null,
            "align_self": null,
            "border": null,
            "bottom": null,
            "display": null,
            "flex": null,
            "flex_flow": null,
            "grid_area": null,
            "grid_auto_columns": null,
            "grid_auto_flow": null,
            "grid_auto_rows": null,
            "grid_column": null,
            "grid_gap": null,
            "grid_row": null,
            "grid_template_areas": null,
            "grid_template_columns": null,
            "grid_template_rows": null,
            "height": null,
            "justify_content": null,
            "justify_items": null,
            "left": null,
            "margin": null,
            "max_height": null,
            "max_width": null,
            "min_height": null,
            "min_width": null,
            "object_fit": null,
            "object_position": null,
            "order": null,
            "overflow": null,
            "overflow_x": null,
            "overflow_y": null,
            "padding": null,
            "right": null,
            "top": null,
            "visibility": null,
            "width": null
          }
        },
        "7101872da28646549cccf454457acc05": {
          "model_module": "@jupyter-widgets/controls",
          "model_name": "DescriptionStyleModel",
          "model_module_version": "1.5.0",
          "state": {
            "_model_module": "@jupyter-widgets/controls",
            "_model_module_version": "1.5.0",
            "_model_name": "DescriptionStyleModel",
            "_view_count": null,
            "_view_module": "@jupyter-widgets/base",
            "_view_module_version": "1.2.0",
            "_view_name": "StyleView",
            "description_width": ""
          }
        },
        "532715f7412d441c985d8211667b607f": {
          "model_module": "@jupyter-widgets/controls",
          "model_name": "HBoxModel",
          "model_module_version": "1.5.0",
          "state": {
            "_dom_classes": [],
            "_model_module": "@jupyter-widgets/controls",
            "_model_module_version": "1.5.0",
            "_model_name": "HBoxModel",
            "_view_count": null,
            "_view_module": "@jupyter-widgets/controls",
            "_view_module_version": "1.5.0",
            "_view_name": "HBoxView",
            "box_style": "",
            "children": [
              "IPY_MODEL_c22d6cab3f2942649fb0ef3b88fd271a",
              "IPY_MODEL_3eaede17a57140839848679d2576b27f",
              "IPY_MODEL_e7972d633847421a95a968ae1e983162"
            ],
            "layout": "IPY_MODEL_79a26916840f4aeda584d820e5f8b220"
          }
        },
        "c22d6cab3f2942649fb0ef3b88fd271a": {
          "model_module": "@jupyter-widgets/controls",
          "model_name": "HTMLModel",
          "model_module_version": "1.5.0",
          "state": {
            "_dom_classes": [],
            "_model_module": "@jupyter-widgets/controls",
            "_model_module_version": "1.5.0",
            "_model_name": "HTMLModel",
            "_view_count": null,
            "_view_module": "@jupyter-widgets/controls",
            "_view_module_version": "1.5.0",
            "_view_name": "HTMLView",
            "description": "",
            "description_tooltip": null,
            "layout": "IPY_MODEL_c916d644050c4b56b57a50701f907fbd",
            "placeholder": "​",
            "style": "IPY_MODEL_192553349f77470abaf1eefbc6f3b7ca",
            "value": "generation_config.json: 100%"
          }
        },
        "3eaede17a57140839848679d2576b27f": {
          "model_module": "@jupyter-widgets/controls",
          "model_name": "FloatProgressModel",
          "model_module_version": "1.5.0",
          "state": {
            "_dom_classes": [],
            "_model_module": "@jupyter-widgets/controls",
            "_model_module_version": "1.5.0",
            "_model_name": "FloatProgressModel",
            "_view_count": null,
            "_view_module": "@jupyter-widgets/controls",
            "_view_module_version": "1.5.0",
            "_view_name": "ProgressView",
            "bar_style": "success",
            "description": "",
            "description_tooltip": null,
            "layout": "IPY_MODEL_d6b50e40cb6c4b328bce63d9ef022f1d",
            "max": 124,
            "min": 0,
            "orientation": "horizontal",
            "style": "IPY_MODEL_499aa3d6d4af401184eba6ed88f7d659",
            "value": 124
          }
        },
        "e7972d633847421a95a968ae1e983162": {
          "model_module": "@jupyter-widgets/controls",
          "model_name": "HTMLModel",
          "model_module_version": "1.5.0",
          "state": {
            "_dom_classes": [],
            "_model_module": "@jupyter-widgets/controls",
            "_model_module_version": "1.5.0",
            "_model_name": "HTMLModel",
            "_view_count": null,
            "_view_module": "@jupyter-widgets/controls",
            "_view_module_version": "1.5.0",
            "_view_name": "HTMLView",
            "description": "",
            "description_tooltip": null,
            "layout": "IPY_MODEL_195266ee518149d2bade3bb688224720",
            "placeholder": "​",
            "style": "IPY_MODEL_f17df0fbcbb54363a1b56c7271180b4d",
            "value": " 124/124 [00:00&lt;00:00, 1.54kB/s]"
          }
        },
        "79a26916840f4aeda584d820e5f8b220": {
          "model_module": "@jupyter-widgets/base",
          "model_name": "LayoutModel",
          "model_module_version": "1.2.0",
          "state": {
            "_model_module": "@jupyter-widgets/base",
            "_model_module_version": "1.2.0",
            "_model_name": "LayoutModel",
            "_view_count": null,
            "_view_module": "@jupyter-widgets/base",
            "_view_module_version": "1.2.0",
            "_view_name": "LayoutView",
            "align_content": null,
            "align_items": null,
            "align_self": null,
            "border": null,
            "bottom": null,
            "display": null,
            "flex": null,
            "flex_flow": null,
            "grid_area": null,
            "grid_auto_columns": null,
            "grid_auto_flow": null,
            "grid_auto_rows": null,
            "grid_column": null,
            "grid_gap": null,
            "grid_row": null,
            "grid_template_areas": null,
            "grid_template_columns": null,
            "grid_template_rows": null,
            "height": null,
            "justify_content": null,
            "justify_items": null,
            "left": null,
            "margin": null,
            "max_height": null,
            "max_width": null,
            "min_height": null,
            "min_width": null,
            "object_fit": null,
            "object_position": null,
            "order": null,
            "overflow": null,
            "overflow_x": null,
            "overflow_y": null,
            "padding": null,
            "right": null,
            "top": null,
            "visibility": null,
            "width": null
          }
        },
        "c916d644050c4b56b57a50701f907fbd": {
          "model_module": "@jupyter-widgets/base",
          "model_name": "LayoutModel",
          "model_module_version": "1.2.0",
          "state": {
            "_model_module": "@jupyter-widgets/base",
            "_model_module_version": "1.2.0",
            "_model_name": "LayoutModel",
            "_view_count": null,
            "_view_module": "@jupyter-widgets/base",
            "_view_module_version": "1.2.0",
            "_view_name": "LayoutView",
            "align_content": null,
            "align_items": null,
            "align_self": null,
            "border": null,
            "bottom": null,
            "display": null,
            "flex": null,
            "flex_flow": null,
            "grid_area": null,
            "grid_auto_columns": null,
            "grid_auto_flow": null,
            "grid_auto_rows": null,
            "grid_column": null,
            "grid_gap": null,
            "grid_row": null,
            "grid_template_areas": null,
            "grid_template_columns": null,
            "grid_template_rows": null,
            "height": null,
            "justify_content": null,
            "justify_items": null,
            "left": null,
            "margin": null,
            "max_height": null,
            "max_width": null,
            "min_height": null,
            "min_width": null,
            "object_fit": null,
            "object_position": null,
            "order": null,
            "overflow": null,
            "overflow_x": null,
            "overflow_y": null,
            "padding": null,
            "right": null,
            "top": null,
            "visibility": null,
            "width": null
          }
        },
        "192553349f77470abaf1eefbc6f3b7ca": {
          "model_module": "@jupyter-widgets/controls",
          "model_name": "DescriptionStyleModel",
          "model_module_version": "1.5.0",
          "state": {
            "_model_module": "@jupyter-widgets/controls",
            "_model_module_version": "1.5.0",
            "_model_name": "DescriptionStyleModel",
            "_view_count": null,
            "_view_module": "@jupyter-widgets/base",
            "_view_module_version": "1.2.0",
            "_view_name": "StyleView",
            "description_width": ""
          }
        },
        "d6b50e40cb6c4b328bce63d9ef022f1d": {
          "model_module": "@jupyter-widgets/base",
          "model_name": "LayoutModel",
          "model_module_version": "1.2.0",
          "state": {
            "_model_module": "@jupyter-widgets/base",
            "_model_module_version": "1.2.0",
            "_model_name": "LayoutModel",
            "_view_count": null,
            "_view_module": "@jupyter-widgets/base",
            "_view_module_version": "1.2.0",
            "_view_name": "LayoutView",
            "align_content": null,
            "align_items": null,
            "align_self": null,
            "border": null,
            "bottom": null,
            "display": null,
            "flex": null,
            "flex_flow": null,
            "grid_area": null,
            "grid_auto_columns": null,
            "grid_auto_flow": null,
            "grid_auto_rows": null,
            "grid_column": null,
            "grid_gap": null,
            "grid_row": null,
            "grid_template_areas": null,
            "grid_template_columns": null,
            "grid_template_rows": null,
            "height": null,
            "justify_content": null,
            "justify_items": null,
            "left": null,
            "margin": null,
            "max_height": null,
            "max_width": null,
            "min_height": null,
            "min_width": null,
            "object_fit": null,
            "object_position": null,
            "order": null,
            "overflow": null,
            "overflow_x": null,
            "overflow_y": null,
            "padding": null,
            "right": null,
            "top": null,
            "visibility": null,
            "width": null
          }
        },
        "499aa3d6d4af401184eba6ed88f7d659": {
          "model_module": "@jupyter-widgets/controls",
          "model_name": "ProgressStyleModel",
          "model_module_version": "1.5.0",
          "state": {
            "_model_module": "@jupyter-widgets/controls",
            "_model_module_version": "1.5.0",
            "_model_name": "ProgressStyleModel",
            "_view_count": null,
            "_view_module": "@jupyter-widgets/base",
            "_view_module_version": "1.2.0",
            "_view_name": "StyleView",
            "bar_color": null,
            "description_width": ""
          }
        },
        "195266ee518149d2bade3bb688224720": {
          "model_module": "@jupyter-widgets/base",
          "model_name": "LayoutModel",
          "model_module_version": "1.2.0",
          "state": {
            "_model_module": "@jupyter-widgets/base",
            "_model_module_version": "1.2.0",
            "_model_name": "LayoutModel",
            "_view_count": null,
            "_view_module": "@jupyter-widgets/base",
            "_view_module_version": "1.2.0",
            "_view_name": "LayoutView",
            "align_content": null,
            "align_items": null,
            "align_self": null,
            "border": null,
            "bottom": null,
            "display": null,
            "flex": null,
            "flex_flow": null,
            "grid_area": null,
            "grid_auto_columns": null,
            "grid_auto_flow": null,
            "grid_auto_rows": null,
            "grid_column": null,
            "grid_gap": null,
            "grid_row": null,
            "grid_template_areas": null,
            "grid_template_columns": null,
            "grid_template_rows": null,
            "height": null,
            "justify_content": null,
            "justify_items": null,
            "left": null,
            "margin": null,
            "max_height": null,
            "max_width": null,
            "min_height": null,
            "min_width": null,
            "object_fit": null,
            "object_position": null,
            "order": null,
            "overflow": null,
            "overflow_x": null,
            "overflow_y": null,
            "padding": null,
            "right": null,
            "top": null,
            "visibility": null,
            "width": null
          }
        },
        "f17df0fbcbb54363a1b56c7271180b4d": {
          "model_module": "@jupyter-widgets/controls",
          "model_name": "DescriptionStyleModel",
          "model_module_version": "1.5.0",
          "state": {
            "_model_module": "@jupyter-widgets/controls",
            "_model_module_version": "1.5.0",
            "_model_name": "DescriptionStyleModel",
            "_view_count": null,
            "_view_module": "@jupyter-widgets/base",
            "_view_module_version": "1.2.0",
            "_view_name": "StyleView",
            "description_width": ""
          }
        }
      }
    }
  },
  "nbformat": 4,
  "nbformat_minor": 0
}