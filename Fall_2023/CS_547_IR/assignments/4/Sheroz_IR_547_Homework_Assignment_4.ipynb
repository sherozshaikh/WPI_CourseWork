{
 "cells": [
  {
   "cell_type": "markdown",
   "metadata": {
    "id": "_gBFqyjHQFVh"
   },
   "source": [
    "# HW4: implementing item-based CF with cosine\n",
    "First,run recommenderDemo.ipynb and be familar with the code and data.\n",
    "Second,implement item-based CF with cosine"
   ]
  },
  {
   "cell_type": "code",
   "execution_count": 7,
   "metadata": {
    "id": "T7tJ5DhpQFVi"
   },
   "outputs": [],
   "source": [
    "from collections import defaultdict\n",
    "import pandas as pd\n",
    "import numpy as np\n",
    "import scipy.sparse\n",
    "import math\n",
    "import sys"
   ]
  },
  {
   "cell_type": "code",
   "execution_count": 8,
   "metadata": {
    "colab": {
     "base_uri": "https://localhost:8080/"
    },
    "id": "N2jlkFxtRJ75",
    "outputId": "d890eb66-7500-4c93-f1c1-57fbb1ae2b6b"
   },
   "outputs": [
    {
     "name": "stdout",
     "output_type": "stream",
     "text": [
      "['marketplace', 'customer_id', 'review_id', 'product_id', 'product_parent', 'product_title', 'product_category', 'star_rating', 'helpful_votes', 'total_votes', 'vine', 'verified_purchase', 'review_headline', 'review_body', 'review_date']\n",
      "20000\n",
      "(20000, 15)\n"
     ]
    }
   ],
   "source": [
    "# From https://web.cs.wpi.edu/~kmlee/cs547/amazon_reviews_us_Musical_Instruments_v1_00_small.tsv.gz\n",
    "input_file_stream = open(file=\"./amazon_reviews_us_Musical_Instruments_v1_00_small.tsv\",mode='rt',encoding=\"utf8\")\n",
    "\n",
    "header = input_file_stream.readline().strip().split('\\t')\n",
    "print(header)\n",
    "\n",
    "small_dataset =[]\n",
    "for line1 in input_file_stream:\n",
    "    fields = line1.strip().split('\\t')\n",
    "    d = dict(zip(header,fields))\n",
    "    d['star_rating'] = int(d['star_rating'])\n",
    "    d['helpful_votes'] = int(d['helpful_votes'])\n",
    "    d['total_votes'] = int(d['total_votes'])\n",
    "    small_dataset.append(d)\n",
    "print(len(small_dataset))\n",
    "small_dataset_df = pd.DataFrame(small_dataset)\n",
    "print(small_dataset_df.shape)"
   ]
  },
  {
   "cell_type": "code",
   "execution_count": 9,
   "metadata": {
    "id": "DN2VlnoK7H10"
   },
   "outputs": [],
   "source": [
    "usersPerItem = defaultdict(set)\n",
    "reviewsPerUser = defaultdict(list)\n",
    "\n",
    "for d in small_dataset:\n",
    "    user,item = d['customer_id'],d['product_id']\n",
    "    usersPerItem[item].add(user)\n",
    "    reviewsPerUser[user].append(d)"
   ]
  },
  {
   "cell_type": "code",
   "execution_count": 10,
   "metadata": {
    "colab": {
     "base_uri": "https://localhost:8080/",
     "height": 452
    },
    "id": "KQE4INfoRuky",
    "outputId": "5e96aadf-71ae-45cc-9f6f-81ad33caf111"
   },
   "outputs": [
    {
     "data": {
      "text/html": [
       "\n",
       "  <div id=\"df-22150f17-76f2-4e48-b452-dd3812912804\" class=\"colab-df-container\">\n",
       "    <div>\n",
       "<style scoped>\n",
       "    .dataframe tbody tr th:only-of-type {\n",
       "        vertical-align: middle;\n",
       "    }\n",
       "\n",
       "    .dataframe tbody tr th {\n",
       "        vertical-align: top;\n",
       "    }\n",
       "\n",
       "    .dataframe thead th {\n",
       "        text-align: right;\n",
       "    }\n",
       "</style>\n",
       "<table border=\"1\" class=\"dataframe\">\n",
       "  <thead>\n",
       "    <tr style=\"text-align: right;\">\n",
       "      <th></th>\n",
       "      <th>marketplace</th>\n",
       "      <th>customer_id</th>\n",
       "      <th>review_id</th>\n",
       "      <th>product_id</th>\n",
       "      <th>product_parent</th>\n",
       "      <th>product_title</th>\n",
       "      <th>product_category</th>\n",
       "      <th>star_rating</th>\n",
       "      <th>helpful_votes</th>\n",
       "      <th>total_votes</th>\n",
       "      <th>vine</th>\n",
       "      <th>verified_purchase</th>\n",
       "      <th>review_headline</th>\n",
       "      <th>review_body</th>\n",
       "      <th>review_date</th>\n",
       "    </tr>\n",
       "  </thead>\n",
       "  <tbody>\n",
       "    <tr>\n",
       "      <th>0</th>\n",
       "      <td>US</td>\n",
       "      <td>45610553</td>\n",
       "      <td>RMDCHWD0Y5OZ9</td>\n",
       "      <td>B00HH62VB6</td>\n",
       "      <td>618218723</td>\n",
       "      <td>AGPtek® 10 Isolated Output 9V 12V 18V Guitar P...</td>\n",
       "      <td>Musical Instruments</td>\n",
       "      <td>3</td>\n",
       "      <td>0</td>\n",
       "      <td>1</td>\n",
       "      <td>N</td>\n",
       "      <td>N</td>\n",
       "      <td>Three Stars</td>\n",
       "      <td>Works very good, but induces ALOT of noise.</td>\n",
       "      <td>2015-08-31</td>\n",
       "    </tr>\n",
       "    <tr>\n",
       "      <th>1</th>\n",
       "      <td>US</td>\n",
       "      <td>14640079</td>\n",
       "      <td>RZSL0BALIYUNU</td>\n",
       "      <td>B003LRN53I</td>\n",
       "      <td>986692292</td>\n",
       "      <td>Sennheiser HD203 Closed-Back DJ Headphones</td>\n",
       "      <td>Musical Instruments</td>\n",
       "      <td>5</td>\n",
       "      <td>0</td>\n",
       "      <td>0</td>\n",
       "      <td>N</td>\n",
       "      <td>Y</td>\n",
       "      <td>Five Stars</td>\n",
       "      <td>Nice headphones at a reasonable price.</td>\n",
       "      <td>2015-08-31</td>\n",
       "    </tr>\n",
       "    <tr>\n",
       "      <th>2</th>\n",
       "      <td>US</td>\n",
       "      <td>6111003</td>\n",
       "      <td>RIZR67JKUDBI0</td>\n",
       "      <td>B0006VMBHI</td>\n",
       "      <td>603261968</td>\n",
       "      <td>AudioQuest LP record clean brush</td>\n",
       "      <td>Musical Instruments</td>\n",
       "      <td>3</td>\n",
       "      <td>0</td>\n",
       "      <td>1</td>\n",
       "      <td>N</td>\n",
       "      <td>Y</td>\n",
       "      <td>Three Stars</td>\n",
       "      <td>removes dust. does not clean</td>\n",
       "      <td>2015-08-31</td>\n",
       "    </tr>\n",
       "    <tr>\n",
       "      <th>3</th>\n",
       "      <td>US</td>\n",
       "      <td>1546619</td>\n",
       "      <td>R27HL570VNL85F</td>\n",
       "      <td>B002B55TRG</td>\n",
       "      <td>575084461</td>\n",
       "      <td>Hohner Inc. 560BX-BF Special Twenty Harmonica</td>\n",
       "      <td>Musical Instruments</td>\n",
       "      <td>5</td>\n",
       "      <td>0</td>\n",
       "      <td>0</td>\n",
       "      <td>N</td>\n",
       "      <td>Y</td>\n",
       "      <td>I purchase these for a friend in return for pl...</td>\n",
       "      <td>I purchase these for a friend in return for pl...</td>\n",
       "      <td>2015-08-31</td>\n",
       "    </tr>\n",
       "    <tr>\n",
       "      <th>4</th>\n",
       "      <td>US</td>\n",
       "      <td>12222213</td>\n",
       "      <td>R34EBU9QDWJ1GD</td>\n",
       "      <td>B00N1YPXW2</td>\n",
       "      <td>165236328</td>\n",
       "      <td>Blue Yeti USB Microphone - Blackout Edition</td>\n",
       "      <td>Musical Instruments</td>\n",
       "      <td>5</td>\n",
       "      <td>0</td>\n",
       "      <td>0</td>\n",
       "      <td>N</td>\n",
       "      <td>Y</td>\n",
       "      <td>Five Stars</td>\n",
       "      <td>This is an awesome mic!</td>\n",
       "      <td>2015-08-31</td>\n",
       "    </tr>\n",
       "  </tbody>\n",
       "</table>\n",
       "</div>\n",
       "    <div class=\"colab-df-buttons\">\n",
       "\n",
       "  <div class=\"colab-df-container\">\n",
       "    <button class=\"colab-df-convert\" onclick=\"convertToInteractive('df-22150f17-76f2-4e48-b452-dd3812912804')\"\n",
       "            title=\"Convert this dataframe to an interactive table.\"\n",
       "            style=\"display:none;\">\n",
       "\n",
       "  <svg xmlns=\"http://www.w3.org/2000/svg\" height=\"24px\" viewBox=\"0 -960 960 960\">\n",
       "    <path d=\"M120-120v-720h720v720H120Zm60-500h600v-160H180v160Zm220 220h160v-160H400v160Zm0 220h160v-160H400v160ZM180-400h160v-160H180v160Zm440 0h160v-160H620v160ZM180-180h160v-160H180v160Zm440 0h160v-160H620v160Z\"/>\n",
       "  </svg>\n",
       "    </button>\n",
       "\n",
       "  <style>\n",
       "    .colab-df-container {\n",
       "      display:flex;\n",
       "      gap: 12px;\n",
       "    }\n",
       "\n",
       "    .colab-df-convert {\n",
       "      background-color: #E8F0FE;\n",
       "      border: none;\n",
       "      border-radius: 50%;\n",
       "      cursor: pointer;\n",
       "      display: none;\n",
       "      fill: #1967D2;\n",
       "      height: 32px;\n",
       "      padding: 0 0 0 0;\n",
       "      width: 32px;\n",
       "    }\n",
       "\n",
       "    .colab-df-convert:hover {\n",
       "      background-color: #E2EBFA;\n",
       "      box-shadow: 0px 1px 2px rgba(60, 64, 67, 0.3), 0px 1px 3px 1px rgba(60, 64, 67, 0.15);\n",
       "      fill: #174EA6;\n",
       "    }\n",
       "\n",
       "    .colab-df-buttons div {\n",
       "      margin-bottom: 4px;\n",
       "    }\n",
       "\n",
       "    [theme=dark] .colab-df-convert {\n",
       "      background-color: #3B4455;\n",
       "      fill: #D2E3FC;\n",
       "    }\n",
       "\n",
       "    [theme=dark] .colab-df-convert:hover {\n",
       "      background-color: #434B5C;\n",
       "      box-shadow: 0px 1px 3px 1px rgba(0, 0, 0, 0.15);\n",
       "      filter: drop-shadow(0px 1px 2px rgba(0, 0, 0, 0.3));\n",
       "      fill: #FFFFFF;\n",
       "    }\n",
       "  </style>\n",
       "\n",
       "    <script>\n",
       "      const buttonEl =\n",
       "        document.querySelector('#df-22150f17-76f2-4e48-b452-dd3812912804 button.colab-df-convert');\n",
       "      buttonEl.style.display =\n",
       "        google.colab.kernel.accessAllowed ? 'block' : 'none';\n",
       "\n",
       "      async function convertToInteractive(key) {\n",
       "        const element = document.querySelector('#df-22150f17-76f2-4e48-b452-dd3812912804');\n",
       "        const dataTable =\n",
       "          await google.colab.kernel.invokeFunction('convertToInteractive',\n",
       "                                                    [key], {});\n",
       "        if (!dataTable) return;\n",
       "\n",
       "        const docLinkHtml = 'Like what you see? Visit the ' +\n",
       "          '<a target=\"_blank\" href=https://colab.research.google.com/notebooks/data_table.ipynb>data table notebook</a>'\n",
       "          + ' to learn more about interactive tables.';\n",
       "        element.innerHTML = '';\n",
       "        dataTable['output_type'] = 'display_data';\n",
       "        await google.colab.output.renderOutput(dataTable, element);\n",
       "        const docLink = document.createElement('div');\n",
       "        docLink.innerHTML = docLinkHtml;\n",
       "        element.appendChild(docLink);\n",
       "      }\n",
       "    </script>\n",
       "  </div>\n",
       "\n",
       "\n",
       "<div id=\"df-16faa27e-5df2-410a-9486-0de1d6f80263\">\n",
       "  <button class=\"colab-df-quickchart\" onclick=\"quickchart('df-16faa27e-5df2-410a-9486-0de1d6f80263')\"\n",
       "            title=\"Suggest charts\"\n",
       "            style=\"display:none;\">\n",
       "\n",
       "<svg xmlns=\"http://www.w3.org/2000/svg\" height=\"24px\"viewBox=\"0 0 24 24\"\n",
       "     width=\"24px\">\n",
       "    <g>\n",
       "        <path d=\"M19 3H5c-1.1 0-2 .9-2 2v14c0 1.1.9 2 2 2h14c1.1 0 2-.9 2-2V5c0-1.1-.9-2-2-2zM9 17H7v-7h2v7zm4 0h-2V7h2v10zm4 0h-2v-4h2v4z\"/>\n",
       "    </g>\n",
       "</svg>\n",
       "  </button>\n",
       "\n",
       "<style>\n",
       "  .colab-df-quickchart {\n",
       "      --bg-color: #E8F0FE;\n",
       "      --fill-color: #1967D2;\n",
       "      --hover-bg-color: #E2EBFA;\n",
       "      --hover-fill-color: #174EA6;\n",
       "      --disabled-fill-color: #AAA;\n",
       "      --disabled-bg-color: #DDD;\n",
       "  }\n",
       "\n",
       "  [theme=dark] .colab-df-quickchart {\n",
       "      --bg-color: #3B4455;\n",
       "      --fill-color: #D2E3FC;\n",
       "      --hover-bg-color: #434B5C;\n",
       "      --hover-fill-color: #FFFFFF;\n",
       "      --disabled-bg-color: #3B4455;\n",
       "      --disabled-fill-color: #666;\n",
       "  }\n",
       "\n",
       "  .colab-df-quickchart {\n",
       "    background-color: var(--bg-color);\n",
       "    border: none;\n",
       "    border-radius: 50%;\n",
       "    cursor: pointer;\n",
       "    display: none;\n",
       "    fill: var(--fill-color);\n",
       "    height: 32px;\n",
       "    padding: 0;\n",
       "    width: 32px;\n",
       "  }\n",
       "\n",
       "  .colab-df-quickchart:hover {\n",
       "    background-color: var(--hover-bg-color);\n",
       "    box-shadow: 0 1px 2px rgba(60, 64, 67, 0.3), 0 1px 3px 1px rgba(60, 64, 67, 0.15);\n",
       "    fill: var(--button-hover-fill-color);\n",
       "  }\n",
       "\n",
       "  .colab-df-quickchart-complete:disabled,\n",
       "  .colab-df-quickchart-complete:disabled:hover {\n",
       "    background-color: var(--disabled-bg-color);\n",
       "    fill: var(--disabled-fill-color);\n",
       "    box-shadow: none;\n",
       "  }\n",
       "\n",
       "  .colab-df-spinner {\n",
       "    border: 2px solid var(--fill-color);\n",
       "    border-color: transparent;\n",
       "    border-bottom-color: var(--fill-color);\n",
       "    animation:\n",
       "      spin 1s steps(1) infinite;\n",
       "  }\n",
       "\n",
       "  @keyframes spin {\n",
       "    0% {\n",
       "      border-color: transparent;\n",
       "      border-bottom-color: var(--fill-color);\n",
       "      border-left-color: var(--fill-color);\n",
       "    }\n",
       "    20% {\n",
       "      border-color: transparent;\n",
       "      border-left-color: var(--fill-color);\n",
       "      border-top-color: var(--fill-color);\n",
       "    }\n",
       "    30% {\n",
       "      border-color: transparent;\n",
       "      border-left-color: var(--fill-color);\n",
       "      border-top-color: var(--fill-color);\n",
       "      border-right-color: var(--fill-color);\n",
       "    }\n",
       "    40% {\n",
       "      border-color: transparent;\n",
       "      border-right-color: var(--fill-color);\n",
       "      border-top-color: var(--fill-color);\n",
       "    }\n",
       "    60% {\n",
       "      border-color: transparent;\n",
       "      border-right-color: var(--fill-color);\n",
       "    }\n",
       "    80% {\n",
       "      border-color: transparent;\n",
       "      border-right-color: var(--fill-color);\n",
       "      border-bottom-color: var(--fill-color);\n",
       "    }\n",
       "    90% {\n",
       "      border-color: transparent;\n",
       "      border-bottom-color: var(--fill-color);\n",
       "    }\n",
       "  }\n",
       "</style>\n",
       "\n",
       "  <script>\n",
       "    async function quickchart(key) {\n",
       "      const quickchartButtonEl =\n",
       "        document.querySelector('#' + key + ' button');\n",
       "      quickchartButtonEl.disabled = true;  // To prevent multiple clicks.\n",
       "      quickchartButtonEl.classList.add('colab-df-spinner');\n",
       "      try {\n",
       "        const charts = await google.colab.kernel.invokeFunction(\n",
       "            'suggestCharts', [key], {});\n",
       "      } catch (error) {\n",
       "        console.error('Error during call to suggestCharts:', error);\n",
       "      }\n",
       "      quickchartButtonEl.classList.remove('colab-df-spinner');\n",
       "      quickchartButtonEl.classList.add('colab-df-quickchart-complete');\n",
       "    }\n",
       "    (() => {\n",
       "      let quickchartButtonEl =\n",
       "        document.querySelector('#df-16faa27e-5df2-410a-9486-0de1d6f80263 button');\n",
       "      quickchartButtonEl.style.display =\n",
       "        google.colab.kernel.accessAllowed ? 'block' : 'none';\n",
       "    })();\n",
       "  </script>\n",
       "</div>\n",
       "    </div>\n",
       "  </div>\n"
      ],
      "text/plain": [
       "  marketplace customer_id       review_id  product_id product_parent  \\\n",
       "0          US    45610553   RMDCHWD0Y5OZ9  B00HH62VB6      618218723   \n",
       "1          US    14640079   RZSL0BALIYUNU  B003LRN53I      986692292   \n",
       "2          US     6111003   RIZR67JKUDBI0  B0006VMBHI      603261968   \n",
       "3          US     1546619  R27HL570VNL85F  B002B55TRG      575084461   \n",
       "4          US    12222213  R34EBU9QDWJ1GD  B00N1YPXW2      165236328   \n",
       "\n",
       "                                       product_title     product_category  \\\n",
       "0  AGPtek® 10 Isolated Output 9V 12V 18V Guitar P...  Musical Instruments   \n",
       "1         Sennheiser HD203 Closed-Back DJ Headphones  Musical Instruments   \n",
       "2                   AudioQuest LP record clean brush  Musical Instruments   \n",
       "3      Hohner Inc. 560BX-BF Special Twenty Harmonica  Musical Instruments   \n",
       "4        Blue Yeti USB Microphone - Blackout Edition  Musical Instruments   \n",
       "\n",
       "   star_rating  helpful_votes  total_votes vine verified_purchase  \\\n",
       "0            3              0            1    N                 N   \n",
       "1            5              0            0    N                 Y   \n",
       "2            3              0            1    N                 Y   \n",
       "3            5              0            0    N                 Y   \n",
       "4            5              0            0    N                 Y   \n",
       "\n",
       "                                     review_headline  \\\n",
       "0                                        Three Stars   \n",
       "1                                         Five Stars   \n",
       "2                                        Three Stars   \n",
       "3  I purchase these for a friend in return for pl...   \n",
       "4                                         Five Stars   \n",
       "\n",
       "                                         review_body review_date  \n",
       "0        Works very good, but induces ALOT of noise.  2015-08-31  \n",
       "1             Nice headphones at a reasonable price.  2015-08-31  \n",
       "2                       removes dust. does not clean  2015-08-31  \n",
       "3  I purchase these for a friend in return for pl...  2015-08-31  \n",
       "4                            This is an awesome mic!  2015-08-31  "
      ]
     },
     "execution_count": 10,
     "metadata": {},
     "output_type": "execute_result"
    }
   ],
   "source": [
    "small_dataset_df.head()"
   ]
  },
  {
   "cell_type": "code",
   "execution_count": 11,
   "metadata": {
    "colab": {
     "base_uri": "https://localhost:8080/"
    },
    "id": "NpUuHMZe8Y5F",
    "outputId": "85d94d77-1f4f-4b7f-8e23-65b3cef13590"
   },
   "outputs": [
    {
     "name": "stdout",
     "output_type": "stream",
     "text": [
      "\n",
      "marketplace : Unique Values -> 1,Values -> ['US']\n",
      "\n",
      "customer_id : Unique Values -> 15342\n",
      "\n",
      "review_id : Unique Values -> 20000\n",
      "\n",
      "product_id : Unique Values -> 11182\n",
      "\n",
      "product_parent : Unique Values -> 10099\n",
      "\n",
      "product_title : Unique Values -> 10091\n",
      "\n",
      "product_category : Unique Values -> 1,Values -> ['Musical Instruments']\n",
      "\n",
      "star_rating : Unique Values -> 5,Values -> [3 5 2 4 1]\n",
      "\n",
      "helpful_votes : Unique Values -> 60\n",
      "\n",
      "total_votes : Unique Values -> 60\n",
      "\n",
      "vine : Unique Values -> 2,Values -> ['N' 'Y']\n",
      "\n",
      "verified_purchase : Unique Values -> 2,Values -> ['N' 'Y']\n",
      "\n",
      "review_headline : Unique Values -> 11910\n",
      "\n",
      "review_body : Unique Values -> 18475\n",
      "\n",
      "review_date : Unique Values -> 21\n"
     ]
    }
   ],
   "source": [
    "for c_name in small_dataset_df.columns:\n",
    "    unique_val = small_dataset_df[c_name].nunique()\n",
    "    if unique_val<11:\n",
    "        print(f'\\n{c_name} : Unique Values -> {unique_val},Values -> {small_dataset_df[c_name].unique()}')\n",
    "    else:\n",
    "        print(f'\\n{c_name} : Unique Values -> {unique_val}')"
   ]
  },
  {
   "cell_type": "code",
   "execution_count": 12,
   "metadata": {
    "colab": {
     "base_uri": "https://localhost:8080/"
    },
    "id": "WnVnu-VqBgKa",
    "outputId": "c3e425d8-b477-4b0a-8908-9449e87e7e29"
   },
   "outputs": [
    {
     "name": "stdout",
     "output_type": "stream",
     "text": [
      "test_matrix.shape = (11182, 15342)\n"
     ]
    }
   ],
   "source": [
    "test_matrix = small_dataset_df.pivot_table(index='product_id',columns='customer_id',values='star_rating').fillna(0)\n",
    "print(f'{test_matrix.shape = }')"
   ]
  },
  {
   "cell_type": "code",
   "execution_count": 13,
   "metadata": {
    "id": "xWG9zxKYRm1T"
   },
   "outputs": [],
   "source": [
    "# https://stackoverflow.com/questions/5194057/better-way-to-convert-file-sizes-in-python\n",
    "def convert_size(size_bytes):\n",
    "    if size_bytes == 0:\n",
    "        return \"0B\"\n",
    "    size_name = (\"B\",\"KB\",\"MB\",\"GB\",\"TB\",\"PB\",\"EB\",\"ZB\",\"YB\")\n",
    "    i = int(math.floor(math.log(size_bytes,1024)))\n",
    "    p = math.pow(1024,i)\n",
    "    s = round(size_bytes / p,2)\n",
    "    return \"%s %s\" % (s,size_name[i])"
   ]
  },
  {
   "cell_type": "code",
   "execution_count": 14,
   "metadata": {
    "colab": {
     "base_uri": "https://localhost:8080/"
    },
    "id": "Ws0Xv4AWHkXu",
    "outputId": "2dfcae35-2196-47ea-e35c-756d10e0658b"
   },
   "outputs": [
    {
     "name": "stdout",
     "output_type": "stream",
     "text": [
      "1.28 GB\n"
     ]
    }
   ],
   "source": [
    "print(convert_size(size_bytes=sys.getsizeof(test_matrix)))"
   ]
  },
  {
   "cell_type": "code",
   "execution_count": 15,
   "metadata": {
    "colab": {
     "base_uri": "https://localhost:8080/"
    },
    "id": "IoDkA8PEAHB5",
    "outputId": "797deccd-cd0d-41bd-b33a-2661326acd36"
   },
   "outputs": [
    {
     "name": "stdout",
     "output_type": "stream",
     "text": [
      "ratingMean = 4.2872,alwaysPredictMean[0:5] = [4.2872, 4.2872, 4.2872, 4.2872, 4.2872]\n",
      "labels[0:5] = [3, 5, 3, 5, 5]\n"
     ]
    }
   ],
   "source": [
    "ratingMean = sum(small_dataset_df['star_rating'].values) / len(small_dataset_df)\n",
    "alwaysPredictMean = [ratingMean]*len(small_dataset_df)\n",
    "print(f'{ratingMean = },{alwaysPredictMean[0:5] = }')\n",
    "\n",
    "labels = small_dataset_df['star_rating'].values.tolist()\n",
    "assert small_dataset_df['star_rating'].head().tolist() == labels[0:5]\n",
    "print(f'{labels[0:5] = }')"
   ]
  },
  {
   "cell_type": "code",
   "execution_count": null,
   "metadata": {
    "colab": {
     "base_uri": "https://localhost:8080/"
    },
    "id": "VplTi7_buJOA",
    "outputId": "1218fc8a-94d7-4211-edae-f73020faf280"
   },
   "outputs": [
    {
     "name": "stdout",
     "output_type": "stream",
     "text": [
      "1.510626389999875\n",
      "1.5766203176786246\n"
     ]
    }
   ],
   "source": [
    "def MSE(predictions,labels):\n",
    "    differences = [(x-y)**2 for x,y in zip(predictions,labels)]\n",
    "    return sum(differences) / len(differences)\n",
    "\n",
    "def Cosine(f1,f2):\n",
    "    f1,f2=np.array(f1),np.array(f2)\n",
    "    for a in range(len(f1)):\n",
    "        if f1[a]!=0:\n",
    "            f1[a]=f1[a]-np.mean(f1)\n",
    "        if f2[a]!=0:\n",
    "              f2[a]=f2[a]-np.mean(f2)\n",
    "    f3 = f1*f1\n",
    "    f4 = f2*f2\n",
    "    return np.round(np.dot(f1,f2)/(np.sqrt((f3).sum())*np.sqrt((f4).sum())),6)\n",
    "\n",
    "def predictRating(user,item):\n",
    "    ratings = []\n",
    "    similarities = []\n",
    "    for d in reviewsPerUser[user]:\n",
    "        i2 = d['product_id']\n",
    "        if i2 == item: continue\n",
    "        ratings.append(d['star_rating'])\n",
    "        similarities.append(Cosine(test_matrix.loc[item].values,test_matrix.loc[i2].values))\n",
    "    if (sum(similarities) > 0):\n",
    "        weightedRatings = [(x*y) for x,y in zip(ratings,similarities)]\n",
    "        return round((sum(weightedRatings) / sum(similarities)),6)\n",
    "    else:\n",
    "        # User hasn't rated any similar items\n",
    "        return ratingMean\n",
    "\n",
    "cfPredictions = [predictRating(d['customer_id'],d['product_id']) for d in small_dataset]\n",
    "print(MSE(alwaysPredictMean,labels))\n",
    "print(MSE(cfPredictions,labels))"
   ]
  },
  {
   "cell_type": "markdown",
   "metadata": {
    "id": "VnynpqYcQFVt"
   },
   "source": [
    "(optional/bonus task: you will get additional 25 points)\n",
    "download https://web.cs.wpi.edu/~kmlee/cs547/amazon_reviews_us_Musical_Instruments_v1_00_large.tsv.gz\n",
    "this dataset contains over 900K user-item reviews. repeat the above process (i.e.,meauring MSE with cosine). report the MSE and compare it with MSE of alwaysPredictMean. This optional task would require better data structure and implementation."
   ]
  },
  {
   "cell_type": "code",
   "execution_count": 17,
   "metadata": {
    "colab": {
     "base_uri": "https://localhost:8080/"
    },
    "id": "XvdtUx6vSOmQ",
    "outputId": "7e7bbd1f-64cb-42dc-f0de-83fa22ff705e"
   },
   "outputs": [
    {
     "name": "stdout",
     "output_type": "stream",
     "text": [
      "['marketplace', 'customer_id', 'review_id', 'product_id', 'product_parent', 'product_title', 'product_category', 'star_rating', 'helpful_votes', 'total_votes', 'vine', 'verified_purchase', 'review_headline', 'review_body', 'review_date']\n",
      "904765\n",
      "(904765, 15)\n"
     ]
    }
   ],
   "source": [
    "input_file_stream = open(file=\"./amazon_reviews_us_Musical_Instruments_v1_00_large.tsv\",mode='rt',encoding=\"utf8\")\n",
    "\n",
    "header = input_file_stream.readline().strip().split('\\t')\n",
    "print(header)\n",
    "\n",
    "large_dataset =[]\n",
    "for line1 in input_file_stream:\n",
    "    fields = line1.strip().split('\\t')\n",
    "    d = dict(zip(header,fields))\n",
    "    d['star_rating'] = int(d['star_rating'])\n",
    "    d['helpful_votes'] = int(d['helpful_votes'])\n",
    "    d['total_votes'] = int(d['total_votes'])\n",
    "    large_dataset.append(d)\n",
    "print(len(large_dataset))\n",
    "large_dataset_df = pd.DataFrame(large_dataset)\n",
    "print(large_dataset_df.shape)"
   ]
  },
  {
   "cell_type": "code",
   "execution_count": 19,
   "metadata": {
    "colab": {
     "base_uri": "https://localhost:8080/"
    },
    "id": "qdAEjK4UJMCR",
    "outputId": "9d3f1be7-37eb-427d-8eee-76275ea03ebf"
   },
   "outputs": [
    {
     "name": "stdout",
     "output_type": "stream",
     "text": [
      "\n",
      "marketplace : Unique Values -> 1,Values -> ['US']\n",
      "\n",
      "customer_id : Unique Values -> 573149\n",
      "\n",
      "review_id : Unique Values -> 904765\n",
      "\n",
      "product_id : Unique Values -> 123328\n",
      "\n",
      "product_parent : Unique Values -> 107163\n",
      "\n",
      "product_title : Unique Values -> 110981\n",
      "\n",
      "product_category : Unique Values -> 1,Values -> ['Musical Instruments']\n",
      "\n",
      "star_rating : Unique Values -> 5,Values -> [3 5 2 4 1]\n",
      "\n",
      "helpful_votes : Unique Values -> 414\n",
      "\n",
      "total_votes : Unique Values -> 432\n",
      "\n",
      "vine : Unique Values -> 2,Values -> ['N' 'Y']\n",
      "\n",
      "verified_purchase : Unique Values -> 2,Values -> ['N' 'Y']\n",
      "\n",
      "review_headline : Unique Values -> 529954\n",
      "\n",
      "review_body : Unique Values -> 851789\n",
      "\n",
      "review_date : Unique Values -> 4558\n"
     ]
    }
   ],
   "source": [
    "for c_name in large_dataset_df.columns:\n",
    "    unique_val = large_dataset_df[c_name].nunique()\n",
    "    if unique_val<11:\n",
    "        print(f'\\n{c_name} : Unique Values -> {unique_val},Values -> {large_dataset_df[c_name].unique()}')\n",
    "    else:\n",
    "        print(f'\\n{c_name} : Unique Values -> {unique_val}')"
   ]
  },
  {
   "cell_type": "code",
   "execution_count": 18,
   "metadata": {
    "colab": {
     "base_uri": "https://localhost:8080/"
    },
    "id": "OIN7WJbxHdyy",
    "outputId": "ac69c737-5fc4-4f7d-c4d5-9d5ae6480c31"
   },
   "outputs": [
    {
     "name": "stdout",
     "output_type": "stream",
     "text": [
      "ratingMean = 4.251102772543146,alwaysPredictMean[0:5] = [4.251102772543146, 4.251102772543146, 4.251102772543146, 4.251102772543146, 4.251102772543146]\n",
      "labels[0:5] = [3, 5, 3, 5, 5]\n"
     ]
    }
   ],
   "source": [
    "ratingMean = sum(large_dataset_df['star_rating'].values) / len(large_dataset_df)\n",
    "alwaysPredictMean = [ratingMean]*len(large_dataset_df)\n",
    "print(f'{ratingMean = },{alwaysPredictMean[0:5] = }')\n",
    "\n",
    "labels = large_dataset_df['star_rating'].values.tolist()\n",
    "assert large_dataset_df['star_rating'].head().tolist() == labels[0:5]\n",
    "print(f'{labels[0:5] = }')\n",
    "\n",
    "reviewsPerUser = defaultdict(list)\n",
    "reviewsPerItem = defaultdict(list)\n",
    "for d in large_dataset:\n",
    "    user,item = d['customer_id'],d['product_id']\n",
    "    reviewsPerUser[user].append(d)\n",
    "    reviewsPerItem[item].append(d)"
   ]
  },
  {
   "cell_type": "code",
   "execution_count": null,
   "metadata": {
    "colab": {
     "base_uri": "https://localhost:8080/"
    },
    "id": "OpQNsv8DD9Z5",
    "outputId": "16bb522a-0c91-48e0-8ae9-e6b93e2f009d"
   },
   "outputs": [
    {
     "name": "stdout",
     "output_type": "stream",
     "text": [
      "1.528524000000084\n"
     ]
    }
   ],
   "source": [
    "def predictRatingCosine(user,item):\n",
    "    ratings = []\n",
    "    similarities = []\n",
    "    for d in reviewsPerUser[user]:\n",
    "        i2 = d['product_id']\n",
    "        if i2 == item:\n",
    "            continue\n",
    "        if i2 in test_matrix.indices and user in test_matrix.indptr:\n",
    "            ratings.append(float(test_matrix[i2,user]))\n",
    "            similarities.append(Cosine(test_matrix[i2].toarray()[0].astype(float),test_matrix[item].toarray()[0].astype(float)))\n",
    "    if sum(similarities) > 0:\n",
    "        weightedRatings = [(x * y) for x,y in zip(ratings,similarities)]\n",
    "        return sum(weightedRatings) / sum(similarities)\n",
    "    else:\n",
    "        # User hasn't rated any similar items\n",
    "        return ratingMean\n",
    "\n",
    "cfPredictions = [predictRatingCosine(d['customer_id'],d['product_id']) for d in large_dataset]\n",
    "print(MSE(cfPredictions,large_dataset_df['star_rating']))"
   ]
  },
  {
   "cell_type": "markdown",
   "metadata": {
    "id": "5WnA1LZqQFVu"
   },
   "source": [
    "*-----------------\n",
    "# Done\n",
    "\n",
    "All set!\n",
    "\n",
    "** What do you need to submit?**\n",
    "\n",
    "* **hw4.ipynb Notebook File**: Save this Jupyter notebook with all output,and find the notebook file in your folder (for example,\"filename.ipynb\"). This is the file you need to submit.\n",
    "\n",
    "** How to submit: **\n",
    "        Please submit through canvas.wpi.edu\n"
   ]
  }
 ],
 "metadata": {
  "colab": {
   "provenance": []
  },
  "kernelspec": {
   "display_name": "Python 3 (ipykernel)",
   "language": "python",
   "name": "python3"
  },
  "language_info": {
   "codemirror_mode": {
    "name": "ipython",
    "version": 3
   },
   "file_extension": ".py",
   "mimetype": "text/x-python",
   "name": "python",
   "nbconvert_exporter": "python",
   "pygments_lexer": "ipython3",
   "version": "3.11.5"
  }
 },
 "nbformat": 4,
 "nbformat_minor": 1
}
